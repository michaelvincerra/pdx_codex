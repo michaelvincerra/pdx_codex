{
 "cells": [
  {
   "cell_type": "code",
   "execution_count": null,
   "metadata": {
    "collapsed": true
   },
   "outputs": [],
   "source": []
  },
  {
   "cell_type": "code",
   "execution_count": null,
   "metadata": {
    "collapsed": true
   },
   "outputs": [],
   "source": [
    "wrd1 = list(wrd1).replace('.','').casefold().replace(' ','')"
   ]
  },
  {
   "cell_type": "code",
   "execution_count": null,
   "metadata": {
    "collapsed": true
   },
   "outputs": [],
   "source": [
    "no_responses = ('no', 'nah', 'nope', 'no', '',)\n",
    "\n",
    "yes_responses = ('yes', 'ya', 'yup')\n",
    "\n",
    "\n",
    "def greeting():\n",
    "\n",
    "  greet = input('Hello, would you like to play the number guessing game? \\n >>')\n",
    "\n",
    "  if greet in yes_responses:\n",
    "\n",
    "    print('Ok lets go!')\n",
    "\n",
    "  else:\n",
    "\n",
    "    print('Ok no problem, see you later')\n",
    "\n",
    "    return quit()\n",
    "\n",
    "\n",
    "answer = True\n",
    "\n",
    "while answer:\n",
    "\n",
    "  greeting()\n",
    "\n",
    "  answers = random.randint(1, 2000000000)\n",
    "\n",
    "  gather_input = input('What is a number between one and 2 billion? \\n >>')\n",
    "\n",
    "  if gather_input == answers:\n",
    "\n",
    "    print('Great Job! ')\n",
    "\n",
    "    break\n",
    "\n",
    "  else:\n",
    "\n",
    "    print('Oh you got a long way to go! ')\n",
    "\n",
    "\n",
    "\n",
    "\n",
    "hi_number = 2_000_000_000\n",
    "\n",
    "low_number = 0\n",
    "\n",
    "\n",
    "\n",
    "\n",
    "\n",
    "print('Thanks for playing')"
   ]
  },
  {
   "cell_type": "code",
   "execution_count": null,
   "metadata": {
    "collapsed": true
   },
   "outputs": [],
   "source": []
  },
  {
   "cell_type": "code",
   "execution_count": null,
   "metadata": {
    "collapsed": true
   },
   "outputs": [],
   "source": [
    "Write a test based python game to simulate a classic \"Magic Eight Ball\".\n",
    "\n",
    "##### Instructions\n",
    "\n",
    "- Print a welcome screen to the user.\n",
    "- use the random module's `random.choice()` to choose a prediction (or with your own clever logic).\n",
    "- Display the result of the 8 ball.\n",
    "- Ask the user if they want to play again.\n",
    "- Say Goodbye on exit.\n",
    "\n",
    "#### Documentation\n",
    "\n",
    "1. [Python Official: Random: `random.choice()`](https://docs.python.org/3/library/random.html#random.choice)\n",
    "\n",
    "#### Key Concepts\n",
    "\n",
    "- Event Loops\n",
    "- User I/O\n",
    "- Random Module\n",
    "\n",
    "\"\"\"\n",
    "\n",
    "import random\n",
    "\n",
    "import sys\n",
    "\n",
    "import time\n",
    "\n",
    "affirmatives = ['yes', 'yeah', 'yea', 'yup', 'yass', 'y', 'ya', 'gea', 'ok']\n",
    "\n",
    "\"\"\"\n",
    "I can't take credit for the slow_print function. I found this trick on http://stackoverflow.com/\n",
    "\"\"\"\n",
    "\n",
    "\n",
    "def slow_print(type_out):\n",
    "    \"\"\"Slows printing to emulate natural typing.\"\"\"\n",
    "    for letter in type_out:\n",
    "        sys.stdout.write(letter)\n",
    "        sys.stdout.flush()\n",
    "        time.sleep(0.125)\n",
    "\n",
    "\n",
    "def gather_more():\n",
    "    \"\"\"Follow up user-input boolean processor.\"\"\"\n",
    "    print('')\n",
    "    type_out = 'Have I slaked your thirst to know? '\n",
    "    slow_print(type_out)\n",
    "    yea_or_nay_for_more = input('>> ')\n",
    "\n",
    "    if yea_or_nay_for_more in affirmatives:\n",
    "        type_out = '''\n",
    "            \"Perhaps one day men will no longer be interested in the unknown, no longer tantalized by mystery. \\n\n",
    "             This is possible, but when man loses his curiosity one feels he will have lost most of the other \\n\n",
    "             things that make him human.\" \\n\n",
    "             Arthur C. Clarke, The Promise of Space \\n\n",
    "             Stay curious my friend.'''\n",
    "\n",
    "        slow_print(type_out)\n",
    "\n",
    "    else:\n",
    "        type_out = 'Ask away. '\n",
    "        slow_print(type_out)\n",
    "        query = input('>> ')\n",
    "        cleromancer(query)\n",
    "\n",
    "\n",
    "def positives(roll):\n",
    "    if roll == 1:\n",
    "        type_out = 'Totally dude.'\n",
    "        slow_print(type_out)\n",
    "        gather_more()\n",
    "\n",
    "    if roll == 2:\n",
    "        type_out = 'Yup.'\n",
    "        slow_print(type_out)\n",
    "        gather_more()\n",
    "\n",
    "    if roll == 3:\n",
    "        type_out = 'That\\'s an affirm.'\n",
    "        slow_print(type_out)\n",
    "        gather_more()\n",
    "\n",
    "    if roll == 4:\n",
    "        type_out = 'Without a doubt.'\n",
    "        slow_print(type_out)\n",
    "        gather_more()\n",
    "\n",
    "    if roll == 5:\n",
    "        type_out = 'Uh, lemme check my Magic 8 Ball.                                       \\nYeah, man. Definitely.'\n",
    "        slow_print(type_out)\n",
    "        gather_more()\n",
    "\n",
    "    if roll == 6:\n",
    "        type_out = 'Abso-frickin-lutely.'\n",
    "        slow_print(type_out)\n",
    "        gather_more()\n",
    "\n",
    "    if roll == 7:\n",
    "        type_out = 'Probably. It\\'s a good bet.'\n",
    "        slow_print(type_out)\n",
    "        gather_more()\n",
    "\n",
    "    if roll == 8:\n",
    "        type_out = 'Is the Pope Catholic?'\n",
    "        slow_print(type_out)\n",
    "        gather_more()\n",
    "\n",
    "    if roll == 9:\n",
    "        type_out = 'Yessiree.'\n",
    "        slow_print(type_out)\n",
    "        gather_more()\n",
    "\n",
    "    if roll == 10:\n",
    "        type_out = 'My alt-right neighbor says no so I\\'m pretty sure the answer\\'s yes.'\n",
    "        slow_print(type_out)\n",
    "        gather_more()\n",
    "\n",
    "\n",
    "def neutrals(roll):\n",
    "    if roll == 11:\n",
    "        type_out = 'Sorry, I wasn\\'t listening.'\n",
    "        slow_print(type_out)\n",
    "        gather_more()\n",
    "\n",
    "    if roll == 12:\n",
    "        type_out = 'That\\'s a dumb question so I\\'m just gunna laugh at you now.\\nlol'\n",
    "        slow_print(type_out)\n",
    "        gather_more()\n",
    "\n",
    "    if roll == 13:\n",
    "        type_out = 'I\\'ve decided it would be funny if I didn\\'t tell you.'\n",
    "        slow_print(type_out)\n",
    "        gather_more()\n",
    "\n",
    "    if roll == 14:\n",
    "        type_out = 'Uh...you\\'re not going to believe this but my hovercraft is full of eels. brb     '\n",
    "        slow_print(type_out)\n",
    "        gather_more()\n",
    "\n",
    "    if roll == 15:\n",
    "        type_out = 'Ummm, who are you again?'\n",
    "        slow_print(type_out)\n",
    "        gather_more()\n",
    "\n",
    "\n",
    "def negatives(roll):\n",
    "    if roll == 16:\n",
    "        type_out = 'Totally negatory.'\n",
    "        slow_print(type_out)\n",
    "        gather_more()\n",
    "\n",
    "    if roll == 17:\n",
    "        type_out = 'Nope.'\n",
    "        slow_print(type_out)\n",
    "        gather_more()\n",
    "\n",
    "    if roll == 18:\n",
    "        type_out = 'I asked this chick down at the bar that same question and she said, \\\"Never in a thousand years.\\\"'\n",
    "        slow_print(type_out)\n",
    "        gather_more()\n",
    "\n",
    "    if roll == 19:\n",
    "        type_out = 'Like that\\'s ever gunna happen. lol'\n",
    "        slow_print(type_out)\n",
    "        gather_more()\n",
    "\n",
    "    if roll == 20:\n",
    "        type_out = 'Wow, really? Never dude. Stupid question.'\n",
    "        slow_print(type_out)\n",
    "        gather_more()\n",
    "\n",
    "\n",
    "def cleromancer(query):\n",
    "    roll = random.randrange(1, 20, )\n",
    "\n",
    "    if roll in range(1, 10):\n",
    "        positives(roll)()\n",
    "\n",
    "    elif roll in range(11, 15):\n",
    "        neutrals(roll)\n",
    "\n",
    "    else:\n",
    "        negatives(roll)\n",
    "\n",
    "\n",
    "def gather():\n",
    "    \"\"\"\n",
    "    Prints a welcome screen to the user and gathers initial input (boolean).\n",
    "    \"\"\"\n",
    "    type_out = '''I am Magic 8 Ball!\\nI answer questions, any and all.\\nBut take care in your play.\\nYou may not like what I have to say.\\nDo you wish to ask me something? '''\n",
    "    slow_print(type_out)\n",
    "    yea_or_nay_to_play = input('>> ').lower()\n",
    "\n",
    "    if yea_or_nay_to_play in affirmatives:\n",
    "        type_out = 'Ask away. '\n",
    "        slow_print(type_out)\n",
    "        query = input('>> ')\n",
    "        cleromancer(query)\n",
    "\n",
    "    else:\n",
    "        type_out = 'Fine then. Go away. \\n'\n",
    "        slow_print(type_out)\n",
    "\n",
    "\n",
    "gather()"
   ]
  },
  {
   "cell_type": "code",
   "execution_count": null,
   "metadata": {
    "collapsed": true
   },
   "outputs": [],
   "source": [
    "results = list()\n",
    "groups = ['Judas Priest','Eageles','Deep Purple','Grateful Dead','Florida Georgia Line']\n",
    "\n",
    "for group in groups:\n",
    "    if group.count(' ') == 1:\n",
    "        results.append(group)\n",
    "print(results)"
   ]
  },
  {
   "cell_type": "code",
   "execution_count": null,
   "metadata": {
    "collapsed": true
   },
   "outputs": [],
   "source": [
    "[group for group in groups if group.count() == 1]"
   ]
  },
  {
   "cell_type": "code",
   "execution_count": null,
   "metadata": {
    "collapsed": true
   },
   "outputs": [],
   "source": []
  },
  {
   "cell_type": "code",
   "execution_count": null,
   "metadata": {
    "collapsed": true
   },
   "outputs": [],
   "source": [
    "natl_langs = (('Spain', 'Spanish'),\n",
    "             ('France', 'French'),\n",
    "             ('Italy', 'Italian'))"
   ]
  },
  {
   "cell_type": "code",
   "execution_count": null,
   "metadata": {
    "collapsed": true
   },
   "outputs": [],
   "source": [
    "natl_langs[::2]  # step over every other"
   ]
  },
  {
   "cell_type": "code",
   "execution_count": null,
   "metadata": {
    "collapsed": true
   },
   "outputs": [],
   "source": [
    "# try to write the above formula in a list comprehension in at least 2 ways."
   ]
  },
  {
   "cell_type": "markdown",
   "metadata": {},
   "source": [
    "# Tuple Unpacking"
   ]
  },
  {
   "cell_type": "code",
   "execution_count": null,
   "metadata": {
    "collapsed": true
   },
   "outputs": [],
   "source": [
    "i, value = (0, False)   # for tuple unpacking, there must be equal amounts on both sides of the expression ="
   ]
  },
  {
   "cell_type": "code",
   "execution_count": null,
   "metadata": {
    "collapsed": true
   },
   "outputs": [],
   "source": []
  },
  {
   "cell_type": "markdown",
   "metadata": {
    "collapsed": true
   },
   "source": [
    "# Star Unpacking Expr"
   ]
  },
  {
   "cell_type": "code",
   "execution_count": null,
   "metadata": {
    "collapsed": true
   },
   "outputs": [],
   "source": [
    "f, s, *pups = ('kermit', 'hand', 'shadow', 'pupi','marionette') # CHECK THE  VERSION OF PYTHON\n",
    "# if you use * in a packing, it gives you a list"
   ]
  },
  {
   "cell_type": "markdown",
   "metadata": {},
   "source": [
    "# Star expressions inside function def"
   ]
  },
  {
   "cell_type": "code",
   "execution_count": null,
   "metadata": {
    "collapsed": true
   },
   "outputs": [],
   "source": [
    "def combine(*unicorns): # if you use * in a function, it gives you a tuple\n",
    "    print('Packed Tuple:', unicorns)"
   ]
  },
  {
   "cell_type": "code",
   "execution_count": null,
   "metadata": {
    "collapsed": true
   },
   "outputs": [],
   "source": [
    "combine(1,2,3,4)"
   ]
  },
  {
   "cell_type": "code",
   "execution_count": null,
   "metadata": {
    "collapsed": true
   },
   "outputs": [],
   "source": [
    "def combine(*unicorns):\n",
    "    print('Packed Tuple:', type(unicorns), unicorns)\n",
    "    return sum(unicorns)"
   ]
  },
  {
   "cell_type": "code",
   "execution_count": null,
   "metadata": {
    "collapsed": true
   },
   "outputs": [],
   "source": [
    "combine(1, 2, 3, 4) # This is the result of using 'sum' in the function above.  1+2+3+4"
   ]
  },
  {
   "cell_type": "markdown",
   "metadata": {},
   "source": [
    "# Unpacking "
   ]
  },
  {
   "cell_type": "code",
   "execution_count": null,
   "metadata": {
    "collapsed": true
   },
   "outputs": [],
   "source": [
    "def combine(a,b,c,d,e,f,g,h,i):\n",
    "    return a+b+c+d+e+f+g+h+i"
   ]
  },
  {
   "cell_type": "code",
   "execution_count": null,
   "metadata": {
    "collapsed": true
   },
   "outputs": [],
   "source": [
    "data = [1,2,5,42,32,7,12,83,90] # Passing these through as 9 different parameters executes them per def combine. \n",
    "combine(*data) # *data is passing ALL these numbers into the function"
   ]
  },
  {
   "cell_type": "code",
   "execution_count": null,
   "metadata": {
    "collapsed": true
   },
   "outputs": [],
   "source": [
    "combine('roz','ron','sam', 'sup', 'sip', 'son','too','tip','top') # as long as the QUANTITY of items match, it combines"
   ]
  },
  {
   "cell_type": "code",
   "execution_count": null,
   "metadata": {
    "collapsed": true
   },
   "outputs": [],
   "source": []
  },
  {
   "cell_type": "markdown",
   "metadata": {},
   "source": [
    "# Kwargs: Default vs Named Formal Parameters"
   ]
  },
  {
   "cell_type": "code",
   "execution_count": null,
   "metadata": {
    "collapsed": true
   },
   "outputs": [],
   "source": [
    "def jam(bread, butter):   # Because bread and butter do not have an equal sign, they are required\n",
    "    print(bread,butter)"
   ]
  },
  {
   "cell_type": "code",
   "execution_count": null,
   "metadata": {
    "collapsed": true
   },
   "outputs": [],
   "source": [
    "jam(bread='rye', butter='old') # Labeled Arguments. This is required if label appears at the invocation."
   ]
  },
  {
   "cell_type": "markdown",
   "metadata": {},
   "source": [
    "# Default / Optional Formal Params."
   ]
  },
  {
   "cell_type": "code",
   "execution_count": null,
   "metadata": {
    "collapsed": true
   },
   "outputs": [],
   "source": [
    "def say_hello(who, word='hello'): # args b4 kwargs. When one kwarg is passed in function, keyword arguments \n",
    "    print(word)                   # become REQUIRED at invocation, below.  Note kwargs' values are replaceable."
   ]
  },
  {
   "cell_type": "code",
   "execution_count": null,
   "metadata": {
    "collapsed": true
   },
   "outputs": [],
   "source": [
    "say_hello(who=\"Zoppo\", word='Va boh!')"
   ]
  },
  {
   "cell_type": "code",
   "execution_count": null,
   "metadata": {
    "collapsed": true
   },
   "outputs": [],
   "source": []
  },
  {
   "cell_type": "markdown",
   "metadata": {},
   "source": [
    "# Higher Order Functions"
   ]
  },
  {
   "cell_type": "markdown",
   "metadata": {},
   "source": [
    "- min  # 'key' function means that you can pass in a parameters\n",
    "- max\n",
    "- min\n",
    "- abs\n",
    "- sorted\n",
    "- order\n",
    "- filter\n",
    "\n",
    "\n",
    "# if it's not higher order function, its a first-order function: print()\n"
   ]
  },
  {
   "cell_type": "code",
   "execution_count": 2,
   "metadata": {
    "collapsed": true
   },
   "outputs": [],
   "source": [
    "imaginary = [2, 4, 8, 10,18, 224]"
   ]
  },
  {
   "cell_type": "code",
   "execution_count": 3,
   "metadata": {
    "collapsed": true
   },
   "outputs": [],
   "source": [
    "hello = ['Bonjour', 'Ciao', 'Ni How', 'Konichiwa', 'Anyo Han Sayo']"
   ]
  },
  {
   "cell_type": "code",
   "execution_count": 6,
   "metadata": {},
   "outputs": [
    {
     "ename": "AttributeError",
     "evalue": "module 'string' has no attribute 'ascii'",
     "output_type": "error",
     "traceback": [
      "\u001b[0;31m---------------------------------------------------------------------------\u001b[0m",
      "\u001b[0;31mAttributeError\u001b[0m                            Traceback (most recent call last)",
      "\u001b[0;32m<ipython-input-6-477fac13e1e8>\u001b[0m in \u001b[0;36m<module>\u001b[0;34m()\u001b[0m\n\u001b[1;32m      1\u001b[0m \u001b[0;32mimport\u001b[0m \u001b[0mstring\u001b[0m\u001b[0;34m\u001b[0m\u001b[0m\n\u001b[0;32m----> 2\u001b[0;31m \u001b[0mstring\u001b[0m\u001b[0;34m.\u001b[0m\u001b[0mascii\u001b[0m\u001b[0;34m.\u001b[0m\u001b[0mletters\u001b[0m\u001b[0;34m(\u001b[0m\u001b[0;34m)\u001b[0m\u001b[0;34m\u001b[0m\u001b[0m\n\u001b[0m",
      "\u001b[0;31mAttributeError\u001b[0m: module 'string' has no attribute 'ascii'"
     ]
    }
   ],
   "source": [
    "import string\n",
    "string.ascii.letters()"
   ]
  },
  {
   "cell_type": "code",
   "execution_count": null,
   "metadata": {
    "collapsed": true
   },
   "outputs": [],
   "source": []
  },
  {
   "cell_type": "code",
   "execution_count": null,
   "metadata": {
    "collapsed": true
   },
   "outputs": [],
   "source": []
  },
  {
   "cell_type": "code",
   "execution_count": 7,
   "metadata": {},
   "outputs": [
    {
     "data": {
      "text/plain": [
       "'Ni How'"
      ]
     },
     "execution_count": 7,
     "metadata": {},
     "output_type": "execute_result"
    }
   ],
   "source": [
    "max(hello) # finds the latest occurence within ASCII/ ordinal char"
   ]
  },
  {
   "cell_type": "code",
   "execution_count": 8,
   "metadata": {},
   "outputs": [
    {
     "data": {
      "text/plain": [
       "'Anyo Han Sayo'"
      ]
     },
     "execution_count": 8,
     "metadata": {},
     "output_type": "execute_result"
    }
   ],
   "source": [
    "min(hello) # finds the earliest occurence within ASCII/ ordinal char"
   ]
  },
  {
   "cell_type": "code",
   "execution_count": 9,
   "metadata": {},
   "outputs": [
    {
     "data": {
      "text/plain": [
       "'Anyo Han Sayo'"
      ]
     },
     "execution_count": 9,
     "metadata": {},
     "output_type": "execute_result"
    }
   ],
   "source": [
    "def return_len(word):\n",
    "    return len(word)\n",
    "\n",
    "max(hello, key=return_len) # passes in the function object ; it returns the longest STRING element."
   ]
  },
  {
   "cell_type": "code",
   "execution_count": 10,
   "metadata": {},
   "outputs": [
    {
     "data": {
      "text/plain": [
       "'Ciao'"
      ]
     },
     "execution_count": 10,
     "metadata": {},
     "output_type": "execute_result"
    }
   ],
   "source": [
    "def return_len(word):\n",
    "    return len(word)\n",
    "\n",
    "min(hello, key=return_len) # passes in the function object ; it returns the longest STRING element."
   ]
  },
  {
   "cell_type": "code",
   "execution_count": 38,
   "metadata": {},
   "outputs": [
    {
     "data": {
      "text/plain": [
       "['a', 'e', 'i', 'k', 'n', 'r']"
      ]
     },
     "execution_count": 38,
     "metadata": {},
     "output_type": "execute_result"
    }
   ],
   "source": [
    "sorted('kieran') # sorted by ordinal alphabet"
   ]
  },
  {
   "cell_type": "code",
   "execution_count": 37,
   "metadata": {},
   "outputs": [
    {
     "data": {
      "text/plain": [
       "['Ciao', 'Ni How', 'Bonjour', 'Konichiwa', 'Anyo Han Sayo']"
      ]
     },
     "execution_count": 37,
     "metadata": {},
     "output_type": "execute_result"
    }
   ],
   "source": [
    "sorted(hello, key=return_len) # return the function return_len sorted by ordinal"
   ]
  },
  {
   "cell_type": "code",
   "execution_count": null,
   "metadata": {
    "collapsed": true
   },
   "outputs": [],
   "source": [
    "def helper(word): # helper is a function that only SERVES the sorted list below. \n",
    "    return word[-1] #sort by the last char in every string and reverese the result\n",
    "sorted(hello, key=helper, reverse=True)\n",
    "\n",
    "# if 'key' is noted, you can use a helper function."
   ]
  },
  {
   "cell_type": "code",
   "execution_count": 11,
   "metadata": {
    "collapsed": true
   },
   "outputs": [],
   "source": [
    "nums = [12, 6, 3, 10, 32, 16, 8, 4, 2]"
   ]
  },
  {
   "cell_type": "code",
   "execution_count": 12,
   "metadata": {},
   "outputs": [
    {
     "data": {
      "text/plain": [
       "[12, 6, 3, 10, 32, 16, 8, 4, 2]"
      ]
     },
     "execution_count": 12,
     "metadata": {},
     "output_type": "execute_result"
    }
   ],
   "source": [
    "[num for num in nums]"
   ]
  },
  {
   "cell_type": "code",
   "execution_count": 13,
   "metadata": {},
   "outputs": [
    {
     "data": {
      "text/plain": [
       "[24, 12, 6, 20, 64, 32, 16, 8, 4]"
      ]
     },
     "execution_count": 13,
     "metadata": {},
     "output_type": "execute_result"
    }
   ],
   "source": [
    "[num*2 for num in nums]"
   ]
  },
  {
   "cell_type": "code",
   "execution_count": 14,
   "metadata": {},
   "outputs": [
    {
     "data": {
      "text/plain": [
       "['12', '6', '3', '10', '32', '16', '8', '4', '2']"
      ]
     },
     "execution_count": 14,
     "metadata": {},
     "output_type": "execute_result"
    }
   ],
   "source": [
    "list(map(str, nums))"
   ]
  },
  {
   "cell_type": "code",
   "execution_count": 15,
   "metadata": {},
   "outputs": [
    {
     "data": {
      "text/plain": [
       "('12', '6', '3', '10', '32', '16', '8', '4', '2')"
      ]
     },
     "execution_count": 15,
     "metadata": {},
     "output_type": "execute_result"
    }
   ],
   "source": [
    "tuple(map(str, nums))"
   ]
  },
  {
   "cell_type": "code",
   "execution_count": 16,
   "metadata": {},
   "outputs": [
    {
     "data": {
      "text/plain": [
       "[6, 3, 10, 8, 4, 2]"
      ]
     },
     "execution_count": 16,
     "metadata": {},
     "output_type": "execute_result"
    }
   ],
   "source": [
    "def helper(num):\n",
    "    if num > 10:\n",
    "        return False\n",
    "    else:\n",
    "        return True\n",
    "\n",
    "list(filter(helper, nums))"
   ]
  },
  {
   "cell_type": "code",
   "execution_count": 19,
   "metadata": {},
   "outputs": [
    {
     "data": {
      "text/plain": [
       "['6', '3', '10', '8', '4', '2']"
      ]
     },
     "execution_count": 19,
     "metadata": {},
     "output_type": "execute_result"
    }
   ],
   "source": [
    "def helper(num):\n",
    "    if num > 10:\n",
    "        return False\n",
    "    else:\n",
    "        return True\n",
    "\n",
    "list(map(str, filter(helper, nums)))   # order of operations is always inner to outer"
   ]
  },
  {
   "cell_type": "code",
   "execution_count": 18,
   "metadata": {},
   "outputs": [
    {
     "data": {
      "text/plain": [
       "['6', '3', '8', '4', '2']"
      ]
     },
     "execution_count": 18,
     "metadata": {},
     "output_type": "execute_result"
    }
   ],
   "source": [
    "[str(num) for num in nums if num < 10]  #using str(num) casts each int as a string."
   ]
  },
  {
   "cell_type": "code",
   "execution_count": null,
   "metadata": {
    "collapsed": true
   },
   "outputs": [],
   "source": [
    "data = [1, 2, 3, 4, 5, 6, 7, 6, 5, 4, 5, 6, 7, 8, 9, 8, 7, 6, 7, 8, 9]\n",
    "\n",
    "points_of_interest = peaks_and_valleys(data)\n",
    "\n",
    "# chop(data, points_of_interest)\n",
    "# [[1, 2, 3, 4, 5, 6, 7], [6, 5, 4], [5, 6, 7, 8, 9], [8, 7, 6], [7, 8, 9]]\n",
    "\n",
    "def peaks(data):\n",
    "    results = []\n",
    "    for index, num in enumerate(data):  # index is the POSITION index;  num is the stored VALUE at that index\n",
    "        if index == 0 or index == (len(data) - 1):  # edge detection; removes first and last item from search\n",
    "            continue\n",
    "        this_one = num  # value of current index\n",
    "        next_one = data[index + 1]  # value at next pos\n",
    "        prev_one = data[index - 1]  # value at previous position\n",
    "\n",
    "        if this_one > next_one and this_one > prev_one:\n",
    "            results.append(index)\n",
    "    return results\n",
    "\n",
    "\n",
    "def valleys(data):\n",
    "    results = []\n",
    "    for index, num in enumerate(data):  # index is the POSITION index;  num is the stored VALUE at that index\n",
    "        if index == 0 or index == (len(data) - 1):  # edge detection; removes first and last item from search\n",
    "            continue\n",
    "        this_one = num  # value of current index\n",
    "        next_one = data[index + 1]  # value at next pos\n",
    "        prev_one = data[index - 1]  # value at previous position\n",
    "\n",
    "        if this_one < next_one and this_one < prev_one:  # this is the only line that changes compared to above.\n",
    "            results.append(index)\n",
    "    return results\n",
    "\n",
    "\n",
    "def peaks_and_valleys(data):\n",
    "\n",
    "    return sorted(peaks(data) + valleys(data)) \n",
    "\n",
    "def chop(data, points_of_interest):\n",
    "\n",
    "    # this uses peaks and valleys  as the start and stop\n",
    "\n",
    "    results = []\n",
    "\n",
    "    for index, num in enumerate(points_of_interest):  # index is the POSITION index;  num is the stored VALUE at that index\n",
    "        if index == 0 or index == (len(points_of_interest) - 1):  # edge detection; removes first and last item from search\n",
    "            continue\n",
    "\n",
    "        this_one = num                            # value of current index\n",
    "        next_one = points_of_interest[index + 1]  # value at next pos\n",
    "\n",
    "        if this_one > next_one:\n",
    "            results.append(index[num])\n",
    "\n",
    "    return results"
   ]
  },
  {
   "cell_type": "code",
   "execution_count": null,
   "metadata": {
    "collapsed": true
   },
   "outputs": [],
   "source": [
    "def combine(*unicorns):  # * makes it a tuple; # argument that can take an arbitrary number of \n",
    "    print(\"Packed Tuple:\", type(unicorns), unicorns)\n",
    "    \n",
    "#     return tuple(unicorns)"
   ]
  },
  {
   "cell_type": "code",
   "execution_count": null,
   "metadata": {
    "collapsed": true
   },
   "outputs": [],
   "source": [
    "combine('Sam', 'Jerry', 'Noah', 'David')"
   ]
  },
  {
   "cell_type": "code",
   "execution_count": null,
   "metadata": {
    "collapsed": true
   },
   "outputs": [],
   "source": [
    "combine(1, 2, 3, None, False)"
   ]
  },
  {
   "cell_type": "code",
   "execution_count": null,
   "metadata": {
    "collapsed": true
   },
   "outputs": [],
   "source": [
    "backwards = ['ruojnoB', 'oaiC', 'woH iN', 'awihcinoK', 'oyaS naH oynA']"
   ]
  },
  {
   "cell_type": "code",
   "execution_count": null,
   "metadata": {
    "collapsed": true
   },
   "outputs": [],
   "source": [
    "sorted(backwards, key=lambda w: w[-1])"
   ]
  },
  {
   "cell_type": "code",
   "execution_count": null,
   "metadata": {
    "collapsed": true
   },
   "outputs": [],
   "source": [
    "def helper(w):\n",
    "    return w[-1]\n",
    "\n",
    "sorted(backwards, key=helper)"
   ]
  },
  {
   "cell_type": "markdown",
   "metadata": {},
   "source": [
    "# KWARGS Keyword Arguments"
   ]
  },
  {
   "cell_type": "code",
   "execution_count": 1,
   "metadata": {
    "collapsed": true
   },
   "outputs": [],
   "source": [
    "### Args vs Kwargs: What's the difference?"
   ]
  },
  {
   "cell_type": "code",
   "execution_count": 2,
   "metadata": {
    "collapsed": true
   },
   "outputs": [],
   "source": [
    "# Kwargs at Call Time/Invocation"
   ]
  },
  {
   "cell_type": "code",
   "execution_count": 34,
   "metadata": {
    "collapsed": true
   },
   "outputs": [],
   "source": [
    "def initely(this, that, this_and):\n",
    "    \"\"\" A function that has exactly THREE(3) Required Arguments\"\"\"\n",
    "    print(this, that, this_and)"
   ]
  },
  {
   "cell_type": "code",
   "execution_count": 35,
   "metadata": {},
   "outputs": [
    {
     "name": "stdout",
     "output_type": "stream",
     "text": [
      "None screen HDMI\n"
     ]
    }
   ],
   "source": [
    "initely(this=None, that='screen', this_and='HDMI')   # This is KWARGS Do this 100% of the time at invocation"
   ]
  },
  {
   "cell_type": "markdown",
   "metadata": {},
   "source": [
    "# Settting  a default param with keyword args"
   ]
  },
  {
   "cell_type": "code",
   "execution_count": 1,
   "metadata": {
    "collapsed": true
   },
   "outputs": [],
   "source": [
    "def er(ent, ce, it, xx=0, xy=0):  # Required are NOT =;  Default sets a default number of args\n",
    "    return ent + ce + it + xx + xy"
   ]
  },
  {
   "cell_type": "raw",
   "metadata": {},
   "source": [
    "er(1, 2, 3)"
   ]
  },
  {
   "cell_type": "markdown",
   "metadata": {
    "collapsed": true
   },
   "source": [
    "# Shrink Hints"
   ]
  },
  {
   "cell_type": "code",
   "execution_count": 22,
   "metadata": {
    "collapsed": true
   },
   "outputs": [],
   "source": [
    "numbers = '123456789'"
   ]
  },
  {
   "cell_type": "code",
   "execution_count": 23,
   "metadata": {},
   "outputs": [
    {
     "data": {
      "text/plain": [
       "str"
      ]
     },
     "execution_count": 23,
     "metadata": {},
     "output_type": "execute_result"
    }
   ],
   "source": [
    "type(numbers)"
   ]
  },
  {
   "cell_type": "code",
   "execution_count": 24,
   "metadata": {},
   "outputs": [
    {
     "data": {
      "text/plain": [
       "123456789"
      ]
     },
     "execution_count": 24,
     "metadata": {},
     "output_type": "execute_result"
    }
   ],
   "source": [
    "int(numbers) #  this produces one entity; it's not iterable"
   ]
  },
  {
   "cell_type": "code",
   "execution_count": 25,
   "metadata": {
    "collapsed": true
   },
   "outputs": [],
   "source": [
    "expl = list(numbers)"
   ]
  },
  {
   "cell_type": "code",
   "execution_count": 26,
   "metadata": {},
   "outputs": [
    {
     "name": "stdout",
     "output_type": "stream",
     "text": [
      "['1', '2', '3', '4', '5', '6', '7', '8', '9']\n"
     ]
    }
   ],
   "source": [
    "print(expl)"
   ]
  },
  {
   "cell_type": "code",
   "execution_count": 27,
   "metadata": {},
   "outputs": [
    {
     "ename": "TypeError",
     "evalue": "unsupported operand type(s) for +: 'int' and 'str'",
     "output_type": "error",
     "traceback": [
      "\u001b[0;31m---------------------------------------------------------------------------\u001b[0m",
      "\u001b[0;31mTypeError\u001b[0m                                 Traceback (most recent call last)",
      "\u001b[0;32m<ipython-input-27-1134ba0ec275>\u001b[0m in \u001b[0;36m<module>\u001b[0;34m()\u001b[0m\n\u001b[0;32m----> 1\u001b[0;31m \u001b[0msum\u001b[0m\u001b[0;34m(\u001b[0m\u001b[0mexpl\u001b[0m\u001b[0;34m)\u001b[0m\u001b[0;34m\u001b[0m\u001b[0m\n\u001b[0m",
      "\u001b[0;31mTypeError\u001b[0m: unsupported operand type(s) for +: 'int' and 'str'"
     ]
    }
   ],
   "source": [
    "sum(expl)"
   ]
  },
  {
   "cell_type": "code",
   "execution_count": 28,
   "metadata": {},
   "outputs": [
    {
     "data": {
      "text/plain": [
       "[1, 2, 3, 4, 5, 6, 7, 8, 9]"
      ]
     },
     "execution_count": 28,
     "metadata": {},
     "output_type": "execute_result"
    }
   ],
   "source": [
    "[int(num) for num in expl]"
   ]
  },
  {
   "cell_type": "code",
   "execution_count": 29,
   "metadata": {},
   "outputs": [
    {
     "data": {
      "text/plain": [
       "45"
      ]
     },
     "execution_count": 29,
     "metadata": {},
     "output_type": "execute_result"
    }
   ],
   "source": [
    "sum(int(num) for num in expl)   # short circuit:  Advantage = SPEED. Dereferenced immediately as used."
   ]
  },
  {
   "cell_type": "code",
   "execution_count": 30,
   "metadata": {
    "collapsed": true
   },
   "outputs": [],
   "source": [
    "result = sum(int(num) for num in expl)"
   ]
  },
  {
   "cell_type": "code",
   "execution_count": 31,
   "metadata": {},
   "outputs": [
    {
     "ename": "NameError",
     "evalue": "name 'gen_result' is not defined",
     "output_type": "error",
     "traceback": [
      "\u001b[0;31m---------------------------------------------------------------------------\u001b[0m",
      "\u001b[0;31mNameError\u001b[0m                                 Traceback (most recent call last)",
      "\u001b[0;32m<ipython-input-31-400464d9b188>\u001b[0m in \u001b[0;36m<module>\u001b[0;34m()\u001b[0m\n\u001b[0;32m----> 1\u001b[0;31m \u001b[0;32mfor\u001b[0m \u001b[0mi\u001b[0m \u001b[0;32min\u001b[0m \u001b[0mgen_result\u001b[0m\u001b[0;34m:\u001b[0m\u001b[0;34m\u001b[0m\u001b[0m\n\u001b[0m\u001b[1;32m      2\u001b[0m     \u001b[0mprint\u001b[0m\u001b[0;34m(\u001b[0m\u001b[0mi\u001b[0m\u001b[0;34m)\u001b[0m\u001b[0;34m\u001b[0m\u001b[0m\n",
      "\u001b[0;31mNameError\u001b[0m: name 'gen_result' is not defined"
     ]
    }
   ],
   "source": [
    "for i in gen_result:\n",
    "    print(i)"
   ]
  },
  {
   "cell_type": "code",
   "execution_count": null,
   "metadata": {
    "collapsed": true
   },
   "outputs": [],
   "source": []
  },
  {
   "cell_type": "code",
   "execution_count": 32,
   "metadata": {
    "collapsed": true
   },
   "outputs": [],
   "source": [
    "def shrink(numbers: int):  # Try the PEP 484 convention!!-- identifying the type of output to be returned\n",
    "    \"\"\" PEP 287 Docstring conventions\"\"\"\n",
    "    shrunk = sum(int(num) for num in list(numbers)) \n",
    "    \n",
    "    if shrunk >= 10:\n",
    "        shrunk = str(shrunk) \n",
    "        return shrink(shrunk) # this is a recursion; \n",
    "    else:\n",
    "        print(shrunk)\n",
    "        return shrunk"
   ]
  },
  {
   "cell_type": "code",
   "execution_count": 33,
   "metadata": {},
   "outputs": [
    {
     "name": "stdout",
     "output_type": "stream",
     "text": [
      "9\n"
     ]
    },
    {
     "data": {
      "text/plain": [
       "9"
      ]
     },
     "execution_count": 33,
     "metadata": {},
     "output_type": "execute_result"
    }
   ],
   "source": [
    "shrink(numbers)"
   ]
  },
  {
   "cell_type": "code",
   "execution_count": null,
   "metadata": {
    "collapsed": true
   },
   "outputs": [],
   "source": []
  },
  {
   "cell_type": "markdown",
   "metadata": {
    "collapsed": true
   },
   "source": [
    "# List Comprehensions"
   ]
  },
  {
   "cell_type": "markdown",
   "metadata": {},
   "source": [
    "# See Kieran's notes"
   ]
  },
  {
   "cell_type": "markdown",
   "metadata": {
    "collapsed": true
   },
   "source": [
    "# Sequence Functions"
   ]
  },
  {
   "cell_type": "markdown",
   "metadata": {},
   "source": [
    "- all()       > bool  #\n",
    "- any()       > bool\n",
    "- dict()      > new dictionary [type caster]\n",
    "- enumerate   > generator (list of tuples)\n",
    "- filter()    > generator (list)\n",
    "- frozenset   > frozenset\n",
    "- len()       > int\n",
    "- list()      > generates a list\n",
    "- map()       > generator (mapped list)\n",
    "- max()       > int/str/keyfunc\n",
    "- min()       > int/str/keyfunc\n",
    "- next()      > Next element in a generator\n",
    "- object()    > object\n",
    "- oct()       > str\n",
    "- open()      > File Object (Generator) I/O\n",
    "- print()     > name\n",
    "- reversed    > Generator(reversed input generator)\n",
    "- sorted      > list\n",
    "- sum()       > int\n",
    "- zip()       > generator (list of tuples)"
   ]
  },
  {
   "cell_type": "markdown",
   "metadata": {},
   "source": [
    "# Type Casters\n",
    "\n"
   ]
  },
  {
   "cell_type": "markdown",
   "metadata": {},
   "source": [
    "- dict()      > new dictionary [type caster]\n",
    "- frozenset   > frozenset\n",
    "- list()      > generates a list\n",
    "- object()    > object\n",
    "- set()         > set\n",
    "- str()        > str    \n",
    "- tuple()     > tuple \n",
    "\n",
    "\n",
    "\n",
    "\n"
   ]
  },
  {
   "cell_type": "code",
   "execution_count": 102,
   "metadata": {},
   "outputs": [
    {
     "data": {
      "text/plain": [
       "sys.version_info(major=3, minor=6, micro=0, releaselevel='final', serial=0)"
      ]
     },
     "execution_count": 102,
     "metadata": {},
     "output_type": "execute_result"
    }
   ],
   "source": [
    "import sys\n",
    "sys.version_info"
   ]
  },
  {
   "cell_type": "code",
   "execution_count": 129,
   "metadata": {
    "collapsed": true
   },
   "outputs": [],
   "source": [
    "# def return_len(quote):\n",
    "#     z = list(map(str, filter(quote)))\n",
    "#     return z\n",
    "\n",
    "quote = \"In the end, it's concluded that the airspeed velocity of a (European) unladen swallow is about 24 miles per hour or 11 meters per second. But, the real question is not about swallows at all.\"\n"
   ]
  },
  {
   "cell_type": "code",
   "execution_count": 141,
   "metadata": {},
   "outputs": [
    {
     "name": "stdout",
     "output_type": "stream",
     "text": [
      "a\n",
      "11\n",
      "24\n",
      "In\n",
      "at\n",
      "is\n",
      "is\n",
      "of\n",
      "or\n",
      "not\n",
      "per\n",
      "per\n",
      "the\n",
      "the\n",
      "the\n",
      "But,\n",
      "all.\n",
      "end,\n",
      "hour\n",
      "it's\n",
      "real\n",
      "that\n",
      "about\n",
      "about\n",
      "miles\n",
      "meters\n",
      "second.\n",
      "swallow\n",
      "unladen\n",
      "airspeed\n",
      "question\n",
      "swallows\n",
      "velocity\n",
      "concluded\n",
      "(European)\n"
     ]
    }
   ],
   "source": [
    "for i in sorted(x, key=len):\n",
    "#     i = i.split() \n",
    "    print(i)"
   ]
  },
  {
   "cell_type": "code",
   "execution_count": 5,
   "metadata": {
    "collapsed": true
   },
   "outputs": [],
   "source": [
    "x = 'apple'"
   ]
  },
  {
   "cell_type": "code",
   "execution_count": 6,
   "metadata": {},
   "outputs": [
    {
     "ename": "NameError",
     "evalue": "name 'a' is not defined",
     "output_type": "error",
     "traceback": [
      "\u001b[0;31m---------------------------------------------------------------------------\u001b[0m",
      "\u001b[0;31mNameError\u001b[0m                                 Traceback (most recent call last)",
      "\u001b[0;32m<ipython-input-6-7cbebc9bc965>\u001b[0m in \u001b[0;36m<module>\u001b[0;34m()\u001b[0m\n\u001b[0;32m----> 1\u001b[0;31m \u001b[0ma\u001b[0m \u001b[0;32min\u001b[0m \u001b[0mx\u001b[0m\u001b[0;34m\u001b[0m\u001b[0m\n\u001b[0m",
      "\u001b[0;31mNameError\u001b[0m: name 'a' is not defined"
     ]
    }
   ],
   "source": [
    "a in x\n"
   ]
  },
  {
   "cell_type": "code",
   "execution_count": 7,
   "metadata": {},
   "outputs": [
    {
     "data": {
      "text/plain": [
       "True"
      ]
     },
     "execution_count": 7,
     "metadata": {},
     "output_type": "execute_result"
    }
   ],
   "source": [
    "'a' in x\n",
    "\n"
   ]
  },
  {
   "cell_type": "code",
   "execution_count": 10,
   "metadata": {},
   "outputs": [
    {
     "data": {
      "text/plain": [
       "False"
      ]
     },
     "execution_count": 10,
     "metadata": {},
     "output_type": "execute_result"
    }
   ],
   "source": [
    "'d' in x\n",
    "\n",
    "\n",
    "\n"
   ]
  },
  {
   "cell_type": "code",
   "execution_count": 13,
   "metadata": {},
   "outputs": [
    {
     "ename": "SyntaxError",
     "evalue": "invalid syntax (<ipython-input-13-12360b5c247f>, line 1)",
     "output_type": "error",
     "traceback": [
      "\u001b[0;36m  File \u001b[0;32m\"<ipython-input-13-12360b5c247f>\"\u001b[0;36m, line \u001b[0;32m1\u001b[0m\n\u001b[0;31m    x = [key: value]\u001b[0m\n\u001b[0m            ^\u001b[0m\n\u001b[0;31mSyntaxError\u001b[0m\u001b[0;31m:\u001b[0m invalid syntax\n"
     ]
    }
   ],
   "source": []
  },
  {
   "cell_type": "code",
   "execution_count": 14,
   "metadata": {},
   "outputs": [
    {
     "data": {
      "text/plain": [
       "''"
      ]
     },
     "execution_count": 14,
     "metadata": {},
     "output_type": "execute_result"
    }
   ],
   "source": [
    "str()\n"
   ]
  },
  {
   "cell_type": "code",
   "execution_count": 15,
   "metadata": {},
   "outputs": [
    {
     "data": {
      "text/plain": [
       "str"
      ]
     },
     "execution_count": 15,
     "metadata": {},
     "output_type": "execute_result"
    }
   ],
   "source": [
    "str"
   ]
  },
  {
   "cell_type": "code",
   "execution_count": 16,
   "metadata": {},
   "outputs": [
    {
     "data": {
      "text/plain": [
       "str"
      ]
     },
     "execution_count": 16,
     "metadata": {},
     "output_type": "execute_result"
    }
   ],
   "source": [
    "type(str())"
   ]
  },
  {
   "cell_type": "code",
   "execution_count": null,
   "metadata": {
    "collapsed": true
   },
   "outputs": [],
   "source": []
  }
 ],
 "metadata": {
  "anaconda-cloud": {},
  "kernelspec": {
   "display_name": "Python 3",
   "language": "python",
   "name": "python3"
  },
  "language_info": {
   "codemirror_mode": {
    "name": "ipython",
    "version": 3
   },
   "file_extension": ".py",
   "mimetype": "text/x-python",
   "name": "python",
   "nbconvert_exporter": "python",
   "pygments_lexer": "ipython3",
   "version": "3.6.0"
  }
 },
 "nbformat": 4,
 "nbformat_minor": 1
}
