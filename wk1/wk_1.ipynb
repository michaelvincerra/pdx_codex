{
 "cells": [
  {
   "cell_type": "code",
   "execution_count": 1,
   "metadata": {
    "collapsed": false
   },
   "outputs": [
    {
     "name": "stdout",
     "output_type": "stream",
     "text": [
      "['llama']\n"
     ]
    }
   ],
   "source": [
    "animal = ['llama']    # Assignment of a string to a variable\n",
    "print(animal)"
   ]
  },
  {
   "cell_type": "code",
   "execution_count": 2,
   "metadata": {
    "collapsed": false
   },
   "outputs": [
    {
     "data": {
      "text/plain": [
       "'llama'"
      ]
     },
     "execution_count": 2,
     "metadata": {},
     "output_type": "execute_result"
    }
   ],
   "source": [
    "animal[0]           # Access by index.  Returns a 'substring'"
   ]
  },
  {
   "cell_type": "code",
   "execution_count": 3,
   "metadata": {
    "collapsed": false
   },
   "outputs": [
    {
     "data": {
      "text/plain": [
       "['llama']"
      ]
     },
     "execution_count": 3,
     "metadata": {},
     "output_type": "execute_result"
    }
   ],
   "source": [
    "\"\"\"Star:Stop(non-inclusive):Stride\"\"\"\n",
    "animal[0:3]         # 'Slicing' the string.  Returns a 'substring'"
   ]
  },
  {
   "cell_type": "code",
   "execution_count": 4,
   "metadata": {
    "collapsed": false
   },
   "outputs": [
    {
     "data": {
      "text/plain": [
       "False"
      ]
     },
     "execution_count": 4,
     "metadata": {},
     "output_type": "execute_result"
    }
   ],
   "source": [
    "'ll' in animal       # Testing for 'Membership' with the 'in' operator"
   ]
  },
  {
   "cell_type": "code",
   "execution_count": 5,
   "metadata": {
    "collapsed": false
   },
   "outputs": [
    {
     "data": {
      "text/plain": [
       "['llama']"
      ]
     },
     "execution_count": 5,
     "metadata": {},
     "output_type": "execute_result"
    }
   ],
   "source": [
    "animal[0:3]"
   ]
  },
  {
   "cell_type": "code",
   "execution_count": 6,
   "metadata": {
    "collapsed": false
   },
   "outputs": [
    {
     "data": {
      "text/plain": [
       "True"
      ]
     },
     "execution_count": 6,
     "metadata": {},
     "output_type": "execute_result"
    }
   ],
   "source": [
    "'llama'in animal"
   ]
  },
  {
   "cell_type": "code",
   "execution_count": 7,
   "metadata": {
    "collapsed": false
   },
   "outputs": [
    {
     "data": {
      "text/plain": [
       "['llama']"
      ]
     },
     "execution_count": 7,
     "metadata": {},
     "output_type": "execute_result"
    }
   ],
   "source": [
    "animal"
   ]
  },
  {
   "cell_type": "code",
   "execution_count": 8,
   "metadata": {
    "collapsed": false
   },
   "outputs": [
    {
     "name": "stdout",
     "output_type": "stream",
     "text": [
      "['llama']\n"
     ]
    }
   ],
   "source": [
    "exploded = list(animal)                   # Explode!\n",
    "print(exploded)"
   ]
  },
  {
   "cell_type": "code",
   "execution_count": 9,
   "metadata": {
    "collapsed": false
   },
   "outputs": [
    {
     "data": {
      "text/plain": [
       "\"['llama']\""
      ]
     },
     "execution_count": 9,
     "metadata": {},
     "output_type": "execute_result"
    }
   ],
   "source": [
    "str(exploded)"
   ]
  },
  {
   "cell_type": "code",
   "execution_count": 10,
   "metadata": {
    "collapsed": false
   },
   "outputs": [
    {
     "data": {
      "text/plain": [
       "['I', 'am', 'happy']"
      ]
     },
     "execution_count": 10,
     "metadata": {},
     "output_type": "execute_result"
    }
   ],
   "source": [
    "def insert_list():     # Slice assignment to a zero width slice\n",
    "    list1 = [\"I\", \"am\"]\n",
    "    list2 = [\"happy\"]\n",
    "   \n",
    "    list1[2:2] = list2\n",
    "\n",
    "    return list1\n",
    "\n",
    "insert_list()"
   ]
  },
  {
   "cell_type": "code",
   "execution_count": 11,
   "metadata": {
    "collapsed": true
   },
   "outputs": [],
   "source": [
    "def link(nonno, nonna):\n",
    "\n",
    "    words = ('Chuck', 'Norris', 'hello', 1, 40, 2)\n",
    "    '-'.join(words[0:2])\n",
    "    '-'.join(words[2:4])\n",
    "    '-'.join(words[4:6])"
   ]
  },
  {
   "cell_type": "code",
   "execution_count": 12,
   "metadata": {
    "collapsed": false
   },
   "outputs": [
    {
     "ename": "NameError",
     "evalue": "name 'nonno' is not defined",
     "output_type": "error",
     "traceback": [
      "\u001b[0;31m---------------------------------------------------------------------------\u001b[0m",
      "\u001b[0;31mNameError\u001b[0m                                 Traceback (most recent call last)",
      "\u001b[0;32m<ipython-input-12-75acb41b4c8f>\u001b[0m in \u001b[0;36m<module>\u001b[0;34m()\u001b[0m\n\u001b[0;32m----> 1\u001b[0;31m \u001b[0mlink\u001b[0m\u001b[0;34m(\u001b[0m\u001b[0mnonno\u001b[0m\u001b[0;34m,\u001b[0m \u001b[0mnonna\u001b[0m\u001b[0;34m)\u001b[0m\u001b[0;34m\u001b[0m\u001b[0m\n\u001b[0m",
      "\u001b[0;31mNameError\u001b[0m: name 'nonno' is not defined"
     ]
    }
   ],
   "source": [
    "link(nonno, nonna)"
   ]
  },
  {
   "cell_type": "code",
   "execution_count": null,
   "metadata": {
    "collapsed": false
   },
   "outputs": [],
   "source": [
    "import random\n",
    "\n",
    "dice = input('How many dice?')\n",
    "sides = input('How may sides?')\n",
    "\n",
    "\n",
    "def dice():\n",
    "    for i in range(int(dice)):\n",
    "        print('Rolling dice.')\n",
    "        roll = random.randint(1, 6)\n",
    "        print(roll)"
   ]
  },
  {
   "cell_type": "code",
   "execution_count": null,
   "metadata": {
    "collapsed": false
   },
   "outputs": [],
   "source": [
    "dist = input('Enter a distance>> ').casefold()\n",
    "uom = input('Enter original UOM: ft (feet), mi (miles), km (kilometers, m (meters)>> ').casefold()\n",
    "targ = input('Enter target UOM: ft (feet), mi (miles), km (kilometers, m (meters)>> ').casefold()\n",
    "\n",
    "\n",
    "def converter(result):\n",
    "    result = []\n",
    "    \n",
    "    # if units == 'm':\n",
    "    #     return results * 1.000\n",
    "    # elif units == 'km':\n",
    "    #     results / 1000\n",
    "    # elif units ==\n",
    "\n",
    "\n",
    "    if 'ft' in uom and 'mi' in targ:\n",
    "        result = int(dist) % 5280"
   ]
  },
  {
   "cell_type": "code",
   "execution_count": null,
   "metadata": {
    "collapsed": false
   },
   "outputs": [],
   "source": [
    "result"
   ]
  },
  {
   "cell_type": "code",
   "execution_count": null,
   "metadata": {
    "collapsed": false
   },
   "outputs": [],
   "source": [
    "def main():\n",
    "    miles = float(input(\"Enter a distance in miles: \"))\n",
    "    conv_fac = 1.609 #conversion factor \n",
    "    #calculating how many kilometers \n",
    "    kilometers = miles * conv_fac\n",
    "    print(\"The distance in kilometers is: \", kilometers)\n",
    "\n",
    "main()"
   ]
  },
  {
   "cell_type": "code",
   "execution_count": null,
   "metadata": {
    "collapsed": false
   },
   "outputs": [],
   "source": [
    "print('This is a distance converter >> ')\n",
    "print('Unit of Measurement is abbreviated: UOM'),\n",
    "\n",
    "dist = input('Enter a distance>> ')\n",
    "uom = input('Enter original UOM: ft (feet), mi (miles), km (kilometers, m (meters)>> ').casefold()\n",
    "targ = input('Enter target UOM: ft (feet), mi (miles), km (kilometers, m (meters)>> ').casefold()\n",
    "\n",
    "\n",
    "\n",
    "\n",
    "# feet to miles:        5280 ft = 1 mile\n",
    "# feet to kilometers:   1 ft = 0.0003048 kilometer\n",
    "# feet to meters        3 ft = 1 m\n",
    "\n",
    "# km to feet            1 km = 3281 ft\n",
    "# km to miles           1 km = 0.62 miles\n",
    "# km to meters          1 km = 1000 m\n",
    "\n",
    "# meters to feet        1 m = 3.28 ft\n",
    "# meters to miles       1 m = 0.00062 m\n",
    "# meters to kilometers  1 m = 0.001 km\n",
    "\n",
    "\n",
    "\n",
    "def converter():\n",
    "    if uom == 'ft' and targ == 'mi':\n",
    "        print(round(int(dist) / 5280), 'km')\n",
    "    # elif\n",
    "\n",
    "converter()"
   ]
  },
  {
   "cell_type": "code",
   "execution_count": null,
   "metadata": {
    "collapsed": false
   },
   "outputs": [],
   "source": [
    "data = (\"kieran@pdxcodeguild.com\")\n",
    "\n",
    "results = data.split('@')[1]\n",
    "print(results)"
   ]
  },
  {
   "cell_type": "code",
   "execution_count": null,
   "metadata": {
    "collapsed": false
   },
   "outputs": [],
   "source": [
    "print(results)"
   ]
  },
  {
   "cell_type": "code",
   "execution_count": null,
   "metadata": {
    "collapsed": false
   },
   "outputs": [],
   "source": [
    "results"
   ]
  },
  {
   "cell_type": "code",
   "execution_count": null,
   "metadata": {
    "collapsed": false
   },
   "outputs": [],
   "source": [
    "data = (\"domain of jwackman@hvc.rr.com designates 2a00:1450:400c:c09::22d as permitted sender\")\n",
    "results = data.split('@')[1]"
   ]
  },
  {
   "cell_type": "code",
   "execution_count": null,
   "metadata": {
    "collapsed": false
   },
   "outputs": [],
   "source": [
    "results"
   ]
  },
  {
   "cell_type": "code",
   "execution_count": null,
   "metadata": {
    "collapsed": false
   },
   "outputs": [],
   "source": [
    "results = data.split('@')[1].split(' ')[0]"
   ]
  },
  {
   "cell_type": "code",
   "execution_count": null,
   "metadata": {
    "collapsed": false
   },
   "outputs": [],
   "source": [
    "results"
   ]
  },
  {
   "cell_type": "code",
   "execution_count": null,
   "metadata": {
    "collapsed": false
   },
   "outputs": [],
   "source": [
    "\"\"\"\n",
    ">>> meal(7)\n",
    "'Breakfast time.'\n",
    "\n",
    ">>> meal(13)\n",
    "'Lunch time.'\n",
    "\n",
    ">>> meal(20)\n",
    "'Dinner time.'\n",
    "\n",
    ">>> meal(21)\n",
    "'No meal scheduled at this time.'\n",
    "\n",
    ">>> meal(0)\n",
    "'Hammer time.'\n",
    "\n",
    ">>> meal(3)\n",
    "'Hammer time.'\n",
    "\n",
    ">>> meal(9999)\n",
    "'Not a valid time.'\n",
    "\n",
    ">>> meal(-42)\n",
    "'Not a valid time.'\n",
    "\n",
    "\"\"\"\n",
    "\n",
    "def hammer(time):\n",
    "    if time == int(7):\n",
    "        print('Breakfast time')\n",
    "    elif time == 13:\n",
    "        print('Lunch time.')\n",
    "    elif time == 20:\n",
    "        print('Dinner time.')\n",
    "    elif time == 21:\n",
    "        print('No meal scheduled at this time.')\n",
    "    elif time == 0:\n",
    "        print('Hammer time')\n",
    "    elif time == 9999:\n",
    "        print('Not a valid time.')\n",
    "    else:\n",
    "        time < abs(0):\n",
    "        print(\"Not a valid time.\")\n",
    "        \n",
    "hammer(time)"
   ]
  },
  {
   "cell_type": "code",
   "execution_count": null,
   "metadata": {
    "collapsed": true
   },
   "outputs": [],
   "source": [
    "which_case ='this_test_text'"
   ]
  },
  {
   "cell_type": "code",
   "execution_count": null,
   "metadata": {
    "collapsed": false
   },
   "outputs": [],
   "source": [
    "import string\n",
    "def which_case(words):\n",
    "    print('Python uses two types of naming for variables and files.')\n",
    "    print('ThisIsCamelCase')\n",
    "    print('this_is_snake_case')\n",
    "\n",
    "\n",
    "    words = str(input('Enter a file name using one of the above conventions: >> '))\n",
    "    words.replace(' ', '')\n",
    "    \n",
    "    for word in words:        \n",
    "        if '_' in words:                                        # TODO Improve this so it accounts for both cases: 'Camel_and_snake'\n",
    "            print(\"That\\'s snake_case. Slithery_smooth!\")\n",
    "        else:\n",
    "            word.istitle()\n",
    "            print(\"That\\'s CamelCase. Go on a safari!\")            # elif user_inp.title() in user_inp:\n",
    "        break\n",
    "            #         else:\n",
    "#             print('Error!')\n",
    "       \n",
    "    # else:\n",
    "    #     print('Oh well. Thanks for playing. Ciao!')\n",
    "which_case('words')\n"
   ]
  },
  {
   "cell_type": "code",
   "execution_count": null,
   "metadata": {
    "collapsed": false
   },
   "outputs": [],
   "source": [
    "words"
   ]
  },
  {
   "cell_type": "code",
   "execution_count": null,
   "metadata": {
    "collapsed": false
   },
   "outputs": [],
   "source": [
    "\n",
    "import random\n",
    "\n",
    "dice = input('How many dice?')\n",
    "sides = input('How may sides?')\n",
    "roll = random.randint(1, 6)\n",
    "\n",
    "def dice():\n",
    "    for i in range(int(dice)):            \n",
    "        \n",
    "        print('Rolling dice.')        \n",
    "print(roll)\n"
   ]
  },
  {
   "cell_type": "code",
   "execution_count": null,
   "metadata": {
    "collapsed": false
   },
   "outputs": [],
   "source": [
    "\n",
    "def maddest(data: str):\n",
    "    user_inp2 = input('Enter three adjectives, separated by a comma>> ')\n",
    "    result = user_inp2.split(',')\n",
    "    print(result)\n"
   ]
  },
  {
   "cell_type": "code",
   "execution_count": null,
   "metadata": {
    "collapsed": false
   },
   "outputs": [],
   "source": [
    "maddest('data')\n"
   ]
  },
  {
   "cell_type": "code",
   "execution_count": null,
   "metadata": {
    "collapsed": false
   },
   "outputs": [],
   "source": [
    "maddest.split(',')"
   ]
  },
  {
   "cell_type": "code",
   "execution_count": null,
   "metadata": {
    "collapsed": false
   },
   "outputs": [],
   "source": [
    "def pig_latin(data: str):\n",
    "\n",
    "\n",
    "    print('Pig Latin Translator now loading...')\n",
    "\n",
    "    user_inp = str(input('Enter a word>> '))\n",
    "    word = user_inp.casefold()\n",
    "    first = word[0]\n",
    "    vowels = ['a','e','i','o','u']\n",
    "\n",
    "    if first in vowels:\n",
    "        print(word + 'yay')\n",
    "\n",
    "pig_latin()\n"
   ]
  },
  {
   "cell_type": "code",
   "execution_count": null,
   "metadata": {
    "collapsed": false
   },
   "outputs": [],
   "source": [
    "pig_latin()"
   ]
  },
  {
   "cell_type": "code",
   "execution_count": 14,
   "metadata": {
    "collapsed": false
   },
   "outputs": [
    {
     "name": "stdout",
     "output_type": "stream",
     "text": [
      "Enter width of wall>> \n"
     ]
    },
    {
     "ename": "ValueError",
     "evalue": "invalid literal for int() with base 10: ''",
     "output_type": "error",
     "traceback": [
      "\u001b[0;31m---------------------------------------------------------------------------\u001b[0m",
      "\u001b[0;31mValueError\u001b[0m                                Traceback (most recent call last)",
      "\u001b[0;32m<ipython-input-14-486f1516d37f>\u001b[0m in \u001b[0;36m<module>\u001b[0;34m()\u001b[0m\n\u001b[1;32m     17\u001b[0m \u001b[0;34m\u001b[0m\u001b[0m\n\u001b[1;32m     18\u001b[0m \u001b[0;34m\u001b[0m\u001b[0m\n\u001b[0;32m---> 19\u001b[0;31m \u001b[0mwall_painting\u001b[0m\u001b[0;34m(\u001b[0m\u001b[0;34m)\u001b[0m\u001b[0;34m\u001b[0m\u001b[0m\n\u001b[0m",
      "\u001b[0;32m<ipython-input-14-486f1516d37f>\u001b[0m in \u001b[0;36mwall_painting\u001b[0;34m()\u001b[0m\n\u001b[1;32m      3\u001b[0m \u001b[0;32mdef\u001b[0m \u001b[0mwall_painting\u001b[0m\u001b[0;34m(\u001b[0m\u001b[0;34m)\u001b[0m\u001b[0;34m:\u001b[0m\u001b[0;34m\u001b[0m\u001b[0m\n\u001b[1;32m      4\u001b[0m \u001b[0;34m\u001b[0m\u001b[0m\n\u001b[0;32m----> 5\u001b[0;31m     \u001b[0mwidth\u001b[0m \u001b[0;34m=\u001b[0m \u001b[0mint\u001b[0m\u001b[0;34m(\u001b[0m\u001b[0minput\u001b[0m\u001b[0;34m(\u001b[0m\u001b[0;34m'Enter width of wall>> '\u001b[0m\u001b[0;34m)\u001b[0m\u001b[0;34m)\u001b[0m\u001b[0;34m\u001b[0m\u001b[0m\n\u001b[0m\u001b[1;32m      6\u001b[0m     \u001b[0mheight\u001b[0m \u001b[0;34m=\u001b[0m \u001b[0mint\u001b[0m\u001b[0;34m(\u001b[0m\u001b[0minput\u001b[0m\u001b[0;34m(\u001b[0m\u001b[0;34m'Enter height of wall>> '\u001b[0m\u001b[0;34m)\u001b[0m\u001b[0;34m)\u001b[0m\u001b[0;34m\u001b[0m\u001b[0m\n\u001b[1;32m      7\u001b[0m     \u001b[0mcost\u001b[0m \u001b[0;34m=\u001b[0m \u001b[0mint\u001b[0m\u001b[0;34m(\u001b[0m\u001b[0minput\u001b[0m\u001b[0;34m(\u001b[0m\u001b[0;34m'Enter cost of gallon of paint>> '\u001b[0m\u001b[0;34m)\u001b[0m\u001b[0;34m)\u001b[0m\u001b[0;34m\u001b[0m\u001b[0m\n",
      "\u001b[0;31mValueError\u001b[0m: invalid literal for int() with base 10: ''"
     ]
    }
   ],
   "source": [
    "one_gall = 400          # 400 square feet\n",
    "\n",
    "def wall_painting():\n",
    "\n",
    "    width = int(input('Enter width of wall>> '))\n",
    "    height = int(input('Enter height of wall>> '))\n",
    "    cost = int(input('Enter cost of gallon of paint>> '))\n",
    "\n",
    "    sqft_area = width * height    # if one_gall = 400, then\n",
    "    coverage = sqft_area / one_gall\n",
    "    calc = round(cost * coverage)\n",
    "\n",
    "    if coverage < one_gall:\n",
    "        print(f'To paint a wall of {sqft_area} square feet, it will cost {cost} dollars.')\n",
    "    else:\n",
    "        print(f'To paint a wall of {sqft_area} square feet, it will cost {calc} dollars.')\n",
    "\n",
    "\n",
    "wall_painting()\n"
   ]
  },
  {
   "cell_type": "code",
   "execution_count": 15,
   "metadata": {
    "collapsed": false
   },
   "outputs": [
    {
     "name": "stdout",
     "output_type": "stream",
     "text": [
      "Enter width of wall>> \n"
     ]
    },
    {
     "ename": "ValueError",
     "evalue": "invalid literal for int() with base 10: ''",
     "output_type": "error",
     "traceback": [
      "\u001b[0;31m---------------------------------------------------------------------------\u001b[0m",
      "\u001b[0;31mValueError\u001b[0m                                Traceback (most recent call last)",
      "\u001b[0;32m<ipython-input-15-4587e9c9e49c>\u001b[0m in \u001b[0;36m<module>\u001b[0;34m()\u001b[0m\n\u001b[0;32m----> 1\u001b[0;31m \u001b[0mwall_painting\u001b[0m\u001b[0;34m(\u001b[0m\u001b[0;34m)\u001b[0m\u001b[0;34m\u001b[0m\u001b[0m\n\u001b[0m",
      "\u001b[0;32m<ipython-input-14-486f1516d37f>\u001b[0m in \u001b[0;36mwall_painting\u001b[0;34m()\u001b[0m\n\u001b[1;32m      3\u001b[0m \u001b[0;32mdef\u001b[0m \u001b[0mwall_painting\u001b[0m\u001b[0;34m(\u001b[0m\u001b[0;34m)\u001b[0m\u001b[0;34m:\u001b[0m\u001b[0;34m\u001b[0m\u001b[0m\n\u001b[1;32m      4\u001b[0m \u001b[0;34m\u001b[0m\u001b[0m\n\u001b[0;32m----> 5\u001b[0;31m     \u001b[0mwidth\u001b[0m \u001b[0;34m=\u001b[0m \u001b[0mint\u001b[0m\u001b[0;34m(\u001b[0m\u001b[0minput\u001b[0m\u001b[0;34m(\u001b[0m\u001b[0;34m'Enter width of wall>> '\u001b[0m\u001b[0;34m)\u001b[0m\u001b[0;34m)\u001b[0m\u001b[0;34m\u001b[0m\u001b[0m\n\u001b[0m\u001b[1;32m      6\u001b[0m     \u001b[0mheight\u001b[0m \u001b[0;34m=\u001b[0m \u001b[0mint\u001b[0m\u001b[0;34m(\u001b[0m\u001b[0minput\u001b[0m\u001b[0;34m(\u001b[0m\u001b[0;34m'Enter height of wall>> '\u001b[0m\u001b[0;34m)\u001b[0m\u001b[0;34m)\u001b[0m\u001b[0;34m\u001b[0m\u001b[0m\n\u001b[1;32m      7\u001b[0m     \u001b[0mcost\u001b[0m \u001b[0;34m=\u001b[0m \u001b[0mint\u001b[0m\u001b[0;34m(\u001b[0m\u001b[0minput\u001b[0m\u001b[0;34m(\u001b[0m\u001b[0;34m'Enter cost of gallon of paint>> '\u001b[0m\u001b[0;34m)\u001b[0m\u001b[0;34m)\u001b[0m\u001b[0;34m\u001b[0m\u001b[0m\n",
      "\u001b[0;31mValueError\u001b[0m: invalid literal for int() with base 10: ''"
     ]
    }
   ],
   "source": [
    "wall_painting()"
   ]
  },
  {
   "cell_type": "code",
   "execution_count": 21,
   "metadata": {
    "collapsed": false
   },
   "outputs": [
    {
     "name": "stdout",
     "output_type": "stream",
     "text": [
      "enter>> 99\n"
     ]
    }
   ],
   "source": [
    "cents = int(input('enter>> '))\n",
    "\n",
    "x = cents // 25"
   ]
  },
  {
   "cell_type": "code",
   "execution_count": 22,
   "metadata": {
    "collapsed": false
   },
   "outputs": [
    {
     "name": "stdout",
     "output_type": "stream",
     "text": [
      "3\n"
     ]
    }
   ],
   "source": [
    "print(x)"
   ]
  },
  {
   "cell_type": "code",
   "execution_count": null,
   "metadata": {
    "collapsed": false
   },
   "outputs": [],
   "source": [
    "rem = x - (x // 10)"
   ]
  },
  {
   "cell_type": "code",
   "execution_count": null,
   "metadata": {
    "collapsed": false
   },
   "outputs": [],
   "source": [
    "print(rem)"
   ]
  },
  {
   "cell_type": "code",
   "execution_count": null,
   "metadata": {
    "collapsed": true
   },
   "outputs": [],
   "source": []
  },
  {
   "cell_type": "code",
   "execution_count": null,
   "metadata": {
    "collapsed": false
   },
   "outputs": [],
   "source": [
    "print(x)"
   ]
  },
  {
   "cell_type": "code",
   "execution_count": null,
   "metadata": {
    "collapsed": false
   },
   "outputs": [],
   "source": [
    "def make_change():\n",
    "\n",
    "    cents = int(input('Enter the amount of change to be dispensed:>>  '))\n",
    "    rem = cents\n",
    "    # print(cents)\n",
    "\n",
    "    while rem < 100:\n",
    "\n",
    "        quarters = round(cents // 25)\n",
    "        print(quarters, 'quarters')\n",
    "        rem = rem - quarters * 25\n",
    "\n",
    "        dimes = round(rem // 10)\n",
    "        print(dimes, 'dimes')\n",
    "        rem = rem - dimes * 10\n",
    "\n",
    "        nickels = round(rem // 5)\n",
    "        print(nickels, 'nickels')\n",
    "        rem = rem - nickels * 5\n",
    "\n",
    "        print(rem, 'pennies')\n",
    "        break\n",
    "\n",
    "make_change()\n",
    "#"
   ]
  },
  {
   "cell_type": "code",
   "execution_count": null,
   "metadata": {
    "collapsed": true
   },
   "outputs": [],
   "source": [
    "print(make_change)"
   ]
  },
  {
   "cell_type": "code",
   "execution_count": null,
   "metadata": {
    "collapsed": true
   },
   "outputs": [],
   "source": []
  },
  {
   "cell_type": "code",
   "execution_count": null,
   "metadata": {
    "collapsed": true
   },
   "outputs": [],
   "source": []
  },
  {
   "cell_type": "code",
   "execution_count": null,
   "metadata": {
    "collapsed": true
   },
   "outputs": [],
   "source": []
  }
 ],
 "metadata": {
  "anaconda-cloud": {},
  "kernelspec": {
   "display_name": "Python 3",
   "language": "python",
   "name": "python3"
  },
  "language_info": {
   "codemirror_mode": {
    "name": "ipython",
    "version": 3
   },
   "file_extension": ".py",
   "mimetype": "text/x-python",
   "name": "python",
   "nbconvert_exporter": "python",
   "pygments_lexer": "ipython3",
   "version": "3.6.0"
  }
 },
 "nbformat": 4,
 "nbformat_minor": 0
}
