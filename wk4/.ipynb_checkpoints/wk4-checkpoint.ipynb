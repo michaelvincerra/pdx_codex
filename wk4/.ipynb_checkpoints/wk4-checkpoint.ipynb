{
 "cells": [
  {
   "cell_type": "code",
   "execution_count": null,
   "metadata": {
    "collapsed": false,
    "scrolled": true
   },
   "outputs": [],
   "source": [
    "def inspect():\n",
    "    print('Looks at an opal')\n",
    "    \n",
    "user = {'nick': 'Stella',\n",
    "       'hobby': 'Gem collector',\n",
    "       'pocket': ['keys', 'minty gum', 'eye loupe']}\n",
    "        \n",
    "    "
   ]
  },
  {
   "cell_type": "markdown",
   "metadata": {},
   "source": [
    "# CRUD(L)\n",
    "- Create\n",
    "- Retrieve\n",
    "- Update\n",
    "- Delete\n",
    "- List (action on a group of objects)"
   ]
  },
  {
   "cell_type": "markdown",
   "metadata": {},
   "source": [
    "# You need to know what you have to manipulate it!!!"
   ]
  },
  {
   "cell_type": "code",
   "execution_count": null,
   "metadata": {
    "collapsed": false
   },
   "outputs": [],
   "source": [
    "user['pocket'][1] = 'Diamond Cutter'"
   ]
  },
  {
   "cell_type": "code",
   "execution_count": null,
   "metadata": {
    "collapsed": false
   },
   "outputs": [],
   "source": [
    "user"
   ]
  },
  {
   "cell_type": "code",
   "execution_count": null,
   "metadata": {
    "collapsed": false
   },
   "outputs": [],
   "source": [
    "user['nick']"
   ]
  },
  {
   "cell_type": "code",
   "execution_count": null,
   "metadata": {
    "collapsed": true
   },
   "outputs": [],
   "source": [
    "user['nick'] = 'Spike'"
   ]
  },
  {
   "cell_type": "code",
   "execution_count": null,
   "metadata": {
    "collapsed": false
   },
   "outputs": [],
   "source": [
    "user"
   ]
  },
  {
   "cell_type": "markdown",
   "metadata": {},
   "source": [
    "# Pocket is a list"
   ]
  },
  {
   "cell_type": "code",
   "execution_count": null,
   "metadata": {
    "collapsed": false
   },
   "outputs": [],
   "source": [
    "user['hobby'] = ['Gem collector', 'Kayaking']"
   ]
  },
  {
   "cell_type": "code",
   "execution_count": null,
   "metadata": {
    "collapsed": false
   },
   "outputs": [],
   "source": [
    "user"
   ]
  },
  {
   "cell_type": "markdown",
   "metadata": {},
   "source": [
    "# Dict Methods"
   ]
  },
  {
   "cell_type": "code",
   "execution_count": null,
   "metadata": {
    "collapsed": false
   },
   "outputs": [],
   "source": [
    "user.keys()"
   ]
  },
  {
   "cell_type": "code",
   "execution_count": null,
   "metadata": {
    "collapsed": false
   },
   "outputs": [],
   "source": [
    "user.values()"
   ]
  },
  {
   "cell_type": "code",
   "execution_count": null,
   "metadata": {
    "collapsed": false
   },
   "outputs": [],
   "source": [
    "list(user.values())"
   ]
  },
  {
   "cell_type": "code",
   "execution_count": null,
   "metadata": {
    "collapsed": false,
    "scrolled": true
   },
   "outputs": [],
   "source": [
    "list(user.items())"
   ]
  },
  {
   "cell_type": "code",
   "execution_count": null,
   "metadata": {
    "collapsed": false
   },
   "outputs": [],
   "source": [
    "('Sal','Hitman')"
   ]
  },
  {
   "cell_type": "code",
   "execution_count": null,
   "metadata": {
    "collapsed": false
   },
   "outputs": [],
   "source": [
    "name = Jack\n",
    "user['name'] = name({name})"
   ]
  },
  {
   "cell_type": "code",
   "execution_count": null,
   "metadata": {
    "collapsed": true
   },
   "outputs": [],
   "source": []
  },
  {
   "cell_type": "code",
   "execution_count": null,
   "metadata": {
    "collapsed": true
   },
   "outputs": [],
   "source": []
  },
  {
   "cell_type": "code",
   "execution_count": null,
   "metadata": {
    "collapsed": true
   },
   "outputs": [],
   "source": []
  },
  {
   "cell_type": "code",
   "execution_count": null,
   "metadata": {
    "collapsed": false
   },
   "outputs": [],
   "source": [
    "user['hobby']"
   ]
  },
  {
   "cell_type": "code",
   "execution_count": null,
   "metadata": {
    "collapsed": false
   },
   "outputs": [],
   "source": [
    "user.update()\n"
   ]
  },
  {
   "cell_type": "code",
   "execution_count": null,
   "metadata": {
    "collapsed": false
   },
   "outputs": [],
   "source": [
    "user"
   ]
  },
  {
   "cell_type": "code",
   "execution_count": null,
   "metadata": {
    "collapsed": false
   },
   "outputs": [],
   "source": [
    "for key, value in user.items():\n",
    "    print('KEY:', key, 'VALUE', value)"
   ]
  },
  {
   "cell_type": "code",
   "execution_count": null,
   "metadata": {
    "collapsed": true
   },
   "outputs": [],
   "source": []
  },
  {
   "cell_type": "code",
   "execution_count": null,
   "metadata": {
    "collapsed": true
   },
   "outputs": [],
   "source": []
  },
  {
   "cell_type": "code",
   "execution_count": null,
   "metadata": {
    "collapsed": false
   },
   "outputs": [],
   "source": [
    "user['pocket'].pop()"
   ]
  },
  {
   "cell_type": "code",
   "execution_count": null,
   "metadata": {
    "collapsed": false
   },
   "outputs": [],
   "source": [
    "user.get('nick')  #Read operation"
   ]
  },
  {
   "cell_type": "code",
   "execution_count": null,
   "metadata": {
    "collapsed": false
   },
   "outputs": [],
   "source": [
    "user.get('pocket')"
   ]
  },
  {
   "cell_type": "code",
   "execution_count": null,
   "metadata": {
    "collapsed": false
   },
   "outputs": [],
   "source": [
    "user.get('pocket')"
   ]
  },
  {
   "cell_type": "code",
   "execution_count": null,
   "metadata": {
    "collapsed": false
   },
   "outputs": [],
   "source": [
    "user.get('age', 'ELEMENT NOT THERE')  #'ELEMENT...' is a default if item NOT in list"
   ]
  },
  {
   "cell_type": "markdown",
   "metadata": {},
   "source": [
    "# user.popitem()    # pops a  random key from the dictionary"
   ]
  },
  {
   "cell_type": "markdown",
   "metadata": {},
   "source": [
    "# user.pop('nick')   # pops a specific key"
   ]
  },
  {
   "cell_type": "code",
   "execution_count": null,
   "metadata": {
    "collapsed": false
   },
   "outputs": [],
   "source": [
    "user"
   ]
  },
  {
   "cell_type": "code",
   "execution_count": null,
   "metadata": {
    "collapsed": false
   },
   "outputs": [],
   "source": [
    "user.update(())"
   ]
  },
  {
   "cell_type": "code",
   "execution_count": null,
   "metadata": {
    "collapsed": false
   },
   "outputs": [],
   "source": [
    "for blah in user:\n",
    "    print(blah)"
   ]
  },
  {
   "cell_type": "code",
   "execution_count": null,
   "metadata": {
    "collapsed": false
   },
   "outputs": [],
   "source": [
    "for index, key in enumerate(user):\n",
    "    print(index, key)"
   ]
  },
  {
   "cell_type": "code",
   "execution_count": null,
   "metadata": {
    "collapsed": false
   },
   "outputs": [],
   "source": [
    "'hobby' in user"
   ]
  },
  {
   "cell_type": "markdown",
   "metadata": {
    "collapsed": true
   },
   "source": [
    "# Common Dictionary Operations"
   ]
  },
  {
   "cell_type": "markdown",
   "metadata": {
    "collapsed": true
   },
   "source": [
    "# http://www.pythonforbeginners.com/dictionary/dictionary-common-dictionary-operations"
   ]
  },
  {
   "cell_type": "code",
   "execution_count": null,
   "metadata": {
    "collapsed": false
   },
   "outputs": [],
   "source": [
    "amphibians = {'tree frog':('adorable', 'poisonous'),\n",
    "            'salamander': ('tiny', 'fiery')}\n",
    "\n",
    "\n"
   ]
  },
  {
   "cell_type": "markdown",
   "metadata": {},
   "source": [
    "# Key assignment: Item assignment for a Dict. \n"
   ]
  },
  {
   "cell_type": "code",
   "execution_count": null,
   "metadata": {
    "collapsed": true
   },
   "outputs": [],
   "source": [
    "amphibians['newt'] = ('flying', 'laser')"
   ]
  },
  {
   "cell_type": "code",
   "execution_count": null,
   "metadata": {
    "collapsed": false
   },
   "outputs": [],
   "source": [
    "print(amphibians)"
   ]
  },
  {
   "cell_type": "code",
   "execution_count": null,
   "metadata": {
    "collapsed": false
   },
   "outputs": [],
   "source": [
    "updatedata = {'bullfrog': ('loud', 'silly'),\n",
    "         'axotl': ('cute', 'gilly')}\n",
    "\n",
    "\n",
    "amphibians.update(updatedata)"
   ]
  },
  {
   "cell_type": "markdown",
   "metadata": {},
   "source": [
    "# Set is an unordered unique collection"
   ]
  },
  {
   "cell_type": "markdown",
   "metadata": {},
   "source": [
    "# http://www.linuxtopia.org/online_books/programming_books/python_programming/python_ch16s03.html\n",
    "\n"
   ]
  },
  {
   "cell_type": "code",
   "execution_count": null,
   "metadata": {
    "collapsed": true
   },
   "outputs": [],
   "source": [
    "day_1 = ['snacks', 'skateboards', 'jumprope', 'walkmans', 'skateboards']\n",
    "\n",
    "day_2 = ['gummy bears', 'skateboards', 'tacks', 'lollipops', 'jumprope']"
   ]
  },
  {
   "cell_type": "code",
   "execution_count": null,
   "metadata": {
    "collapsed": false
   },
   "outputs": [],
   "source": [
    "set(day_1)"
   ]
  },
  {
   "cell_type": "code",
   "execution_count": null,
   "metadata": {
    "collapsed": false
   },
   "outputs": [],
   "source": [
    "set(day_2)"
   ]
  },
  {
   "cell_type": "code",
   "execution_count": null,
   "metadata": {
    "collapsed": false
   },
   "outputs": [],
   "source": [
    "day_1 - day_2"
   ]
  },
  {
   "cell_type": "code",
   "execution_count": null,
   "metadata": {
    "collapsed": false
   },
   "outputs": [],
   "source": [
    "amphibians['newt']"
   ]
  },
  {
   "cell_type": "code",
   "execution_count": null,
   "metadata": {
    "collapsed": false
   },
   "outputs": [],
   "source": [
    "list(amphibians.keys())"
   ]
  },
  {
   "cell_type": "code",
   "execution_count": null,
   "metadata": {
    "collapsed": false
   },
   "outputs": [],
   "source": [
    "list(amphibians.values())"
   ]
  },
  {
   "cell_type": "code",
   "execution_count": null,
   "metadata": {
    "collapsed": false
   },
   "outputs": [],
   "source": [
    "list(amphibians.items())"
   ]
  },
  {
   "cell_type": "code",
   "execution_count": null,
   "metadata": {
    "collapsed": false
   },
   "outputs": [],
   "source": [
    "r = list(amphibians.items())\n",
    "\n",
    "dict(r)   # This allows you to cast the list as a dictionary. "
   ]
  },
  {
   "cell_type": "code",
   "execution_count": null,
   "metadata": {
    "collapsed": true
   },
   "outputs": [],
   "source": [
    "del amphibians['axotl']   # del "
   ]
  },
  {
   "cell_type": "code",
   "execution_count": null,
   "metadata": {
    "collapsed": false
   },
   "outputs": [],
   "source": [
    "list(amphibians.items())"
   ]
  },
  {
   "cell_type": "code",
   "execution_count": null,
   "metadata": {
    "collapsed": true
   },
   "outputs": [],
   "source": [
    "mycopy = amphibians.copy()"
   ]
  },
  {
   "cell_type": "code",
   "execution_count": null,
   "metadata": {
    "collapsed": false
   },
   "outputs": [],
   "source": [
    "len(amphibians)"
   ]
  },
  {
   "cell_type": "code",
   "execution_count": null,
   "metadata": {
    "collapsed": true
   },
   "outputs": [],
   "source": []
  },
  {
   "cell_type": "code",
   "execution_count": null,
   "metadata": {
    "collapsed": false
   },
   "outputs": [],
   "source": [
    " 'tree frog' in amphibians"
   ]
  },
  {
   "cell_type": "code",
   "execution_count": null,
   "metadata": {
    "collapsed": false
   },
   "outputs": [],
   "source": [
    "max(amphibians)"
   ]
  },
  {
   "cell_type": "code",
   "execution_count": null,
   "metadata": {
    "collapsed": false
   },
   "outputs": [],
   "source": [
    "min(amphibians)"
   ]
  },
  {
   "cell_type": "code",
   "execution_count": null,
   "metadata": {
    "collapsed": false
   },
   "outputs": [],
   "source": [
    "sorted(amphibians)"
   ]
  },
  {
   "cell_type": "code",
   "execution_count": null,
   "metadata": {
    "collapsed": false
   },
   "outputs": [],
   "source": [
    "for key in sorted(amphibians):\n",
    "    print(key, amphibians[key])   # access by "
   ]
  },
  {
   "cell_type": "code",
   "execution_count": null,
   "metadata": {
    "collapsed": false
   },
   "outputs": [],
   "source": [
    "list(amphibians)"
   ]
  },
  {
   "cell_type": "markdown",
   "metadata": {},
   "source": [
    "\n",
    "\n",
    "# Dictionary is mutable by KEY"
   ]
  },
  {
   "cell_type": "code",
   "execution_count": null,
   "metadata": {
    "collapsed": false
   },
   "outputs": [],
   "source": [
    "for key in amphibians:\n",
    "    print(key)\n",
    "\n"
   ]
  },
  {
   "cell_type": "code",
   "execution_count": null,
   "metadata": {
    "collapsed": false
   },
   "outputs": [],
   "source": [
    "for key in amphibians:\n",
    "    print(amphibians[key])"
   ]
  },
  {
   "cell_type": "code",
   "execution_count": null,
   "metadata": {
    "collapsed": false
   },
   "outputs": [],
   "source": [
    "for val in amphibians.values():\n",
    "    print(val)"
   ]
  },
  {
   "cell_type": "code",
   "execution_count": null,
   "metadata": {
    "collapsed": false
   },
   "outputs": [],
   "source": [
    "'salamander' in amphibians"
   ]
  },
  {
   "cell_type": "code",
   "execution_count": null,
   "metadata": {
    "collapsed": false
   },
   "outputs": [],
   "source": [
    "amphibians.items()"
   ]
  },
  {
   "cell_type": "code",
   "execution_count": null,
   "metadata": {
    "collapsed": false
   },
   "outputs": [],
   "source": [
    "for key, value in amphibians.items():   # Looping over the keys and values at the same time. \n",
    "    print(key, value, sep=' --> ')"
   ]
  },
  {
   "cell_type": "code",
   "execution_count": null,
   "metadata": {
    "collapsed": false
   },
   "outputs": [],
   "source": [
    "for key, value in amphibians.items():   # Looping over the keys and values at the same time. \n",
    "    adj1, adj2 = value\n",
    "    print(adj1, adj2, sep=' &&& ')"
   ]
  },
  {
   "cell_type": "code",
   "execution_count": null,
   "metadata": {
    "collapsed": true
   },
   "outputs": [],
   "source": [
    "candidates = {'Erasmus': 0, 'Yolanda': 0, 'Diogenes': 0}\n"
   ]
  },
  {
   "cell_type": "code",
   "execution_count": null,
   "metadata": {
    "collapsed": false
   },
   "outputs": [],
   "source": [
    "candidates.keys()"
   ]
  },
  {
   "cell_type": "code",
   "execution_count": null,
   "metadata": {
    "collapsed": false
   },
   "outputs": [],
   "source": [
    "[index: name for num, name in enumerate(candidates, start=1)"
   ]
  },
  {
   "cell_type": "code",
   "execution_count": null,
   "metadata": {
    "collapsed": true
   },
   "outputs": [],
   "source": []
  },
  {
   "cell_type": "code",
   "execution_count": null,
   "metadata": {
    "collapsed": true
   },
   "outputs": [],
   "source": []
  },
  {
   "cell_type": "code",
   "execution_count": null,
   "metadata": {
    "collapsed": true
   },
   "outputs": [],
   "source": []
  },
  {
   "cell_type": "code",
   "execution_count": null,
   "metadata": {
    "collapsed": true
   },
   "outputs": [],
   "source": []
  },
  {
   "cell_type": "code",
   "execution_count": null,
   "metadata": {
    "collapsed": true
   },
   "outputs": [],
   "source": []
  },
  {
   "cell_type": "code",
   "execution_count": null,
   "metadata": {
    "collapsed": true
   },
   "outputs": [],
   "source": []
  },
  {
   "cell_type": "markdown",
   "metadata": {
    "collapsed": true
   },
   "source": [
    "# Regular Expressions 'REGEX'\n",
    "https://regex101.com"
   ]
  },
  {
   "cell_type": "markdown",
   "metadata": {},
   "source": [
    "## Quantifiers \", +, ?\n",
    "## Character classes [abc]\n",
    "## ALWAYS use the EXTENDED REGEX: "
   ]
  },
  {
   "cell_type": "code",
   "execution_count": null,
   "metadata": {
    "collapsed": true
   },
   "outputs": [],
   "source": []
  },
  {
   "cell_type": "code",
   "execution_count": null,
   "metadata": {
    "collapsed": true
   },
   "outputs": [],
   "source": [
    "- Attribute Error\n",
    "- Type Error"
   ]
  },
  {
   "cell_type": "markdown",
   "metadata": {
    "collapsed": true
   },
   "source": [
    "# Tracebacks -- and Exception Classes"
   ]
  },
  {
   "cell_type": "markdown",
   "metadata": {},
   "source": [
    "- Attribute Error\n",
    "- Type Error\n",
    "- KeyError\n",
    "- Attribute Error\n",
    "- Object Not Subscriptable\n",
    "- IndexError\n",
    "- Indentation Error\n",
    "- TabError\n",
    "- Division Error\n",
    "- NameError\n",
    "- Recursion Error\n",
    "- Syntax Error"
   ]
  },
  {
   "cell_type": "markdown",
   "metadata": {},
   "source": [
    "backpack = {'matches': 42}"
   ]
  },
  {
   "cell_type": "code",
   "execution_count": null,
   "metadata": {
    "collapsed": false
   },
   "outputs": [],
   "source": [
    "backpack['socks']   # The key searched for is not in the dictionary/ scope"
   ]
  },
  {
   "cell_type": "markdown",
   "metadata": {},
   "source": [
    "# Type Error     # Two types that cannot work together.  String + Int"
   ]
  },
  {
   "cell_type": "code",
   "execution_count": null,
   "metadata": {
    "collapsed": false
   },
   "outputs": [],
   "source": [
    "1 + '1'  # TypeError"
   ]
  },
  {
   "cell_type": "code",
   "execution_count": null,
   "metadata": {
    "collapsed": false
   },
   "outputs": [],
   "source": [
    "[1234][99]   # IndexError"
   ]
  },
  {
   "cell_type": "code",
   "execution_count": null,
   "metadata": {
    "collapsed": false
   },
   "outputs": [],
   "source": [
    "abjfdnld   # Name Error"
   ]
  },
  {
   "cell_type": "code",
   "execution_count": null,
   "metadata": {
    "collapsed": true
   },
   "outputs": [],
   "source": []
  },
  {
   "cell_type": "markdown",
   "metadata": {},
   "source": [
    "\n",
    "# Recursion Error"
   ]
  },
  {
   "cell_type": "code",
   "execution_count": null,
   "metadata": {
    "collapsed": false
   },
   "outputs": [],
   "source": [
    "raise RecursionError('Nope!')    # Raise intends to crash the program\n",
    "\n"
   ]
  },
  {
   "cell_type": "markdown",
   "metadata": {},
   "source": [
    "# Raise Exceptions"
   ]
  },
  {
   "cell_type": "code",
   "execution_count": null,
   "metadata": {
    "collapsed": false
   },
   "outputs": [],
   "source": [
    "raise Exception"
   ]
  },
  {
   "cell_type": "code",
   "execution_count": null,
   "metadata": {
    "collapsed": false
   },
   "outputs": [],
   "source": [
    "def display(word):\n",
    "    if len(word) != 6:\n",
    "        raise ValueError('Word must be six char's.')"
   ]
  },
  {
   "cell_type": "code",
   "execution_count": null,
   "metadata": {
    "collapsed": false
   },
   "outputs": [],
   "source": [
    "try:\n",
    "    display('goat')\n",
    "except ValueError:\n",
    "    print('Try again')"
   ]
  },
  {
   "cell_type": "markdown",
   "metadata": {},
   "source": [
    "# Infinite Number of Generators"
   ]
  },
  {
   "cell_type": "code",
   "execution_count": null,
   "metadata": {
    "collapsed": false
   },
   "outputs": [],
   "source": [
    "def fibo_list(ceiling):\n",
    "    \"\"\"\n",
    "    Generates a list of fibonacci numbers up to a ceiling\n",
    "    fibo_ list(10)\n",
    "    [1,1,2,3,5,8]\n",
    "    \"\"\"\n",
    "    former, actual = 0, 1\n",
    "    \n",
    "    sequence = list()\n",
    "    \n",
    "    while actual < ceiling:\n",
    "        sequence.append(actual)\n",
    "        former, actual = actual, former + actual    # a, b = a + (a+b) \n",
    "    \n",
    "    return sequence"
   ]
  },
  {
   "cell_type": "code",
   "execution_count": null,
   "metadata": {
    "collapsed": false
   },
   "outputs": [],
   "source": [
    "%%timeit\n",
    "fibo_list(10)"
   ]
  },
  {
   "cell_type": "code",
   "execution_count": null,
   "metadata": {
    "collapsed": false
   },
   "outputs": [],
   "source": [
    "%%timeit\n",
    "fibo_list(1000 **32)"
   ]
  },
  {
   "cell_type": "code",
   "execution_count": null,
   "metadata": {
    "collapsed": false
   },
   "outputs": [],
   "source": [
    "%%timeit\n",
    "fibo_list(10000000)"
   ]
  },
  {
   "cell_type": "code",
   "execution_count": null,
   "metadata": {
    "collapsed": true
   },
   "outputs": [],
   "source": [
    "def fibo_list():\n",
    "    \"\"\"\n",
    "    Generates a list of fibonacci numbers up to a ceiling\n",
    "    fibo_ list(10)\n",
    "    [1,1,2,3,5,8]\n",
    "    \"\"\"\n",
    "    former, actual = 0, 1\n",
    "    \n",
    "    while True:\n",
    "        yield former\n",
    "        yield actual    # yield: production of a value. \n",
    "        former, actual = actual, former + actual    # a, b = a + (a+b) \n",
    "    \n"
   ]
  },
  {
   "cell_type": "code",
   "execution_count": null,
   "metadata": {
    "collapsed": false
   },
   "outputs": [],
   "source": [
    "mygen = fibo_list()"
   ]
  },
  {
   "cell_type": "code",
   "execution_count": null,
   "metadata": {
    "collapsed": false
   },
   "outputs": [],
   "source": [
    "next()   # iterating over generator objects\n"
   ]
  },
  {
   "cell_type": "code",
   "execution_count": null,
   "metadata": {
    "collapsed": true
   },
   "outputs": [],
   "source": [
    "def llamabear():\n",
    "    yield 'a'\n",
    "    yield 'llama'\n",
    "    yield 'bear'   # yield appears ONLY in the loop"
   ]
  },
  {
   "cell_type": "code",
   "execution_count": null,
   "metadata": {
    "collapsed": true
   },
   "outputs": [],
   "source": [
    "llamabeargen = llamabear()"
   ]
  },
  {
   "cell_type": "code",
   "execution_count": null,
   "metadata": {
    "collapsed": false
   },
   "outputs": [],
   "source": [
    "next(llamabeargen)"
   ]
  },
  {
   "cell_type": "markdown",
   "metadata": {},
   "source": [
    "# Stop Iteration: Means that it has exhausted the Generator"
   ]
  },
  {
   "cell_type": "code",
   "execution_count": null,
   "metadata": {
    "collapsed": true
   },
   "outputs": [],
   "source": []
  },
  {
   "cell_type": "code",
   "execution_count": null,
   "metadata": {
    "collapsed": true
   },
   "outputs": [],
   "source": [
    "def from_iterable(iterables):   # TAKES A LIST OF LIST AND FLATTENS IT INTO ONE LIST\n",
    "    # chain.from_iterable(['ABC', 'DEF']) --> A B C D E F\n",
    "    for it in iterables:\n",
    "        for element in it:\n",
    "            yield element"
   ]
  },
  {
   "cell_type": "code",
   "execution_count": null,
   "metadata": {
    "collapsed": false
   },
   "outputs": [],
   "source": [
    "iterables()"
   ]
  },
  {
   "cell_type": "code",
   "execution_count": null,
   "metadata": {
    "collapsed": true
   },
   "outputs": [],
   "source": [
    "from itertools import chain\n",
    "\n",
    "letters = [['a', 'b'], ['c', 'd'], ['e', 'f']]"
   ]
  },
  {
   "cell_type": "code",
   "execution_count": null,
   "metadata": {
    "collapsed": false
   },
   "outputs": [],
   "source": [
    "list(chain.from_iterable(letters))"
   ]
  },
  {
   "cell_type": "code",
   "execution_count": null,
   "metadata": {
    "collapsed": true
   },
   "outputs": [],
   "source": [
    "chaingen = chain.from_iterable(letters)"
   ]
  },
  {
   "cell_type": "code",
   "execution_count": null,
   "metadata": {
    "collapsed": false
   },
   "outputs": [],
   "source": [
    "next(chaingen)     # anywhere where you use append, you can also use 'YIELD' to show the result."
   ]
  },
  {
   "cell_type": "code",
   "execution_count": null,
   "metadata": {
    "collapsed": true
   },
   "outputs": [],
   "source": [
    "oils = ['motor', 'palm' , 'grapeseed','coconut', 'olive', 'linseed']"
   ]
  },
  {
   "cell_type": "code",
   "execution_count": null,
   "metadata": {
    "collapsed": false
   },
   "outputs": [],
   "source": [
    "[oil for oil in oils if 'm' in oil or 'c' in oil]   # Can't look backwards; MUCH faster; but cannot be stored.\n",
    "                    # Generator: Function that has a yield statement instead of a return; "
   ]
  },
  {
   "cell_type": "code",
   "execution_count": null,
   "metadata": {
    "collapsed": false
   },
   "outputs": [],
   "source": [
    "result = (oil for oil in oils if 'm' in oil or 'c' in oil)  # iterator/generator expression; genexp; for loop \n",
    "                                                            # result is the iterator\n",
    "                                                            # i is the loop variable    \n",
    "for i in result:\n",
    "    print(i)"
   ]
  },
  {
   "cell_type": "markdown",
   "metadata": {},
   "source": [
    "# Regular Expressions"
   ]
  },
  {
   "cell_type": "code",
   "execution_count": null,
   "metadata": {
    "collapsed": true
   },
   "outputs": [],
   "source": [
    "import re\n"
   ]
  },
  {
   "cell_type": "markdown",
   "metadata": {},
   "source": [
    "# REGEX FUNCTIONS: Matching and finding \n",
    "- re.compile\n",
    "- re.findall\n",
    "- re.finditer\n",
    "- re.match  * \n",
    "- re.search\n",
    "- re.split  *   \n",
    "- re.sub    * use# anything that matches this sub, replace\n",
    "\n",
    "# REGEX FLAGS: Modiy and describe any of the above\n",
    "- re.VERBOSE  \n",
    "- re.X (same as re.VERBOSE)\n",
    "- re.IGNORECASE\n",
    "- re.MULTILINE\n",
    "- re.M\n",
    "\n",
    "USE THIS TO TEST/VIEW REGEX\n",
    "https://regexper.com"
   ]
  },
  {
   "cell_type": "code",
   "execution_count": null,
   "metadata": {
    "collapsed": false
   },
   "outputs": [],
   "source": [
    "phrase= 'There once was a man from Nantucket, something about a bucket'"
   ]
  },
  {
   "cell_type": "code",
   "execution_count": null,
   "metadata": {
    "collapsed": false
   },
   "outputs": [],
   "source": [
    "re.search('\\w{2}\\s', phrase)   # returns a MATCH Object. Then set the match to a variable"
   ]
  },
  {
   "cell_type": "code",
   "execution_count": null,
   "metadata": {
    "collapsed": false
   },
   "outputs": [],
   "source": [
    "match = re.search('\\s(\\w{2,})\\s', phrase)   # returns a MATCH Object"
   ]
  },
  {
   "cell_type": "code",
   "execution_count": null,
   "metadata": {
    "collapsed": false
   },
   "outputs": [],
   "source": [
    "match.start()"
   ]
  },
  {
   "cell_type": "code",
   "execution_count": null,
   "metadata": {
    "collapsed": false
   },
   "outputs": [],
   "source": [
    "match.end()"
   ]
  },
  {
   "cell_type": "code",
   "execution_count": null,
   "metadata": {
    "collapsed": false
   },
   "outputs": [],
   "source": [
    "phrase"
   ]
  },
  {
   "cell_type": "code",
   "execution_count": null,
   "metadata": {
    "collapsed": false
   },
   "outputs": [],
   "source": [
    "phrase[match.start():match.end()]"
   ]
  },
  {
   "cell_type": "code",
   "execution_count": null,
   "metadata": {
    "collapsed": false
   },
   "outputs": [],
   "source": [
    "match.span()"
   ]
  },
  {
   "cell_type": "code",
   "execution_count": null,
   "metadata": {
    "collapsed": false
   },
   "outputs": [],
   "source": [
    "match.group()"
   ]
  },
  {
   "cell_type": "code",
   "execution_count": null,
   "metadata": {
    "collapsed": false
   },
   "outputs": [],
   "source": [
    "# \\d+\\s+.+,\\s [A-Z]+"
   ]
  },
  {
   "cell_type": "code",
   "execution_count": null,
   "metadata": {
    "collapsed": false
   },
   "outputs": [],
   "source": [
    "# W\\"
   ]
  },
  {
   "cell_type": "code",
   "execution_count": null,
   "metadata": {
    "collapsed": false
   },
   "outputs": [],
   "source": [
    "# [a-z A-Z %]"
   ]
  },
  {
   "cell_type": "code",
   "execution_count": null,
   "metadata": {
    "collapsed": false
   },
   "outputs": [],
   "source": [
    "# .... # groups of 4 chars"
   ]
  },
  {
   "cell_type": "code",
   "execution_count": null,
   "metadata": {
    "collapsed": false
   },
   "outputs": [],
   "source": [
    "# (\\s\\w+\\s)(...) "
   ]
  },
  {
   "cell_type": "code",
   "execution_count": null,
   "metadata": {
    "collapsed": false
   },
   "outputs": [],
   "source": [
    "# pattern = re.compile(r'''\n",
    "#                    \\s        # a Space\n",
    "#                    \\(w{2,})   # a group\n",
    "#                    \\s         # a Space\n",
    "#                    ''', re.X)"
   ]
  },
  {
   "cell_type": "code",
   "execution_count": null,
   "metadata": {
    "collapsed": false
   },
   "outputs": [],
   "source": [
    "# EXAMPLES\n",
    "import re\n",
    "m = re.search('(?<=abc)def', 'abcdef')\n",
    "m.group(0)\n",
    "\n"
   ]
  },
  {
   "cell_type": "code",
   "execution_count": null,
   "metadata": {
    "collapsed": false
   },
   "outputs": [],
   "source": [
    "# EXAMPLES\n",
    "m = re.search('(?<=-)\\w+', 'spam-egg')\n",
    "m.group(0)"
   ]
  },
  {
   "cell_type": "code",
   "execution_count": null,
   "metadata": {
    "collapsed": true
   },
   "outputs": [],
   "source": [
    "phrase = 'True Wit is9 nature9 to advantage dress\\'d, 9what oft was thought but ne\\'er so well express\\'d.'"
   ]
  },
  {
   "cell_type": "code",
   "execution_count": null,
   "metadata": {
    "collapsed": false
   },
   "outputs": [],
   "source": [
    "re.search('\\w{2}\\s', phrase) "
   ]
  },
  {
   "cell_type": "code",
   "execution_count": null,
   "metadata": {
    "collapsed": true
   },
   "outputs": [],
   "source": [
    "match = re.search('\\s\\w{2}\\s', phrase)   # transformation step "
   ]
  },
  {
   "cell_type": "code",
   "execution_count": null,
   "metadata": {
    "collapsed": false
   },
   "outputs": [],
   "source": [
    "match.start()"
   ]
  },
  {
   "cell_type": "code",
   "execution_count": null,
   "metadata": {
    "collapsed": false
   },
   "outputs": [],
   "source": [
    "re.search(r'\\s\\w{4,}', phrase)"
   ]
  },
  {
   "cell_type": "code",
   "execution_count": null,
   "metadata": {
    "collapsed": false
   },
   "outputs": [],
   "source": [
    "re.match(r'\\s\\w{4,}\\s', phrase)"
   ]
  },
  {
   "cell_type": "code",
   "execution_count": null,
   "metadata": {
    "collapsed": false
   },
   "outputs": [],
   "source": [
    "re.findall(r'\\w{4,}', phrase)"
   ]
  },
  {
   "cell_type": "code",
   "execution_count": null,
   "metadata": {
    "collapsed": false
   },
   "outputs": [],
   "source": [
    "re.sub(r'\\w{4,}',' ', phrase)"
   ]
  },
  {
   "cell_type": "code",
   "execution_count": null,
   "metadata": {
    "collapsed": true
   },
   "outputs": [],
   "source": [
    "scrub_num = 'Be9autiful9 i4s be2tter th4an ug42ly'\n"
   ]
  },
  {
   "cell_type": "code",
   "execution_count": null,
   "metadata": {
    "collapsed": false
   },
   "outputs": [],
   "source": [
    "re.sub(r'\\d+',' ', phrase)"
   ]
  },
  {
   "cell_type": "code",
   "execution_count": null,
   "metadata": {
    "collapsed": false
   },
   "outputs": [],
   "source": [
    "# something = ('Readability counts')\n",
    "# x = list(something.split())\n",
    "# print(x)\n"
   ]
  },
  {
   "cell_type": "code",
   "execution_count": null,
   "metadata": {
    "collapsed": false
   },
   "outputs": [],
   "source": [
    "#something = ('Readability counts')\n",
    "\n",
    "#something.split()\n",
    "\n",
    "#result1 = list(something[0:11:10] + something[12:18:5])\n",
    "    "
   ]
  },
  {
   "cell_type": "code",
   "execution_count": null,
   "metadata": {
    "collapsed": false
   },
   "outputs": [],
   "source": [
    "result1"
   ]
  },
  {
   "cell_type": "code",
   "execution_count": null,
   "metadata": {
    "collapsed": false
   },
   "outputs": [],
   "source": [
    "# #something.split()\n",
    "\n",
    "# result1 = list(something[0:11:10] + something[12:18:5])\n",
    "# result1.insert(1,'9')\n",
    "# result1.insert(4, '4')\n",
    "# print(result1)"
   ]
  },
  {
   "cell_type": "code",
   "execution_count": null,
   "metadata": {
    "collapsed": false
   },
   "outputs": [],
   "source": [
    "# ''.join(result1[0:3])\n",
    "\n"
   ]
  },
  {
   "cell_type": "code",
   "execution_count": null,
   "metadata": {
    "collapsed": false
   },
   "outputs": [],
   "source": [
    "# result1 = list(something[0:11:10] + something[12:18:5])\n",
    "# result1.insert(1,'9')\n",
    "# result1.insert(4,'4')\n",
    "# result2 = str(''.join(result1[0:3]))\n",
    "# result3 = str(''.join(result1)[3:7])\n",
    "\n",
    "# print(repr(result2 +' '+ result3))\n"
   ]
  },
  {
   "cell_type": "code",
   "execution_count": null,
   "metadata": {
    "collapsed": false
   },
   "outputs": [],
   "source": [
    "import re\n",
    "def strong_cleaner(something):\n",
    "\n",
    "    something = 'Err@#%$ors sho@#$@#$uld nev1!$#@er pass sile&I&&*(ntly'\n",
    "    result = re.sub(r'[^[A-Z]]', '', something)        #(r'\\W*?@#%$!&({A-Z}\n",
    "    return result"
   ]
  },
  {
   "cell_type": "code",
   "execution_count": null,
   "metadata": {
    "collapsed": false
   },
   "outputs": [],
   "source": [
    "result"
   ]
  },
  {
   "cell_type": "code",
   "execution_count": null,
   "metadata": {
    "collapsed": true
   },
   "outputs": [],
   "source": []
  },
  {
   "cell_type": "markdown",
   "metadata": {},
   "source": [
    "# Data (OOP)"
   ]
  },
  {
   "cell_type": "markdown",
   "metadata": {},
   "source": [
    "- Higher Order\n",
    "- Quantify Words\n"
   ]
  },
  {
   "cell_type": "code",
   "execution_count": null,
   "metadata": {
    "collapsed": false
   },
   "outputs": [],
   "source": [
    "def cleaner(phrase): \n",
    "    phrase = \"\"\"\n",
    "    To be or not to be a rabbit with pink ears. \n",
    "    \"\"\"\n",
    "\n",
    "    word_count = dict()               # Initialize empty dictionary\n",
    "    clean_phrase = phrase.lower()     #\n",
    "    split_ups = clean_phrase.split()  # A list of words\n",
    "\n",
    "    for word in split_ups:\n",
    "        if word in word_count:\n",
    "            word_count[words] += 1    # if it exists, increment by 1\n",
    "        else:\n",
    "            word_count[word] = 1      # if it does NOT exist, assign by the loop var as 1. \n",
    "        \n",
    "\n",
    "# ALTERNATE        \n",
    "# try:           \n",
    "#     word_counts[words] += 1\n",
    "\n",
    "# except KeyError:\n",
    "#     word_counts[words] += 1\n",
    "\n"
   ]
  },
  {
   "cell_type": "code",
   "execution_count": null,
   "metadata": {
    "collapsed": false
   },
   "outputs": [],
   "source": [
    "phrase"
   ]
  },
  {
   "cell_type": "markdown",
   "metadata": {},
   "source": [
    "# File I/O: Reading and Writing Files\n",
    "\n"
   ]
  },
  {
   "cell_type": "code",
   "execution_count": 41,
   "metadata": {
    "collapsed": false
   },
   "outputs": [],
   "source": [
    "# open()"
   ]
  },
  {
   "cell_type": "code",
   "execution_count": null,
   "metadata": {
    "collapsed": false
   },
   "outputs": [],
   "source": [
    "ls 1_Python/3_Applied_Python/labs/ari/books/\n"
   ]
  },
  {
   "cell_type": "code",
   "execution_count": null,
   "metadata": {
    "collapsed": false
   },
   "outputs": [],
   "source": [
    "ls /Users/michaelevan/temp/pdx_code/PythonFullStack/1_Python/3_Applied_Python/labs/ari/books/jack_and_jill.txt "
   ]
  },
  {
   "cell_type": "code",
   "execution_count": null,
   "metadata": {
    "collapsed": true
   },
   "outputs": [],
   "source": [
    "path = '/Users/michaelevan/temp/pdx_code/PythonFullStack/1_Python/3_Applied_Python/labs/ari/books/jack_and_jill.txt'"
   ]
  },
  {
   "cell_type": "code",
   "execution_count": null,
   "metadata": {
    "collapsed": false
   },
   "outputs": [],
   "source": [
    "def get_data(path):\n",
    "    with open(path, 'r') as file:   # Context returns a file object; it can be a\n",
    "        text = file.read()      # .read is a file method that returns the text object as a single string.\n",
    "#         return text             # .readline, and .readlines that knows to get next line as needed.  "
   ]
  },
  {
   "cell_type": "code",
   "execution_count": 42,
   "metadata": {
    "collapsed": false
   },
   "outputs": [],
   "source": [
    "text = get_data(path)"
   ]
  },
  {
   "cell_type": "code",
   "execution_count": 43,
   "metadata": {
    "collapsed": false
   },
   "outputs": [
    {
     "name": "stdout",
     "output_type": "stream",
     "text": [
      "Jack and Jill went up the hill\n",
      "To fetch a pail of water.\n",
      "Jack fell down and broke his crown,\n",
      "And Jill came tumbling after.\n",
      "\n",
      "Up Jack got, and home did trot,\n",
      "As fast as he could caper,\n",
      "To old Dame Dob, who patched his nob\n",
      "With vinegar and brown paper.\n",
      "\n"
     ]
    }
   ],
   "source": [
    "print(text)"
   ]
  },
  {
   "cell_type": "code",
   "execution_count": 44,
   "metadata": {
    "collapsed": false,
    "scrolled": true
   },
   "outputs": [
    {
     "data": {
      "text/plain": [
       "['Jack',\n",
       " 'and',\n",
       " 'Jill',\n",
       " 'went',\n",
       " 'up',\n",
       " 'the',\n",
       " 'hill',\n",
       " 'To',\n",
       " 'fetch',\n",
       " 'a',\n",
       " 'pail',\n",
       " 'of',\n",
       " 'water.',\n",
       " 'Jack',\n",
       " 'fell',\n",
       " 'down',\n",
       " 'and',\n",
       " 'broke',\n",
       " 'his',\n",
       " 'crown,',\n",
       " 'And',\n",
       " 'Jill',\n",
       " 'came',\n",
       " 'tumbling',\n",
       " 'after.',\n",
       " 'Up',\n",
       " 'Jack',\n",
       " 'got,',\n",
       " 'and',\n",
       " 'home',\n",
       " 'did',\n",
       " 'trot,',\n",
       " 'As',\n",
       " 'fast',\n",
       " 'as',\n",
       " 'he',\n",
       " 'could',\n",
       " 'caper,',\n",
       " 'To',\n",
       " 'old',\n",
       " 'Dame',\n",
       " 'Dob,',\n",
       " 'who',\n",
       " 'patched',\n",
       " 'his',\n",
       " 'nob',\n",
       " 'With',\n",
       " 'vinegar',\n",
       " 'and',\n",
       " 'brown',\n",
       " 'paper.']"
      ]
     },
     "execution_count": 44,
     "metadata": {},
     "output_type": "execute_result"
    }
   ],
   "source": [
    "text.split()"
   ]
  },
  {
   "cell_type": "markdown",
   "metadata": {},
   "source": [
    "# Text Analysis:  Using .get"
   ]
  },
  {
   "cell_type": "code",
   "execution_count": 45,
   "metadata": {
    "collapsed": false
   },
   "outputs": [
    {
     "name": "stdout",
     "output_type": "stream",
     "text": [
      "a 1\n",
      "after 1\n",
      "and 5\n",
      "as 2\n",
      "broke 1\n",
      "brown 1\n",
      "came 1\n",
      "caper 1\n",
      "could 1\n",
      "crown 1\n",
      "dame 1\n",
      "did 1\n",
      "dob 1\n",
      "down 1\n",
      "fast 1\n",
      "fell 1\n",
      "fetch 1\n",
      "got 1\n",
      "he 1\n",
      "hill 1\n",
      "his 2\n",
      "home 1\n",
      "jack 3\n",
      "jill 2\n",
      "nob 1\n",
      "of 1\n",
      "old 1\n",
      "pail 1\n",
      "paper 1\n",
      "patched 1\n",
      "the 1\n",
      "to 2\n",
      "trot 1\n",
      "tumbling 1\n",
      "up 2\n",
      "vinegar 1\n",
      "water 1\n",
      "went 1\n",
      "who 1\n",
      "with 1\n"
     ]
    }
   ],
   "source": [
    "import re\n",
    "\n",
    "\n",
    "\n",
    "def get_data(path):\n",
    "\n",
    "    with open(path, 'r') as file:       # Context returns a file object; it can be a\n",
    "        text = file.read()              # .read is a file method that returns the text object as a string.\n",
    "        return text\n",
    "\n",
    "\n",
    "def cleaner(raw: str) -> str:\n",
    "    \"\"\"\n",
    "     Clean the list phrase so it's all lower case.\n",
    "\n",
    "     >>> cleaner('test, llama.')\n",
    "     'test llama'\n",
    "\n",
    "    :param raw: str\n",
    "    :return: str\n",
    "    \"\"\"\n",
    "    small_txt = raw.lower()\n",
    "    cleanest = re.sub(r\"[.,']\", '', small_txt)\n",
    "\n",
    "    return cleanest\n",
    "\n",
    "\n",
    "def quantify_words(path):\n",
    "    phrase = get_data(path)\n",
    "\n",
    "    cleaned = cleaner(phrase)          # Returns the value of the function called.\n",
    "    split_ups = cleaned.split()\n",
    "\n",
    "    word_count = dict()                 # Build an empty dict.\n",
    "    for word in split_ups:              # For loop var in split_ups, loop:\n",
    "        if word in word_count:          # If loop var occurs ...\n",
    "            word_count[word] += 1\n",
    "        else:\n",
    "            word_count[word] = 1        # alternate: word_count.update({word: 1})\n",
    "            continue\n",
    "\n",
    "    for key, count in sorted(word_count.items()):  # items()  creates a list of tuples\n",
    "        print(key, count)\n",
    "\n",
    "path = '/Users/michaelevan/temp/pdx_code/PythonFullStack/1_Python/3_Applied_Python/labs/ari/books/jack_and_jill.txt'\n",
    "quantify_words(path)\n",
    "\n",
    "\n"
   ]
  },
  {
   "cell_type": "code",
   "execution_count": 46,
   "metadata": {
    "collapsed": false
   },
   "outputs": [
    {
     "data": {
      "text/plain": [
       "<function __main__.get_data>"
      ]
     },
     "execution_count": 46,
     "metadata": {},
     "output_type": "execute_result"
    }
   ],
   "source": [
    "get_data"
   ]
  },
  {
   "cell_type": "code",
   "execution_count": 47,
   "metadata": {
    "collapsed": false
   },
   "outputs": [],
   "source": [
    "dinos = {'Pteradactyl': 'air', 'TREX': 'land'}"
   ]
  },
  {
   "cell_type": "code",
   "execution_count": 48,
   "metadata": {
    "collapsed": false
   },
   "outputs": [
    {
     "data": {
      "text/plain": [
       "'land'"
      ]
     },
     "execution_count": 48,
     "metadata": {},
     "output_type": "execute_result"
    }
   ],
   "source": [
    "dinos['TREX']"
   ]
  },
  {
   "cell_type": "code",
   "execution_count": 49,
   "metadata": {
    "collapsed": false
   },
   "outputs": [],
   "source": [
    "dinos.get('tricer', None)"
   ]
  },
  {
   "cell_type": "code",
   "execution_count": 50,
   "metadata": {
    "collapsed": false
   },
   "outputs": [
    {
     "data": {
      "text/plain": [
       "('spam', 'eggs')"
      ]
     },
     "execution_count": 50,
     "metadata": {},
     "output_type": "execute_result"
    }
   ],
   "source": [
    "dinos.get('triceratops', ('spam', 'eggs'))"
   ]
  },
  {
   "cell_type": "code",
   "execution_count": 51,
   "metadata": {
    "collapsed": false
   },
   "outputs": [],
   "source": [
    "phrase = 'To be or not to be a rabbit with pink ears.'"
   ]
  },
  {
   "cell_type": "code",
   "execution_count": 52,
   "metadata": {
    "collapsed": false
   },
   "outputs": [],
   "source": [
    "def cleaner(phrase): \n",
    "    phrase = 'To be or not to be a rabbit with pink ears.'\n",
    "    word_count = dict()\n",
    "    clean_phrase = phrase.lower()\n",
    "    split_ups = clean_phrase.split()\n",
    "\n",
    "    for word in split_ups:              \n",
    "        if word in word_count:          \n",
    "            word_count[word] = word_count.get(word, 0)+1   # Overrides the value each time \n"
   ]
  },
  {
   "cell_type": "code",
   "execution_count": null,
   "metadata": {
    "collapsed": true
   },
   "outputs": [],
   "source": []
  },
  {
   "cell_type": "code",
   "execution_count": 53,
   "metadata": {
    "collapsed": true
   },
   "outputs": [],
   "source": [
    "from collections import Counter    # high performance container  types"
   ]
  },
  {
   "cell_type": "code",
   "execution_count": 54,
   "metadata": {
    "collapsed": false
   },
   "outputs": [
    {
     "data": {
      "text/plain": [
       "Counter()"
      ]
     },
     "execution_count": 54,
     "metadata": {},
     "output_type": "execute_result"
    }
   ],
   "source": [
    "Counter()    # Dict-subclass. COunter obj can only return an Object"
   ]
  },
  {
   "cell_type": "code",
   "execution_count": 55,
   "metadata": {
    "collapsed": false
   },
   "outputs": [
    {
     "data": {
      "text/plain": [
       "Counter({'To': 1,\n",
       "         'a': 1,\n",
       "         'be': 2,\n",
       "         'ears.': 1,\n",
       "         'not': 1,\n",
       "         'or': 1,\n",
       "         'pink': 1,\n",
       "         'rabbit': 1,\n",
       "         'to': 1,\n",
       "         'with': 1})"
      ]
     },
     "execution_count": 55,
     "metadata": {},
     "output_type": "execute_result"
    }
   ],
   "source": [
    "Counter(phrase.split())"
   ]
  },
  {
   "cell_type": "markdown",
   "metadata": {},
   "source": [
    "# Two Methods of initializing and iterating the list of words (in the dict)"
   ]
  },
  {
   "cell_type": "code",
   "execution_count": 56,
   "metadata": {
    "collapsed": true
   },
   "outputs": [],
   "source": [
    "from collections import defaultdict"
   ]
  },
  {
   "cell_type": "code",
   "execution_count": 57,
   "metadata": {
    "collapsed": false
   },
   "outputs": [],
   "source": [
    "the_count = defaultdict(int)\n",
    "for word in phrase.split(): \n",
    "    the_count[word] += 1\n",
    "    \n"
   ]
  },
  {
   "cell_type": "code",
   "execution_count": 58,
   "metadata": {
    "collapsed": false
   },
   "outputs": [
    {
     "name": "stdout",
     "output_type": "stream",
     "text": [
      "defaultdict(<class 'int'>, {'To': 1, 'be': 2, 'or': 1, 'not': 1, 'to': 1, 'a': 1, 'rabbit': 1, 'with': 1, 'pink': 1, 'ears.': 1})\n"
     ]
    }
   ],
   "source": [
    "print(the_count)"
   ]
  },
  {
   "cell_type": "code",
   "execution_count": 59,
   "metadata": {
    "collapsed": false
   },
   "outputs": [],
   "source": [
    "the_count = defaultdict(list)\n",
    "for word in phrase.split():\n",
    "    the_count[word].append(word)"
   ]
  },
  {
   "cell_type": "code",
   "execution_count": 60,
   "metadata": {
    "collapsed": false
   },
   "outputs": [
    {
     "name": "stdout",
     "output_type": "stream",
     "text": [
      "defaultdict(<class 'list'>, {'To': ['To'], 'be': ['be', 'be'], 'or': ['or'], 'not': ['not'], 'to': ['to'], 'a': ['a'], 'rabbit': ['rabbit'], 'with': ['with'], 'pink': ['pink'], 'ears.': ['ears.']})\n"
     ]
    }
   ],
   "source": [
    "print(the_count)"
   ]
  },
  {
   "cell_type": "code",
   "execution_count": 61,
   "metadata": {
    "collapsed": false
   },
   "outputs": [
    {
     "name": "stdout",
     "output_type": "stream",
     "text": [
      "/Users/michaelevan/temp/pdx_code/PythonFullStack/1_Python/3_Applied_Python/labs/ari/books/gettysburg_address.txt\r\n"
     ]
    }
   ],
   "source": [
    "ls /Users/michaelevan/temp/pdx_code/PythonFullStack/1_Python/3_Applied_Python/labs/ari/books/gettysburg_address.txt"
   ]
  },
  {
   "cell_type": "code",
   "execution_count": 62,
   "metadata": {
    "collapsed": false
   },
   "outputs": [
    {
     "ename": "SyntaxError",
     "evalue": "EOL while scanning string literal (<ipython-input-62-95da2fcfc3f2>, line 1)",
     "output_type": "error",
     "traceback": [
      "\u001b[0;36m  File \u001b[0;32m\"<ipython-input-62-95da2fcfc3f2>\"\u001b[0;36m, line \u001b[0;32m1\u001b[0m\n\u001b[0;31m    path = '/Users/michaelevan/temp/pdx_code/PythonFullStack/1_Python/3_Applied_Python/labs/ari/books/''\u001b[0m\n\u001b[0m                                                                                                        ^\u001b[0m\n\u001b[0;31mSyntaxError\u001b[0m\u001b[0;31m:\u001b[0m EOL while scanning string literal\n"
     ]
    }
   ],
   "source": [
    "path = '/Users/michaelevan/temp/pdx_code/PythonFullStack/1_Python/3_Applied_Python/labs/ari/books/''"
   ]
  },
  {
   "cell_type": "code",
   "execution_count": 63,
   "metadata": {
    "collapsed": false
   },
   "outputs": [
    {
     "data": {
      "text/plain": [
       "<_io.TextIOWrapper name='/Users/michaelevan/temp/pdx_code/PythonFullStack/1_Python/3_Applied_Python/labs/ari/books/jack_and_jill.txt' mode='r' encoding='UTF-8'>"
      ]
     },
     "execution_count": 63,
     "metadata": {},
     "output_type": "execute_result"
    }
   ],
   "source": [
    "open(path)\n"
   ]
  },
  {
   "cell_type": "code",
   "execution_count": null,
   "metadata": {
    "collapsed": true
   },
   "outputs": [],
   "source": []
  },
  {
   "cell_type": "code",
   "execution_count": 64,
   "metadata": {
    "collapsed": true
   },
   "outputs": [],
   "source": [
    "import os\n",
    "\n"
   ]
  },
  {
   "cell_type": "code",
   "execution_count": 65,
   "metadata": {
    "collapsed": false
   },
   "outputs": [
    {
     "data": {
      "text/plain": [
       "['geneology_of_morals.txt',\n",
       " 'gettysburg_address.txt',\n",
       " 'iliad.txt',\n",
       " 'jack_and_jill.txt',\n",
       " 'licenses',\n",
       " 'marketing_ipsum.txt',\n",
       " 'odyssey.txt',\n",
       " 'po.txt',\n",
       " 'the_room_with_the_little_door.txt']"
      ]
     },
     "execution_count": 65,
     "metadata": {},
     "output_type": "execute_result"
    }
   ],
   "source": [
    "os.listdir('/Users/michaelevan/temp/pdx_code/PythonFullStack/1_Python/3_Applied_Python/labs/ari/books/')"
   ]
  },
  {
   "cell_type": "code",
   "execution_count": 102,
   "metadata": {
    "collapsed": false
   },
   "outputs": [],
   "source": [
    "lincoln = 'To compute its automated readability index, pick from one of the files Bad conscience is a sickness, there is no point in denying it, but a sickness rather like pregnancy. Let us examine the conditions under which this sickness reached its most terrible and sublime peak: – we shall see what, with this, really entered the world. But we shall need a great deal of staying power, – and first we have to return to an earlier point. The relationship of a debtor to his creditor in civil law, about which I have written at length already, was for a second time transformed through interpretation, in a historically extremely strange and curious manner, into a relationship in which it is perhaps least comprehensible to us modern men: that is the relationship of the present generation to their forebears. Within the original tribal association – we are talking about primeval times – the living generation always acknowledged a legal obligation towards the earlier generation, and in particular towards the earliest, which founded the tribe (and this was not just a sentimental tie: this latter could, with good reason, be denied altogether for the longest period of the human race). There is a prevailing conviction that the tribe exists only because of the sacrifices and deeds of the forefathers, – and that these have to be paid back with sacrifices and deeds: people recognize an indebtedness [Schuld], which continually increases because these ancestors continue to exist as mighty spirits, giving the tribe new advantages and lending it some of their power.'\n"
   ]
  },
  {
   "cell_type": "code",
   "execution_count": 103,
   "metadata": {
    "collapsed": false
   },
   "outputs": [
    {
     "data": {
      "text/plain": [
       "1561"
      ]
     },
     "execution_count": 103,
     "metadata": {},
     "output_type": "execute_result"
    }
   ],
   "source": [
    "len(lincoln)"
   ]
  },
  {
   "cell_type": "code",
   "execution_count": 104,
   "metadata": {
    "collapsed": false
   },
   "outputs": [
    {
     "data": {
      "text/plain": [
       "['To',\n",
       " 'compute',\n",
       " 'its',\n",
       " 'automated',\n",
       " 'readability',\n",
       " 'index,',\n",
       " 'pick',\n",
       " 'from',\n",
       " 'one',\n",
       " 'of',\n",
       " 'the',\n",
       " 'files',\n",
       " 'Bad',\n",
       " 'conscience',\n",
       " 'is',\n",
       " 'a',\n",
       " 'sickness,',\n",
       " 'there',\n",
       " 'is',\n",
       " 'no',\n",
       " 'point',\n",
       " 'in',\n",
       " 'denying',\n",
       " 'it,',\n",
       " 'but',\n",
       " 'a',\n",
       " 'sickness',\n",
       " 'rather',\n",
       " 'like',\n",
       " 'pregnancy.',\n",
       " 'Let',\n",
       " 'us',\n",
       " 'examine',\n",
       " 'the',\n",
       " 'conditions',\n",
       " 'under',\n",
       " 'which',\n",
       " 'this',\n",
       " 'sickness',\n",
       " 'reached',\n",
       " 'its',\n",
       " 'most',\n",
       " 'terrible',\n",
       " 'and',\n",
       " 'sublime',\n",
       " 'peak:',\n",
       " '–',\n",
       " 'we',\n",
       " 'shall',\n",
       " 'see',\n",
       " 'what,',\n",
       " 'with',\n",
       " 'this,',\n",
       " 'really',\n",
       " 'entered',\n",
       " 'the',\n",
       " 'world.',\n",
       " 'But',\n",
       " 'we',\n",
       " 'shall',\n",
       " 'need',\n",
       " 'a',\n",
       " 'great',\n",
       " 'deal',\n",
       " 'of',\n",
       " 'staying',\n",
       " 'power,',\n",
       " '–',\n",
       " 'and',\n",
       " 'first',\n",
       " 'we',\n",
       " 'have',\n",
       " 'to',\n",
       " 'return',\n",
       " 'to',\n",
       " 'an',\n",
       " 'earlier',\n",
       " 'point.',\n",
       " 'The',\n",
       " 'relationship',\n",
       " 'of',\n",
       " 'a',\n",
       " 'debtor',\n",
       " 'to',\n",
       " 'his',\n",
       " 'creditor',\n",
       " 'in',\n",
       " 'civil',\n",
       " 'law,',\n",
       " 'about',\n",
       " 'which',\n",
       " 'I',\n",
       " 'have',\n",
       " 'written',\n",
       " 'at',\n",
       " 'length',\n",
       " 'already,',\n",
       " 'was',\n",
       " 'for',\n",
       " 'a',\n",
       " 'second',\n",
       " 'time',\n",
       " 'transformed',\n",
       " 'through',\n",
       " 'interpretation,',\n",
       " 'in',\n",
       " 'a',\n",
       " 'historically',\n",
       " 'extremely',\n",
       " 'strange',\n",
       " 'and',\n",
       " 'curious',\n",
       " 'manner,',\n",
       " 'into',\n",
       " 'a',\n",
       " 'relationship',\n",
       " 'in',\n",
       " 'which',\n",
       " 'it',\n",
       " 'is',\n",
       " 'perhaps',\n",
       " 'least',\n",
       " 'comprehensible',\n",
       " 'to',\n",
       " 'us',\n",
       " 'modern',\n",
       " 'men:',\n",
       " 'that',\n",
       " 'is',\n",
       " 'the',\n",
       " 'relationship',\n",
       " 'of',\n",
       " 'the',\n",
       " 'present',\n",
       " 'generation',\n",
       " 'to',\n",
       " 'their',\n",
       " 'forebears.',\n",
       " 'Within',\n",
       " 'the',\n",
       " 'original',\n",
       " 'tribal',\n",
       " 'association',\n",
       " '–',\n",
       " 'we',\n",
       " 'are',\n",
       " 'talking',\n",
       " 'about',\n",
       " 'primeval',\n",
       " 'times',\n",
       " '–',\n",
       " 'the',\n",
       " 'living',\n",
       " 'generation',\n",
       " 'always',\n",
       " 'acknowledged',\n",
       " 'a',\n",
       " 'legal',\n",
       " 'obligation',\n",
       " 'towards',\n",
       " 'the',\n",
       " 'earlier',\n",
       " 'generation,',\n",
       " 'and',\n",
       " 'in',\n",
       " 'particular',\n",
       " 'towards',\n",
       " 'the',\n",
       " 'earliest,',\n",
       " 'which',\n",
       " 'founded',\n",
       " 'the',\n",
       " 'tribe',\n",
       " '(and',\n",
       " 'this',\n",
       " 'was',\n",
       " 'not',\n",
       " 'just',\n",
       " 'a',\n",
       " 'sentimental',\n",
       " 'tie:',\n",
       " 'this',\n",
       " 'latter',\n",
       " 'could,',\n",
       " 'with',\n",
       " 'good',\n",
       " 'reason,',\n",
       " 'be',\n",
       " 'denied',\n",
       " 'altogether',\n",
       " 'for',\n",
       " 'the',\n",
       " 'longest',\n",
       " 'period',\n",
       " 'of',\n",
       " 'the',\n",
       " 'human',\n",
       " 'race).',\n",
       " 'There',\n",
       " 'is',\n",
       " 'a',\n",
       " 'prevailing',\n",
       " 'conviction',\n",
       " 'that',\n",
       " 'the',\n",
       " 'tribe',\n",
       " 'exists',\n",
       " 'only',\n",
       " 'because',\n",
       " 'of',\n",
       " 'the',\n",
       " 'sacrifices',\n",
       " 'and',\n",
       " 'deeds',\n",
       " 'of',\n",
       " 'the',\n",
       " 'forefathers,',\n",
       " '–',\n",
       " 'and',\n",
       " 'that',\n",
       " 'these',\n",
       " 'have',\n",
       " 'to',\n",
       " 'be',\n",
       " 'paid',\n",
       " 'back',\n",
       " 'with',\n",
       " 'sacrifices',\n",
       " 'and',\n",
       " 'deeds:',\n",
       " 'people',\n",
       " 'recognize',\n",
       " 'an',\n",
       " 'indebtedness',\n",
       " '[Schuld],',\n",
       " 'which',\n",
       " 'continually',\n",
       " 'increases',\n",
       " 'because',\n",
       " 'these',\n",
       " 'ancestors',\n",
       " 'continue',\n",
       " 'to',\n",
       " 'exist',\n",
       " 'as',\n",
       " 'mighty',\n",
       " 'spirits,',\n",
       " 'giving',\n",
       " 'the',\n",
       " 'tribe',\n",
       " 'new',\n",
       " 'advantages',\n",
       " 'and',\n",
       " 'lending',\n",
       " 'it',\n",
       " 'some',\n",
       " 'of',\n",
       " 'their',\n",
       " 'power.']"
      ]
     },
     "execution_count": 104,
     "metadata": {},
     "output_type": "execute_result"
    }
   ],
   "source": [
    "lincoln.split()"
   ]
  },
  {
   "cell_type": "code",
   "execution_count": 105,
   "metadata": {
    "collapsed": false
   },
   "outputs": [
    {
     "data": {
      "text/plain": [
       "'To compute its automated readability index, pick from one of the files Bad conscience is a sickness, there is no point in denying it, but a sickness rather like pregnancy. Let us examine the conditions under which this sickness reached its most terrible and sublime peak: – we shall see what, with this, really entered the world. But we shall need a great deal of staying power, – and first we have to return to an earlier point. The relationship of a debtor to his creditor in civil law, about which I have written at length already, was for a second time transformed through interpretation, in a historically extremely strange and curious manner, into a relationship in which it is perhaps least comprehensible to us modern men: that is the relationship of the present generation to their forebears. Within the original tribal association – we are talking about primeval times – the living generation always acknowledged a legal obligation towards the earlier generation, and in particular towards the earliest, which founded the tribe (and this was not just a sentimental tie: this latter could, with good reason, be denied altogether for the longest period of the human race). There is a prevailing conviction that the tribe exists only because of the sacrifices and deeds of the forefathers, – and that these have to be paid back with sacrifices and deeds: people recognize an indebtedness [Schuld], which continually increases because these ancestors continue to exist as mighty spirits, giving the tribe new advantages and lending it some of their power.'"
      ]
     },
     "execution_count": 105,
     "metadata": {},
     "output_type": "execute_result"
    }
   ],
   "source": [
    "str(lincoln)"
   ]
  },
  {
   "cell_type": "code",
   "execution_count": 107,
   "metadata": {
    "collapsed": false
   },
   "outputs": [
    {
     "data": {
      "text/plain": [
       "<_sre.SRE_Match object; span=(0, 7), match='lincoln'>"
      ]
     },
     "execution_count": 107,
     "metadata": {},
     "output_type": "execute_result"
    }
   ],
   "source": [
    "import re\n",
    "\n",
    "re.match(r'(\\w{1,})', 'lincoln')\n",
    "         \n",
    "# re.search"
   ]
  },
  {
   "cell_type": "code",
   "execution_count": 115,
   "metadata": {
    "collapsed": true
   },
   "outputs": [],
   "source": [
    "char_qty = len(lincoln)"
   ]
  },
  {
   "cell_type": "code",
   "execution_count": 116,
   "metadata": {
    "collapsed": false
   },
   "outputs": [
    {
     "data": {
      "text/plain": [
       "1561"
      ]
     },
     "execution_count": 116,
     "metadata": {},
     "output_type": "execute_result"
    }
   ],
   "source": [
    "char_qty"
   ]
  },
  {
   "cell_type": "code",
   "execution_count": 122,
   "metadata": {
    "collapsed": false
   },
   "outputs": [
    {
     "data": {
      "text/plain": [
       "<_sre.SRE_Match object; span=(0, 7), match='lincoln'>"
      ]
     },
     "execution_count": 122,
     "metadata": {},
     "output_type": "execute_result"
    }
   ],
   "source": [
    "re.match(r'(\\w{1,})', 'lincoln')"
   ]
  },
  {
   "cell_type": "code",
   "execution_count": 123,
   "metadata": {
    "collapsed": false
   },
   "outputs": [],
   "source": [
    "match = re.match(r'(\\w{1,})', 'lincoln')"
   ]
  },
  {
   "cell_type": "code",
   "execution_count": 124,
   "metadata": {
    "collapsed": false
   },
   "outputs": [
    {
     "data": {
      "text/plain": [
       "<_sre.SRE_Match object; span=(0, 7), match='lincoln'>"
      ]
     },
     "execution_count": 124,
     "metadata": {},
     "output_type": "execute_result"
    }
   ],
   "source": [
    "match"
   ]
  },
  {
   "cell_type": "code",
   "execution_count": 125,
   "metadata": {
    "collapsed": false
   },
   "outputs": [
    {
     "data": {
      "text/plain": [
       "259"
      ]
     },
     "execution_count": 125,
     "metadata": {},
     "output_type": "execute_result"
    }
   ],
   "source": [
    "len(lincoln.split())"
   ]
  },
  {
   "cell_type": "code",
   "execution_count": null,
   "metadata": {
    "collapsed": true
   },
   "outputs": [],
   "source": []
  },
  {
   "cell_type": "code",
   "execution_count": null,
   "metadata": {
    "collapsed": true
   },
   "outputs": [],
   "source": []
  },
  {
   "cell_type": "code",
   "execution_count": 127,
   "metadata": {
    "collapsed": false
   },
   "outputs": [
    {
     "ename": "SyntaxError",
     "evalue": "unexpected character after line continuation character (<ipython-input-127-4ff7cb9528e6>, line 1)",
     "output_type": "error",
     "traceback": [
      "\u001b[0;36m  File \u001b[0;32m\"<ipython-input-127-4ff7cb9528e6>\"\u001b[0;36m, line \u001b[0;32m1\u001b[0m\n\u001b[0;31m    re.compile(r\"\"\"\"\"\"[A-Z][a-z]+[\\s\\w\\,\\:\\-\\(\\)\\[\\]\\–]+\\.\"\"\", re.X)\u001b[0m\n\u001b[0m                                                                    ^\u001b[0m\n\u001b[0;31mSyntaxError\u001b[0m\u001b[0;31m:\u001b[0m unexpected character after line continuation character\n"
     ]
    }
   ],
   "source": [
    "re.compile(r\"\"\"\"\"\"[A-Z][a-z]+[\\s\\w\\,\\:\\-\\(\\)\\[\\]\\–]+\\.\"\"\", re.X)"
   ]
  },
  {
   "cell_type": "code",
   "execution_count": 128,
   "metadata": {
    "collapsed": true
   },
   "outputs": [],
   "source": [
    "x= 'Four score and seven years ago our fathers brought forth on this continent, a new nation, conceived in Liberty, and dedicated to the proposition that all men are created equal.Now we are engaged in a great civil war, testing whether that nation, or any nation so conceived and so dedicated, can long endure. We are met on a great battle-field of that war. We have come to dedicate a portion of that field, as a final resting place for those who here gave their lives that that nation might live. It is altogether fitting and proper that we should do this.But, in a larger sense, we can not dedicate -- we can not consecrate -- we can not hallow -- this ground. The brave men, living and dead, who struggled here, have consecrated it, far above our poor power to add or detract. The world will little note, nor long remember what we say here, but it can never forget what they did here. It is for us the living, rather, to be dedicated here to the unfinished work which they who fought here have thus far so nobly advanced. It is rather for us to be here dedicated to the great task remaining before us -- that from these honored dead we take increased devotion to that cause for which they gave the last full measure of devotion -- that we here highly resolve that these dead shall not have died in vain -- that this nation, under God, shall have a new birth of freedom -- and that government of the people, by the people, for the people, shall not perish from the earth.'\n",
    "\n"
   ]
  },
  {
   "cell_type": "code",
   "execution_count": 129,
   "metadata": {
    "collapsed": false
   },
   "outputs": [
    {
     "data": {
      "text/plain": [
       "1471"
      ]
     },
     "execution_count": 129,
     "metadata": {},
     "output_type": "execute_result"
    }
   ],
   "source": [
    "len(x)"
   ]
  },
  {
   "cell_type": "code",
   "execution_count": 130,
   "metadata": {
    "collapsed": true
   },
   "outputs": [],
   "source": [
    "    ari_scale = {\n",
    "         1: {'ages':   '5-6', 'grade_level': 'Kindergarten'},\n",
    "         2: {'ages':   '6-7', 'grade_level':    '1st Grade'},\n",
    "         3: {'ages':   '7-8', 'grade_level':    '2nd Grade'},\n",
    "         4: {'ages':   '8-9', 'grade_level':    '3rd Grade'},\n",
    "         5: {'ages':  '9-10', 'grade_level':    '4th Grade'},\n",
    "         6: {'ages': '10-11', 'grade_level':    '5th Grade'},\n",
    "         7: {'ages': '11-12', 'grade_level':    '6th Grade'},\n",
    "         8: {'ages': '12-13', 'grade_level':    '7th Grade'},\n",
    "         9: {'ages': '13-14', 'grade_level':    '8th Grade'},\n",
    "        10: {'ages': '14-15', 'grade_level':    '9th Grade'},\n",
    "        11: {'ages': '15-16', 'grade_level':   '10th Grade'},\n",
    "        12: {'ages': '16-17', 'grade_level':   '11th Grade'},\n",
    "        13: {'ages': '17-18', 'grade_level':   '12th Grade'},\n",
    "        14: {'ages': '18-22', 'grade_level':      'College'}}"
   ]
  },
  {
   "cell_type": "code",
   "execution_count": 131,
   "metadata": {
    "collapsed": false
   },
   "outputs": [
    {
     "data": {
      "text/plain": [
       "{'ages': '5-6', 'grade_level': 'Kindergarten'}"
      ]
     },
     "execution_count": 131,
     "metadata": {},
     "output_type": "execute_result"
    }
   ],
   "source": [
    "ari_scale[1]"
   ]
  },
  {
   "cell_type": "code",
   "execution_count": 142,
   "metadata": {
    "collapsed": false
   },
   "outputs": [
    {
     "data": {
      "text/plain": [
       "'5'"
      ]
     },
     "execution_count": 142,
     "metadata": {},
     "output_type": "execute_result"
    }
   ],
   "source": [
    "ari_scale[1]['ages'][0]"
   ]
  },
  {
   "cell_type": "code",
   "execution_count": null,
   "metadata": {
    "collapsed": true
   },
   "outputs": [],
   "source": []
  }
 ],
 "metadata": {
  "kernelspec": {
   "display_name": "Python 3",
   "language": "python",
   "name": "python3"
  },
  "language_info": {
   "codemirror_mode": {
    "name": "ipython",
    "version": 3
   },
   "file_extension": ".py",
   "mimetype": "text/x-python",
   "name": "python",
   "nbconvert_exporter": "python",
   "pygments_lexer": "ipython3",
   "version": "3.6.0"
  }
 },
 "nbformat": 4,
 "nbformat_minor": 2
}
