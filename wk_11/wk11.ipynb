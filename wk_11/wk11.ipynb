{
 "cells": [
  {
   "cell_type": "markdown",
   "metadata": {},
   "source": [
    "# WK 11"
   ]
  },
  {
   "cell_type": "markdown",
   "metadata": {
    "collapsed": true
   },
   "source": [
    "TODO:\n",
    "    \n",
    "    * Record lessons learned on writing django admin commands:\n",
    "    -- URL manipulation\n",
    "    * Resolve Form error duplication\n",
    "    * D3: Learn enough to create an X/Y chart. "
   ]
  },
  {
   "cell_type": "markdown",
   "metadata": {},
   "source": [
    "## DECORATORS: Make our own decorator. Decorators are just functions."
   ]
  },
  {
   "cell_type": "code",
   "execution_count": null,
   "metadata": {
    "collapsed": true
   },
   "outputs": [],
   "source": [
    "def colorize(func):\n",
    "    def wrapped():\n",
    "        print(\"Turquoise\")\n",
    "        func()\n",
    "        print(\"Orange\")\n",
    "    return"
   ]
  },
  {
   "cell_type": "code",
   "execution_count": 3,
   "metadata": {
    "collapsed": true
   },
   "outputs": [],
   "source": [
    "@colorize\n",
    "def display():\n",
    "    print(\"Llamas\")"
   ]
  },
  {
   "cell_type": "code",
   "execution_count": 4,
   "metadata": {},
   "outputs": [
    {
     "name": "stdout",
     "output_type": "stream",
     "text": [
      "Llamas\n"
     ]
    }
   ],
   "source": [
    "display()"
   ]
  },
  {
   "cell_type": "code",
   "execution_count": 10,
   "metadata": {
    "collapsed": true
   },
   "outputs": [],
   "source": [
    "from datetime import datetime\n",
    "\n",
    "def timer(func, i):\n",
    "    def wrapped():\n",
    "        then = datetime.now()\n",
    "        func()\n",
    "        now = datetime.now()\n",
    "        delta = then - now\n",
    "        print(delta)\n",
    "    return wrapped"
   ]
  },
  {
   "cell_type": "code",
   "execution_count": 11,
   "metadata": {
    "collapsed": true
   },
   "outputs": [],
   "source": [
    "@timer\n",
    "def do_maths():\n",
    "    results = 10^ 9\n",
    "    print (results)"
   ]
  },
  {
   "cell_type": "code",
   "execution_count": 12,
   "metadata": {},
   "outputs": [
    {
     "name": "stdout",
     "output_type": "stream",
     "text": [
      "3\n",
      "-1 day, 23:59:59.999720\n"
     ]
    }
   ],
   "source": []
  },
  {
   "cell_type": "code",
   "execution_count": 13,
   "metadata": {
    "collapsed": true
   },
   "outputs": [],
   "source": [
    "@timer\n",
    "def do_maths(i):\n",
    "    results = 10^ i\n",
    "    print (results)"
   ]
  },
  {
   "cell_type": "code",
   "execution_count": 18,
   "metadata": {},
   "outputs": [
    {
     "ename": "SyntaxError",
     "evalue": "invalid syntax (<ipython-input-18-8db4a3416568>, line 1)",
     "output_type": "error",
     "traceback": [
      "\u001b[0;36m  File \u001b[0;32m\"<ipython-input-18-8db4a3416568>\"\u001b[0;36m, line \u001b[0;32m1\u001b[0m\n\u001b[0;31m    Static files: Masking\u001b[0m\n\u001b[0m               ^\u001b[0m\n\u001b[0;31mSyntaxError\u001b[0m\u001b[0;31m:\u001b[0m invalid syntax\n"
     ]
    }
   ],
   "source": [
    "Static files: Masking"
   ]
  },
  {
   "cell_type": "markdown",
   "metadata": {},
   "source": []
  },
  {
   "cell_type": "markdown",
   "metadata": {},
   "source": [
    "# URL parameter capturing using a kwarg\n",
    "url(r'^detail/(?P<word>\\w+)/$', home, name='home'),  # URL parameter capturing using a kwarg\n"
   ]
  },
  {
   "cell_type": "markdown",
   "metadata": {
    "collapsed": true
   },
   "source": [
    "# Managing dependencies through PyCHarm."
   ]
  },
  {
   "cell_type": "markdown",
   "metadata": {},
   "source": [
    "For our project API,\n",
    "GET  /api/us/users .... \n",
    "returns a list []. "
   ]
  },
  {
   "cell_type": "markdown",
   "metadata": {},
   "source": [
    "GET   /api/us/users/ # list"
   ]
  },
  {
   "cell_type": "markdown",
   "metadata": {},
   "source": [
    "GET   /api/us/users/17  #detail/retrieve"
   ]
  },
  {
   "cell_type": "markdown",
   "metadata": {},
   "source": [
    "PUT   /api/us/users/17  #udpate"
   ]
  },
  {
   "cell_type": "markdown",
   "metadata": {},
   "source": [
    "Each model gets a viewset, a URL router and a Serializer (then goes to the client). "
   ]
  },
  {
   "cell_type": "markdown",
   "metadata": {},
   "source": [
    "# Writing Django admin commands\n",
    "\n",
    "https://docs.djangoproject.com/en/1.11/howto/custom-management-commands/"
   ]
  },
  {
   "cell_type": "markdown",
   "metadata": {},
   "source": [
    "In capstone, see: DataPanino/analytics/management"
   ]
  },
  {
   "cell_type": "markdown",
   "metadata": {},
   "source": [
    "When working in download_analytics, you can add : import pdb; pdb.set_trace()\n",
    "\n",
    "By adding this line, you debug directly in the file. Then run debugger (next to the DataPaninoServer) \n"
   ]
  },
  {
   "cell_type": "markdown",
   "metadata": {},
   "source": [
    "datetime documentation for analytics/management/download_analytics\n",
    "\n",
    "For help, see: https://docs.python.org/3.6/library/datetime.html"
   ]
  },
  {
   "cell_type": "markdown",
   "metadata": {},
   "source": [
    "# Class and Subclass: Inheritance\n"
   ]
  },
  {
   "cell_type": "code",
   "execution_count": 28,
   "metadata": {
    "collapsed": true
   },
   "outputs": [],
   "source": [
    "class Animal(object):\n",
    "    def __init__(self, *args, **kwargs):    # initializes the object.\n",
    "        self.name = name\n",
    "        \n",
    "    def speak(self):  # defines a method \n",
    "        print(self.name)"
   ]
  },
  {
   "cell_type": "code",
   "execution_count": 29,
   "metadata": {
    "collapsed": true
   },
   "outputs": [],
   "source": [
    "class Llama(Animal):\n",
    "    \"\"\"\n",
    "    This is a subclass of animal\n",
    "    \"\"\"\n",
    "    def __init__(self, legs, *args, **kwargs):\n",
    "        self.legs = legs\n",
    "        super().__init__(*args, **kwargs)"
   ]
  },
  {
   "cell_type": "code",
   "execution_count": 30,
   "metadata": {
    "collapsed": true
   },
   "outputs": [],
   "source": [
    "class Alpaca(Llama):\n",
    "    def __init__(self, legs, tail_len, *args, **kwargs):\n",
    "        self.tail_len = tail_len\n",
    "        super().__init__(*args, **kwargs)"
   ]
  },
  {
   "cell_type": "code",
   "execution_count": 31,
   "metadata": {},
   "outputs": [
    {
     "ename": "NameError",
     "evalue": "name 'alpaca' is not defined",
     "output_type": "error",
     "traceback": [
      "\u001b[0;31m---------------------------------------------------------------------------\u001b[0m",
      "\u001b[0;31mNameError\u001b[0m                                 Traceback (most recent call last)",
      "\u001b[0;32m<ipython-input-31-fddfd233bede>\u001b[0m in \u001b[0;36m<module>\u001b[0;34m()\u001b[0m\n\u001b[0;32m----> 1\u001b[0;31m \u001b[0malpaca\u001b[0m\u001b[0;34m.\u001b[0m\u001b[0mname\u001b[0m\u001b[0;34m(\u001b[0m\u001b[0;34m)\u001b[0m\u001b[0;34m\u001b[0m\u001b[0m\n\u001b[0m",
      "\u001b[0;31mNameError\u001b[0m: name 'alpaca' is not defined"
     ]
    }
   ],
   "source": [
    "alpaca.name()"
   ]
  },
  {
   "cell_type": "code",
   "execution_count": 32,
   "metadata": {},
   "outputs": [
    {
     "ename": "TypeError",
     "evalue": "__init__() missing 1 required positional argument: 'legs'",
     "output_type": "error",
     "traceback": [
      "\u001b[0;31m---------------------------------------------------------------------------\u001b[0m",
      "\u001b[0;31mTypeError\u001b[0m                                 Traceback (most recent call last)",
      "\u001b[0;32m<ipython-input-32-f3161b72a6e7>\u001b[0m in \u001b[0;36m<module>\u001b[0;34m()\u001b[0m\n\u001b[0;32m----> 1\u001b[0;31m \u001b[0malpaca\u001b[0m \u001b[0;34m=\u001b[0m \u001b[0mAlpaca\u001b[0m\u001b[0;34m(\u001b[0m\u001b[0mlegs\u001b[0m\u001b[0;34m=\u001b[0m\u001b[0;36m4\u001b[0m\u001b[0;34m,\u001b[0m \u001b[0mname\u001b[0m\u001b[0;34m=\u001b[0m\u001b[0;34m'phillip'\u001b[0m\u001b[0;34m,\u001b[0m \u001b[0mtail_len\u001b[0m\u001b[0;34m=\u001b[0m\u001b[0;36m18\u001b[0m\u001b[0;34m)\u001b[0m\u001b[0;34m\u001b[0m\u001b[0m\n\u001b[0m",
      "\u001b[0;32m<ipython-input-30-e4f93f104319>\u001b[0m in \u001b[0;36m__init__\u001b[0;34m(self, legs, tail_len, *args, **kwargs)\u001b[0m\n\u001b[1;32m      2\u001b[0m     \u001b[0;32mdef\u001b[0m \u001b[0m__init__\u001b[0m\u001b[0;34m(\u001b[0m\u001b[0mself\u001b[0m\u001b[0;34m,\u001b[0m \u001b[0mlegs\u001b[0m\u001b[0;34m,\u001b[0m \u001b[0mtail_len\u001b[0m\u001b[0;34m,\u001b[0m \u001b[0;34m*\u001b[0m\u001b[0margs\u001b[0m\u001b[0;34m,\u001b[0m \u001b[0;34m**\u001b[0m\u001b[0mkwargs\u001b[0m\u001b[0;34m)\u001b[0m\u001b[0;34m:\u001b[0m\u001b[0;34m\u001b[0m\u001b[0m\n\u001b[1;32m      3\u001b[0m         \u001b[0mself\u001b[0m\u001b[0;34m.\u001b[0m\u001b[0mtail_len\u001b[0m \u001b[0;34m=\u001b[0m \u001b[0mtail_len\u001b[0m\u001b[0;34m\u001b[0m\u001b[0m\n\u001b[0;32m----> 4\u001b[0;31m         \u001b[0msuper\u001b[0m\u001b[0;34m(\u001b[0m\u001b[0;34m)\u001b[0m\u001b[0;34m.\u001b[0m\u001b[0m__init__\u001b[0m\u001b[0;34m(\u001b[0m\u001b[0;34m*\u001b[0m\u001b[0margs\u001b[0m\u001b[0;34m,\u001b[0m \u001b[0;34m**\u001b[0m\u001b[0mkwargs\u001b[0m\u001b[0;34m)\u001b[0m\u001b[0;34m\u001b[0m\u001b[0m\n\u001b[0m\u001b[1;32m      5\u001b[0m \u001b[0;34m\u001b[0m\u001b[0m\n",
      "\u001b[0;31mTypeError\u001b[0m: __init__() missing 1 required positional argument: 'legs'"
     ]
    }
   ],
   "source": [
    "alpaca = Alpaca(legs=4, name='phillip', tail_len=18)"
   ]
  },
  {
   "cell_type": "markdown",
   "metadata": {},
   "source": [
    "# Django User Authentication\n"
   ]
  },
  {
   "cell_type": "code",
   "execution_count": 33,
   "metadata": {},
   "outputs": [
    {
     "ename": "SyntaxError",
     "evalue": "invalid syntax (<ipython-input-33-4d363403d564>, line 1)",
     "output_type": "error",
     "traceback": [
      "\u001b[0;36m  File \u001b[0;32m\"<ipython-input-33-4d363403d564>\"\u001b[0;36m, line \u001b[0;32m1\u001b[0m\n\u001b[0;31m    https://docs.djangoproject.com/en/1.11/topics/auth/default/\u001b[0m\n\u001b[0m           ^\u001b[0m\n\u001b[0;31mSyntaxError\u001b[0m\u001b[0;31m:\u001b[0m invalid syntax\n"
     ]
    }
   ],
   "source": [
    "https://docs.djangoproject.com/en/1.11/topics/auth/default/\n",
    "https://github.com/django/django/blob/master/django/contrib/auth/models.py"
   ]
  },
  {
   "cell_type": "markdown",
   "metadata": {},
   "source": [
    "When you make a new User for Authentication, you must access the Github:\n",
    "    https://github.com/django/django/blob/master/django/contrib/auth/models.py\n",
    "    \n",
    "    Assumes that you have installed and imported the User(Abstract User) from:\n",
    "    https://github.com/django/django/blob/master/django/contrib/auth/models.py\n",
    "\n",
    "    \n",
    "    * In the manage.py@ console in PyCharm:\n",
    "    * makemigrations accounts\n",
    "    * migrate\n",
    "    * check\n",
    "        "
   ]
  },
  {
   "cell_type": "markdown",
   "metadata": {},
   "source": [
    "Use the gmail SMTP server to get the right settings to use your email in Django\n",
    "\n",
    "https://support.google.com/mail/answer/7126229?visit_id=1-636338327435629574-710323993&hl=en&rd=1\n",
    "https://mail.google.com/mail/u/0/#settings/fwdandpop\n",
    "\n",
    "Django Email setup\n",
    "https://docs.djangoproject.com/en/1.11/topics/email/\n",
    "\n",
    "\n",
    "Django settings\n",
    "https://docs.djangoproject.com/en/1.11/topics/settings/\n"
   ]
  },
  {
   "cell_type": "code",
   "execution_count": null,
   "metadata": {
    "collapsed": true
   },
   "outputs": [],
   "source": [
    "import locale\n",
    "locale.setlocale( locale.LC_ALL, '' )"
   ]
  },
  {
   "cell_type": "code",
   "execution_count": 14,
   "metadata": {},
   "outputs": [
    {
     "data": {
      "text/plain": [
       "'$3,048,256,950.78'"
      ]
     },
     "execution_count": 14,
     "metadata": {},
     "output_type": "execute_result"
    }
   ],
   "source": [
    "\"${:,.2f}\".format(3048256950.7816)"
   ]
  },
  {
   "cell_type": "code",
   "execution_count": 15,
   "metadata": {},
   "outputs": [
    {
     "data": {
      "text/plain": [
       "'$3048256950.78'"
      ]
     },
     "execution_count": 15,
     "metadata": {},
     "output_type": "execute_result"
    }
   ],
   "source": [
    "locale.currency(3048256950.7816)"
   ]
  },
  {
   "cell_type": "code",
   "execution_count": 16,
   "metadata": {},
   "outputs": [
    {
     "data": {
      "text/plain": [
       "'$14973681238.81'"
      ]
     },
     "execution_count": 16,
     "metadata": {},
     "output_type": "execute_result"
    }
   ],
   "source": [
    "locale.currency(14973681238.8084)"
   ]
  },
  {
   "cell_type": "code",
   "execution_count": 23,
   "metadata": {},
   "outputs": [
    {
     "data": {
      "text/plain": [
       "'Italy IP 2015 $3,048,256,950.78'"
      ]
     },
     "execution_count": 23,
     "metadata": {},
     "output_type": "execute_result"
    }
   ],
   "source": [
    "f'Italy IP 2015 '\"${:,.2f}\".format(3048256950.7816) "
   ]
  },
  {
   "cell_type": "code",
   "execution_count": 24,
   "metadata": {},
   "outputs": [
    {
     "data": {
      "text/plain": [
       "'France IP 2015 $14,973,681,238.81'"
      ]
     },
     "execution_count": 24,
     "metadata": {},
     "output_type": "execute_result"
    }
   ],
   "source": [
    "f'France IP 2015 '\"${:,.2f}\".format(14973681238.8084)\n"
   ]
  },
  {
   "cell_type": "code",
   "execution_count": 6,
   "metadata": {},
   "outputs": [
    {
     "data": {
      "text/plain": [
       "'Netherlands FDI 2007 $-137,495,964,689.61'"
      ]
     },
     "execution_count": 6,
     "metadata": {},
     "output_type": "execute_result"
    }
   ],
   "source": [
    "f'Netherlands FDI 2007 '\"${:,.2f}\".format(-137495964689.606)\n",
    "# This represents Foreign Direct Investment for 2007 in Netherlands. "
   ]
  },
  {
   "cell_type": "code",
   "execution_count": 7,
   "metadata": {},
   "outputs": [
    {
     "data": {
      "text/plain": [
       "'Netherlands FDI 2014 $-43,728,626,932.78'"
      ]
     },
     "execution_count": 7,
     "metadata": {},
     "output_type": "execute_result"
    }
   ],
   "source": [
    "f'Netherlands FDI 2014 '\"${:,.2f}\".format(-43728626932.7837)\n",
    "# This represents Foreign Direct Investment for 2014 in Netherlands. "
   ]
  },
  {
   "cell_type": "code",
   "execution_count": null,
   "metadata": {
    "collapsed": true
   },
   "outputs": [],
   "source": []
  }
 ],
 "metadata": {
  "kernelspec": {
   "display_name": "Python 3",
   "language": "python",
   "name": "python3"
  },
  "language_info": {
   "codemirror_mode": {
    "name": "ipython",
    "version": 3
   },
   "file_extension": ".py",
   "mimetype": "text/x-python",
   "name": "python",
   "nbconvert_exporter": "python",
   "pygments_lexer": "ipython3",
   "version": "3.6.0"
  }
 },
 "nbformat": 4,
 "nbformat_minor": 1
}
