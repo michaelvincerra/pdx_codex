{
 "cells": [
  {
   "cell_type": "markdown",
   "metadata": {},
   "source": [
    "# DJANGO: "
   ]
  },
  {
   "cell_type": "markdown",
   "metadata": {},
   "source": [
    "RECOMMENDED BOOKS: \n",
    "Lightweight Django\n",
    "*Two Scoops of Django 1.11\n",
    "Understanding ECMA Script 7"
   ]
  },
  {
   "cell_type": "markdown",
   "metadata": {},
   "source": [
    "# What is DJANGO?: \n",
    "### A content management system\n",
    "### https://www.shuup.com/en/blog/25-of-the-most-popular-python-and-django-websites/"
   ]
  },
  {
   "cell_type": "markdown",
   "metadata": {},
   "source": [
    "# LAMP Stack:\n",
    "    ### Linux\n",
    "    ### Apache (Web server)\n",
    "    ### MySQL (Database/Persistence) Structured Query Language communicates with Web server. \n",
    "    ### Python/PHP (using Django)"
   ]
  },
  {
   "cell_type": "markdown",
   "metadata": {},
   "source": [
    "Read these DOCs on Django: \n",
    "https://docs.djangoproject.com/en/1.11/"
   ]
  },
  {
   "cell_type": "markdown",
   "metadata": {},
   "source": [
    " ### MVC: Model View Controller: Django is MVT\n",
    "        * M: persistent nouns\n",
    "        * V: Views are verbs/actions/  functions\n",
    "        * T/C: Template/Controller: HMTL, CSS, javascript, logic for display. \n",
    "        "
   ]
  },
  {
   "cell_type": "markdown",
   "metadata": {},
   "source": [
    "\"Django is a Python framework for taking incoming HTTP requests and returining HTTP requests.\" Together these constitute the request-response cycle. "
   ]
  },
  {
   "cell_type": "markdown",
   "metadata": {},
   "source": [
    "# FORMS: "
   ]
  },
  {
   "cell_type": "markdown",
   "metadata": {},
   "source": [
    "Django provides framework to facilitate the creation of forms and manipulate data. "
   ]
  },
  {
   "cell_type": "markdown",
   "metadata": {},
   "source": [
    "Settings: List of Variables that are all CAPS"
   ]
  },
  {
   "cell_type": "markdown",
   "metadata": {},
   "source": [
    "# SECURITY on DJANGO: \n",
    "### Read  up on cross-site request forgery"
   ]
  },
  {
   "cell_type": "markdown",
   "metadata": {},
   "source": [
    "### GeoDjango intends to be a world-class geographic Web framework. "
   ]
  },
  {
   "cell_type": "markdown",
   "metadata": {},
   "source": [
    "Jinja2 uses Flask"
   ]
  },
  {
   "cell_type": "markdown",
   "metadata": {},
   "source": [
    "In PyCharm, Prof Edition:\n",
    "    File>New Project> Django"
   ]
  },
  {
   "cell_type": "markdown",
   "metadata": {},
   "source": [
    "DJANGO PROJECT:\n",
    "    DON'T EDIT the Filename for the APPLICATION or the WSGI file'\n",
    "    WSGI contains reference to Web Server technology. "
   ]
  },
  {
   "cell_type": "markdown",
   "metadata": {},
   "source": [
    "__init__.py DON'T CHANGE THIS FILE!'"
   ]
  },
  {
   "cell_type": "markdown",
   "metadata": {},
   "source": [
    "In Settings: You may have to customize the settings based on the Database (if SQL, Mongo, etc.)"
   ]
  },
  {
   "cell_type": "markdown",
   "metadata": {},
   "source": [
    "Press play in upper right hand corner to start the Django Web server.Verify that the Django project works. \n",
    "\n",
    "Apply migrations: \n",
    "Apply the template to the database. \n",
    "Changes to the db schema. Default behavior.\n",
    "\n",
    "Terminal:\n",
    "management commands in Termanl : \n",
    "python manage.py runserver\n"
   ]
  },
  {
   "cell_type": "markdown",
   "metadata": {},
   "source": [
    "<b> Django Project: ScreamingIce </b>\n",
    "* User: admin\n",
    "* Pwd: pistachio123"
   ]
  },
  {
   "cell_type": "markdown",
   "metadata": {},
   "source": [
    "see urls.py, \n",
    "and views.py"
   ]
  },
  {
   "cell_type": "markdown",
   "metadata": {},
   "source": [
    "In the urls.py, we created:     url(r'^ice/create/', views.scream_maker, name='create'),  # scream_maker is the function object\n"
   ]
  },
  {
   "cell_type": "markdown",
   "metadata": {},
   "source": [
    "When you create a new Django App,you must also register it in the file, settings.py. \n",
    "#### This is namespacing "
   ]
  },
  {
   "cell_type": "markdown",
   "metadata": {},
   "source": [
    "A model is a description of a table\n"
   ]
  },
  {
   "cell_type": "markdown",
   "metadata": {},
   "source": [
    "See : https://docs.djangoproject.com/en/1.11/ref/models/fields/"
   ]
  },
  {
   "cell_type": "markdown",
   "metadata": {},
   "source": [
    "STEP 1: \n",
    "\n",
    "\n",
    "\n",
    "\n",
    "\n",
    "pk is the primary key, unique ID (identifier) for a column. \n",
    "\n",
    "Initial migration: \n",
    "migrate (to create a column in the database)\n",
    "createsuperuser (to create: user: admin; to set password: ###, etc,)\n",
    "\n",
    "If port number is in use, go to Edit Config, and change the Port number (8080, 8088, etc.). \n",
    "\n",
    "Thereafter, to make changes to the database, you will enter:\n",
    "makemigrations\n",
    "migrate\n",
    "\n",
    "\n",
    "1. First make a new model\n",
    "2. Then make migrations\n",
    "makemigrations inventory\n",
    "\n",
    "\n",
    "3. Then we use migrate and apply changes to the database. \n",
    "\n",
    "\n",
    "You must register the url  in admin.py. \n",
    "- admin.site.register('name')\n",
    "\n",
    "\n",
    "If you need to overrid the for loop on the main (index.html) page, you must: \n",
    "1. Create a separate file, detail.html, which serves to funnel content from index.html to other pages on the Web site. \n",
    "2. Enter the followling code in detail.html.\n",
    "\n",
    "{% extends \"base.html\"%}\n",
    "\n",
    "{% block content%}\n",
    "\n",
    "Named Capture matching group: \n",
    "\n",
    "url(r'sput/read/(?P<pk\\d+..../>)\n",
    "\n",
    "* pk, is only used when you want to retrieve a single row of data.  \n",
    "\n",
    "\n",
    "\n",
    "def delete(request, pk):\n",
    "    \"\"\"\n",
    "    Delete a media file.  \n",
    "    \"\"\"\n",
    "    return render(request, \"index.html\", pk)\n",
    "    \n",
    "* where the primary key, pk, is the unique identifier ID in the database.     \n",
    "    "
   ]
  },
  {
   "cell_type": "markdown",
   "metadata": {},
   "source": [
    "Commands: \n",
    "    * makemigrations\n",
    "    * migrate"
   ]
  },
  {
   "cell_type": "markdown",
   "metadata": {},
   "source": [
    "Named capture group: \n",
    "    url(r'^ice/(?P<llamas>\\d+)'\n",
    "        Skeleton: (?P<>)'"
   ]
  },
  {
   "cell_type": "markdown",
   "metadata": {
    "collapsed": true
   },
   "source": [
    "### manual method to start a django project\n",
    "django-admin startproject\n",
    "Root directory should have: .git, manage.py, git.ignore, readme\n",
    "\n",
    "1. django-admin startapp [name of app e.g., checklist]\n",
    "2. Go  to VCS >Git\n",
    "3. ls to show contents\n",
    "4. Other users, enter: git pull upstream master\n",
    "5. \n",
    "\n",
    "\n",
    "\n",
    "CORE FILES: \n",
    "1. \n",
    "\n",
    "\n",
    "2. Set up a run configuration.\n",
    "\n",
    "\n",
    "NOTE: If you are in Pycharm, use these\n",
    "\n",
    "migrations    # initial setup\n",
    "makemigrations appname  # make a migration to the first app\n",
    "migrate  ##   \n",
    "\n",
    "NOTE: Otherwise, you must type: \n",
    "\n",
    "python manage.py migrate\n",
    "python manage.py\n",
    "\n",
    "\n"
   ]
  },
  {
   "cell_type": "markdown",
   "metadata": {},
   "source": [
    "# Using QUERYSETs in command line, manage.py@temp in PyCharm. \n",
    "## View code.\n",
    "Project: Django_Pre\n",
    "https://docs.djangoproject.com/en/1.11/ref/models/querysets/\n",
    "\n",
    "\n",
    "Checklist.objects.filter(name_icontains='t')\n",
    "Checklist.objects.filter(priority=2)\n",
    "Checklist.objects.all()\n",
    "Checklist.ordering\n",
    "\n",
    "\n",
    "\n",
    "checklist.completed=True\n",
    "checklist.save\n",
    "<bound method Model.save of <Checklist: Write a view.>>\n",
    "checklist.save()\n",
    "checklist\n",
    "<Checklist: Write a view.>\n",
    " \n",
    " #TOP 10 QUERYSET Methods:\n",
    " .all\n",
    " .fliter\n",
    " .get\n",
    " .values\n",
    " .create\n",
    " .save\n",
    " .annotate\n",
    " .exclude\n",
    " .empty\n",
    " .distinct\n",
    "\n",
    "\n",
    "\n",
    "\n",
    "\n",
    "Step.objects.filter(title_icontains='Select')\n",
    "Step.objects.filter(title__icontains='Select')\n",
    "Step.objects.filter(title__icontains='Select').order_by('-ordering')\n",
    "\n",
    "\n",
    "\n",
    "In models.py\n",
    "from django import models\n",
    "from django.contrib.auth.models import User\n",
    "\n",
    "\n",
    "See details.html file: \n",
    "\n",
    "{{ variables }}\n",
    "\n",
    "{% logic flow %}\n",
    "\n",
    "{# oneline comment #}\n",
    "\n",
    "{% comment %}\n",
    "{% endcomment %}\n"
   ]
  },
  {
   "cell_type": "markdown",
   "metadata": {},
   "source": [
    "QuerySet # DJANGO FORMS"
   ]
  },
  {
   "cell_type": "markdown",
   "metadata": {
    "collapsed": true
   },
   "source": [
    "\n",
    "\n",
    "Media.objects.filter(type__regex=r'.*')\n",
    "\n",
    "Queryset with field lookups\n",
    "\n",
    "Medi.objects.filter(created_year_gte=2005).order_by('-created')"
   ]
  },
  {
   "cell_type": "code",
   "execution_count": null,
   "metadata": {
    "collapsed": true
   },
   "outputs": [],
   "source": [
    "\n"
   ]
  }
 ],
 "metadata": {
  "kernelspec": {
   "display_name": "Python 3",
   "language": "python",
   "name": "python3"
  },
  "language_info": {
   "codemirror_mode": {
    "name": "ipython",
    "version": 3
   },
   "file_extension": ".py",
   "mimetype": "text/x-python",
   "name": "python",
   "nbconvert_exporter": "python",
   "pygments_lexer": "ipython3",
   "version": "3.6.0"
  }
 },
 "nbformat": 4,
 "nbformat_minor": 2
}
