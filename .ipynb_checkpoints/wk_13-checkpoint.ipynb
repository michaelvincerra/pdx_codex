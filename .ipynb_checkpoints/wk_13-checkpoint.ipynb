{
 "cells": [
  {
   "cell_type": "markdown",
   "metadata": {},
   "source": [
    "JAVACRIPT & AJAX REVIEW"
   ]
  },
  {
   "cell_type": "code",
   "execution_count": 3,
   "metadata": {},
   "outputs": [
    {
     "data": {
      "text/html": [
       "\n",
       "<script>\n",
       "var num1 = 17\n",
       "var num2 = 54\n",
       "\n",
       "function myGroove(num1, num2){\n",
       "    return num1 * num2\n",
       "}\n",
       "\n",
       "</script>"
      ],
      "text/plain": [
       "<IPython.core.display.HTML object>"
      ]
     },
     "metadata": {},
     "output_type": "display_data"
    }
   ],
   "source": [
    "%%html\n",
    "\n",
    "<script>\n",
    "var num1 = 17\n",
    "var num2 = 54\n",
    "\n",
    "function myGroove(num1, num2){\n",
    "    return num1 * num2\n",
    "}\n",
    "\n",
    "</script>\n"
   ]
  },
  {
   "cell_type": "code",
   "execution_count": 4,
   "metadata": {},
   "outputs": [
    {
     "data": {
      "text/html": [
       "\n",
       "<script>\n",
       "\n",
       "myGroove(num1, num2)\n",
       "</script>"
      ],
      "text/plain": [
       "<IPython.core.display.HTML object>"
      ]
     },
     "metadata": {},
     "output_type": "display_data"
    }
   ],
   "source": [
    "%%html\n",
    "\n",
    "<script>\n",
    "\n",
    "myGroove(num1, num2)\n",
    "</script>"
   ]
  },
  {
   "cell_type": "markdown",
   "metadata": {},
   "source": [
    "<script>\n",
    "\n",
    "var rockstars = (\"Jim Morrison\",\"Apparat\", \"Prince\")\n",
    "\n",
    "for (var i=0; i<3; i++){\n",
    "    console.log(rockstars[i]);\n",
    "}\n",
    "\n",
    "return rockstars\n",
    "</script>"
   ]
  },
  {
   "cell_type": "code",
   "execution_count": 5,
   "metadata": {},
   "outputs": [
    {
     "data": {
      "text/html": [
       "\n",
       "<script>\n",
       "function myFunction(p1, p2) {\n",
       "    return p1 * p2;\n",
       "}\n",
       "</script>"
      ],
      "text/plain": [
       "<IPython.core.display.HTML object>"
      ]
     },
     "metadata": {},
     "output_type": "display_data"
    }
   ],
   "source": [
    "%%html\n",
    "\n",
    "<script>\n",
    "\n",
    "function myFunction(p1, p2) {\n",
    "    return p1 * p2;\n",
    "}\n",
    "</script>"
   ]
  },
  {
   "cell_type": "code",
   "execution_count": 6,
   "metadata": {},
   "outputs": [
    {
     "data": {
      "text/html": [
       "\n",
       "<script>\n",
       "function myFunction(var1, var2){\n",
       "    return var1, var2;\n",
       "}\n",
       "</script>"
      ],
      "text/plain": [
       "<IPython.core.display.HTML object>"
      ]
     },
     "metadata": {},
     "output_type": "display_data"
    }
   ],
   "source": [
    "%%html\n",
    "\n",
    "<script>\n",
    "function myFunction(var1, var2){\n",
    "    return var1, var2;\n",
    "}\n",
    "</script>"
   ]
  },
  {
   "cell_type": "markdown",
   "metadata": {},
   "source": [
    "## TESTING W/ DJANGO"
   ]
  },
  {
   "cell_type": "markdown",
   "metadata": {},
   "source": [
    "Unit Testing\n",
    "    Spark plug gap\n",
    "Functional: \n",
    "    Cross-validation \n",
    "Scenario: \n",
    "    Multi-functional"
   ]
  },
  {
   "cell_type": "markdown",
   "metadata": {},
   "source": [
    "For testing in Django:\n",
    "    https://speakerdeck.com/mbrochh/the-django-tdd-cookbook"
   ]
  },
  {
   "cell_type": "markdown",
   "metadata": {},
   "source": [
    "Add Continuous Integration\n",
    "* Travis-CI\n",
    "* Jenkins"
   ]
  },
  {
   "cell_type": "markdown",
   "metadata": {
    "collapsed": true
   },
   "source": [
    "<h3> Classifying and comparing algorthms </h3>\n",
    "Matthew  "
   ]
  },
  {
   "cell_type": "markdown",
   "metadata": {},
   "source": [
    "Factorials\n",
    "n!\n",
    "n(n-1)*(n-2)*(n-3)"
   ]
  },
  {
   "cell_type": "markdown",
   "metadata": {},
   "source": [
    "Big O Notation: Temporal complexity of an algorithm\n",
    "    O is the computational complexity. \n",
    "Ref: See the traveling salesman problem.       "
   ]
  },
  {
   "cell_type": "markdown",
   "metadata": {},
   "source": [
    "Ref: See also the Seven Bridges of Koningsburg\n",
    "\n",
    "O(1) array: how to access: This is a CONSTANT time operation\n",
    "O(n) linear search\n",
    "    Best case: O(1)\n",
    "    Worst case: O(n)\n",
    "    Average: O(n/2) same as O(n)\n",
    "Binary Search: \n",
    "O(log(n))\n",
    "\n",
    "http://bigocheatsheet.com/ "
   ]
  },
  {
   "cell_type": "code",
   "execution_count": 6,
   "metadata": {},
   "outputs": [
    {
     "ename": "NameError",
     "evalue": "name 'null' is not defined",
     "output_type": "error",
     "traceback": [
      "\u001b[0;31m---------------------------------------------------------------------------\u001b[0m",
      "\u001b[0;31mNameError\u001b[0m                                 Traceback (most recent call last)",
      "\u001b[0;32m<ipython-input-6-8b0fcc18eabf>\u001b[0m in \u001b[0;36m<module>\u001b[0;34m()\u001b[0m\n\u001b[1;32m    170\u001b[0m   {\n\u001b[1;32m    171\u001b[0m    \u001b[0;34m\"cell_type\"\u001b[0m\u001b[0;34m:\u001b[0m \u001b[0;34m\"code\"\u001b[0m\u001b[0;34m,\u001b[0m\u001b[0;34m\u001b[0m\u001b[0m\n\u001b[0;32m--> 172\u001b[0;31m    \u001b[0;34m\"execution_count\"\u001b[0m\u001b[0;34m:\u001b[0m \u001b[0mnull\u001b[0m\u001b[0;34m,\u001b[0m\u001b[0;34m\u001b[0m\u001b[0m\n\u001b[0m\u001b[1;32m    173\u001b[0m    \"metadata\": {\n\u001b[1;32m    174\u001b[0m     \u001b[0;34m\"collapsed\"\u001b[0m\u001b[0;34m:\u001b[0m \u001b[0mtrue\u001b[0m\u001b[0;34m\u001b[0m\u001b[0m\n",
      "\u001b[0;31mNameError\u001b[0m: name 'null' is not defined"
     ]
    }
   ],
   "source": [
    "# Remove the quotation marks!!!!\n",
    "\n",
    "{\n",
    " \"cells\": [\n",
    "  {\n",
    "   \"cell_type\": \"code\",\n",
    "   \"execution_count\": 33,\n",
    "   \"metadata\": {},\n",
    "   \"outputs\": [\n",
    "    {\n",
    "     \"name\": \"stdout\",\n",
    "     \"output_type\": \"stream\",\n",
    "     \"text\": [\n",
    "      \"initial list: [85, 7, 78, 19, 2, 12, 35, 27, 84, 91, 51, 6, 46, 92, 59, 59, 10, 97, 1, 21]\\n\",\n",
    "      \"sorted list: [1, 2, 6, 7, 10, 12, 19, 21, 27, 35, 46, 51, 59, 59, 78, 84, 85, 91, 92, 97]\\n\",\n",
    "      \"search value: 19\\n\",\n",
    "      \"index by linear search: 6\\n\",\n",
    "      \"index by binary search: 6\\n\"\n",
    "     ]\n",
    "    }\n",
    "   ],\n",
    "   \"source\": [\n",
    "    \"import random\\n\",\n",
    "    \"def random_list(n):\\n\",\n",
    "    \"    nums = []\\n\",\n",
    "    \"    for i in range(n):\\n\",\n",
    "    \"        nums.append(random.randint(1,99))\\n\",\n",
    "    \"    return nums\\n\",\n",
    "    \"\\n\",\n",
    "    \"def bubble_sort(nums):\\n\",\n",
    "    \"    for j in range(len(nums)): # if the highest value were at the start, it would take len(nums) iterations to get it to the back\\n\",\n",
    "    \"        for i in range(len(nums)-1):\\n\",\n",
    "    \"            if nums[i] > nums[i+1]: # optimization, if we get through a pass without any swaps, we can break\\n\",\n",
    "    \"                nums[i], nums[i+1] = nums[i+1], nums[i]\\n\",\n",
    "    \"\\n\",\n",
    "    \"\\n\",\n",
    "    \"def linear_search(value, nums):\\n\",\n",
    "    \"    for i in range(len(nums)):\\n\",\n",
    "    \"        if nums[i] == value:\\n\",\n",
    "    \"            return i\\n\",\n",
    "    \"    return None\\n\",\n",
    "    \"\\n\",\n",
    "    \"# requires a sorted list!\\n\",\n",
    "    \"def binary_search(value, nums):\\n\",\n",
    "    \"    low = 0\\n\",\n",
    "    \"    high = len(nums)-1\\n\",\n",
    "    \"    while low <= high:\\n\",\n",
    "    \"        mid = (low + high) // 2\\n\",\n",
    "    \"        if nums[mid] == value:\\n\",\n",
    "    \"            return mid\\n\",\n",
    "    \"        if value < nums[mid]:\\n\",\n",
    "    \"            high = mid-1\\n\",\n",
    "    \"        else:\\n\",\n",
    "    \"            low = mid+1\\n\",\n",
    "    \"    return None\\n\",\n",
    "    \"\\n\",\n",
    "    \"nums = random_list(20)\\n\",\n",
    "    \"print('initial list: ' + str(nums))\\n\",\n",
    "    \"bubble_sort(nums)\\n\",\n",
    "    \"print('sorted list: ' + str(nums))\\n\",\n",
    "    \"\\n\",\n",
    "    \"value = random.choice(nums)\\n\",\n",
    "    \"print('search value: '+str(value))\\n\",\n",
    "    \"print('index by linear search: ' + str(linear_search(value, nums)))\\n\",\n",
    "    \"print('index by binary search: ' + str(binary_search(value, nums)))\"\n",
    "   ]\n",
    "  },\n",
    "  {\n",
    "   \"cell_type\": \"code\",\n",
    "   \"execution_count\": 35,\n",
    "   \"metadata\": {},\n",
    "   \"outputs\": [\n",
    "    {\n",
    "     \"name\": \"stdout\",\n",
    "     \"output_type\": \"stream\",\n",
    "     \"text\": [\n",
    "      \"2 7 5 \\n\",\n",
    "      \"2\\n\",\n",
    "      \"7 5 \\n\",\n",
    "      \"7 5 10 20 \\n\",\n",
    "      \"10\\n\"\n",
    "     ]\n",
    "    }\n",
    "   ],\n",
    "   \"source\": [\n",
    "    \"\\n\",\n",
    "    \"class SinglyLinkedList:\\n\",\n",
    "    \"    def __init__(self):\\n\",\n",
    "    \"        self.root = None\\n\",\n",
    "    \"    \\n\",\n",
    "    \"    # stack operation\\n\",\n",
    "    \"    def push(self, value):\\n\",\n",
    "    \"        if self.root is None:\\n\",\n",
    "    \"            self.root = [value, None]\\n\",\n",
    "    \"        else:\\n\",\n",
    "    \"            self.root = [value, self.root]\\n\",\n",
    "    \"    \\n\",\n",
    "    \"    # stack operation\\n\",\n",
    "    \"    def pop(self):\\n\",\n",
    "    \"        value = self.root[0]\\n\",\n",
    "    \"        self.root = self.root[1]\\n\",\n",
    "    \"        return value\\n\",\n",
    "    \"    \\n\",\n",
    "    \"    def peek(self):\\n\",\n",
    "    \"        if self.root is not None:\\n\",\n",
    "    \"            return self.root[1]\\n\",\n",
    "    \"        return None\\n\",\n",
    "    \"    \\n\",\n",
    "    \"    def append(self, value):\\n\",\n",
    "    \"        if self.root is None:\\n\",\n",
    "    \"            self.root = [value, None]\\n\",\n",
    "    \"        node = self.root\\n\",\n",
    "    \"        while node[1] is not None:\\n\",\n",
    "    \"            node = node[1]\\n\",\n",
    "    \"        node[1] = [value, None]\\n\",\n",
    "    \"    \\n\",\n",
    "    \"    def element_at(self, index):\\n\",\n",
    "    \"        if self.root is None:\\n\",\n",
    "    \"            return None\\n\",\n",
    "    \"        node = self.root\\n\",\n",
    "    \"        while index > 0:\\n\",\n",
    "    \"            index -= 1\\n\",\n",
    "    \"            node = node[1]\\n\",\n",
    "    \"            if node is None:\\n\",\n",
    "    \"                return None\\n\",\n",
    "    \"        return node[0]\\n\",\n",
    "    \"    \\n\",\n",
    "    \"    def __str__(self):\\n\",\n",
    "    \"        node = self.root\\n\",\n",
    "    \"        s = ''\\n\",\n",
    "    \"        while node is not None:\\n\",\n",
    "    \"            s += str(node[0]) + ' '\\n\",\n",
    "    \"            node = node[1]\\n\",\n",
    "    \"        return s\\n\",\n",
    "    \"\\n\",\n",
    "    \"nums = SinglyLinkedList()\\n\",\n",
    "    \"nums.push(5)\\n\",\n",
    "    \"nums.push(7)\\n\",\n",
    "    \"nums.push(2)\\n\",\n",
    "    \"print(nums)\\n\",\n",
    "    \"print(nums.pop())\\n\",\n",
    "    \"print(nums)\\n\",\n",
    "    \"nums.append(10)\\n\",\n",
    "    \"nums.append(20)\\n\",\n",
    "    \"print(nums)\\n\",\n",
    "    \"print(nums.element_at(2))\\n\"\n",
    "   ]\n",
    "  },\n",
    "  {\n",
    "   \"cell_type\": \"code\",\n",
    "   \"execution_count\": 36,\n",
    "   \"metadata\": {},\n",
    "   \"outputs\": [\n",
    "    {\n",
    "     \"name\": \"stdout\",\n",
    "     \"output_type\": \"stream\",\n",
    "     \"text\": [\n",
    "      \"10946\\n\"\n",
    "     ]\n",
    "    }\n",
    "   ],\n",
    "   \"source\": [\n",
    "    \"def fibonacci(n):\\n\",\n",
    "    \"    if n <= 1:\\n\",\n",
    "    \"        return 1\\n\",\n",
    "    \"    return fibonacci(n-1) + fibonacci(n-2)\\n\",\n",
    "    \"print(fibonacci(20))\"\n",
    "   ]\n",
    "  },\n",
    "  {\n",
    "   \"cell_type\": \"code\",\n",
    "   \"execution_count\": null,\n",
    "   \"metadata\": {\n",
    "    \"collapsed\": true\n",
    "   },\n",
    "   \"outputs\": [],\n",
    "   \"source\": []\n",
    "  }\n",
    " ],\n",
    " \"metadata\": {\n",
    "  \"kernelspec\": {\n",
    "   \"display_name\": \"Python 3\",\n",
    "   \"language\": \"python\",\n",
    "   \"name\": \"python3\"\n",
    "  },\n",
    "  \"language_info\": {\n",
    "   \"codemirror_mode\": {\n",
    "    \"name\": \"ipython\",\n",
    "    \"version\": 3\n",
    "   },\n",
    "   \"file_extension\": \".py\",\n",
    "   \"mimetype\": \"text/x-python\",\n",
    "   \"name\": \"python\",\n",
    "   \"nbconvert_exporter\": \"python\",\n",
    "   \"pygments_lexer\": \"ipython3\",\n",
    "   \"version\": \"3.6.1\"\n",
    "  }\n",
    " },\n",
    " \"nbformat\": 4,\n",
    " \"nbformat_minor\": 2\n",
    "}\n"
   ]
  },
  {
   "cell_type": "markdown",
   "metadata": {
    "collapsed": true
   },
   "source": [
    "# AWS:"
   ]
  },
  {
   "cell_type": "markdown",
   "metadata": {},
   "source": [
    "Focus on creating the following two:\n",
    "<br>\n",
    "* EC2: w/ Elastic Beanstalk <br>\n",
    "* RDS\n",
    "\n",
    "\n",
    "You must select Launch an Instance.\n",
    "\n",
    "Make sure that configure the billing. \n",
    "\n",
    "\n",
    "You can ssh into the AWS.\n",
    "ssh 13.59.215.251\n",
    "ssh 13.59.215.251 -i [Add Private Key]\n",
    "\n",
    "ls | grep *pem    #\n",
    "\n",
    "IN Django you would create a sibling file, staging_settings.py\n",
    "//////\n",
    "\n",
    "from .settings import *\n",
    "\n",
    "DATABASES = {\n",
    "    'default': {\n",
    "        'ENGINE': 'django.db.backend.sqlite3' \n",
    "        'NAME:'\n",
    "        'PASSWORD':\n",
    "    }\n",
    "}\n",
    "\n",
    "////////////////\n",
    "IN AWS, you must create a Virtual Private Cloud so that your APP server connects to your DB server."
   ]
  },
  {
   "cell_type": "markdown",
   "metadata": {},
   "source": [
    "### In the command line on EC2\n",
    "sudo pip install django\n",
    "sudo pip install djangorestframework\n",
    "\n",
    "\n",
    "When on the EC2 command line on AWS, \n",
    "\n",
    "you need to add the above. Then, run: \n",
    "\n",
    "python manage.py runserver\n",
    "###"
   ]
  },
  {
   "cell_type": "markdown",
   "metadata": {
    "collapsed": true
   },
   "source": [
    "# PYTHON manage.py \n",
    "### Running commands to create a title for the object in the database. \n",
    "\n",
    "\n",
    "console<QuerySet [('France', 'IP'), ('France', 'IP'), ('France', 'IP'), ('France', 'IP'), ('France', 'IP'), ('France', 'IP'), ('France', 'IP'), ('France', 'IP'), ('France', 'IP'), ('France', 'IP'), ('France', 'IP'), ('France', 'IP'), ('France', 'IP'), ('France', 'IP'), ('France', 'IP'), ('France', 'IP'), ('France', 'IP'), ('France', 'IP'), ('France', 'IP'), ('France', 'IP'), '...(remaining elements truncated)...']>\n",
    "\n",
    "\n",
    "set(c.generate_title())\n",
    "{('France', 'IP')}\n",
    "r = ''\n",
    "for cty, ind in set(c.generate_title()):\n",
    "    r += f'{cty}{ind}|'\n",
    "    \n",
    "r\n",
    "'FranceIP|'\n",
    "for cty, ind in set(c.generate_title()):\n",
    "    r += f'{cty}{ind}|'\n"
   ]
  },
  {
   "cell_type": "code",
   "execution_count": null,
   "metadata": {
    "collapsed": true
   },
   "outputs": [],
   "source": []
  }
 ],
 "metadata": {
  "kernelspec": {
   "display_name": "Python 3",
   "language": "python",
   "name": "python3"
  },
  "language_info": {
   "codemirror_mode": {
    "name": "ipython",
    "version": 3
   },
   "file_extension": ".py",
   "mimetype": "text/x-python",
   "name": "python",
   "nbconvert_exporter": "python",
   "pygments_lexer": "ipython3",
   "version": "3.6.0"
  }
 },
 "nbformat": 4,
 "nbformat_minor": 2
}
