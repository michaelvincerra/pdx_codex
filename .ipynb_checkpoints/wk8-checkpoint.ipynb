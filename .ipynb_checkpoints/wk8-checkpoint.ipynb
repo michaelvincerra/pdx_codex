{
 "cells": [
  {
   "cell_type": "markdown",
   "metadata": {},
   "source": [
    "# WEB SERVICES 101"
   ]
  },
  {
   "cell_type": "code",
   "execution_count": 11,
   "metadata": {
    "collapsed": true
   },
   "outputs": [],
   "source": [
    "#  JSON:\n",
    "# http://api.randomuser.me/?results=5"
   ]
  },
  {
   "cell_type": "code",
   "execution_count": 12,
   "metadata": {
    "collapsed": true
   },
   "outputs": [],
   "source": [
    "import requests"
   ]
  },
  {
   "cell_type": "code",
   "execution_count": 13,
   "metadata": {
    "collapsed": true
   },
   "outputs": [],
   "source": [
    "response = requests.get('http://api.randomuser.me/?results=5')    # Returns a response object"
   ]
  },
  {
   "cell_type": "code",
   "execution_count": 14,
   "metadata": {},
   "outputs": [
    {
     "data": {
      "text/plain": [
       "<Response [200]>"
      ]
     },
     "execution_count": 14,
     "metadata": {},
     "output_type": "execute_result"
    }
   ],
   "source": [
    "response #   \n"
   ]
  },
  {
   "cell_type": "code",
   "execution_count": 15,
   "metadata": {},
   "outputs": [
    {
     "data": {
      "text/plain": [
       "{'info': {'page': 1,\n",
       "  'results': 5,\n",
       "  'seed': 'e9a550bac5c05d08',\n",
       "  'version': '1.1'},\n",
       " 'results': [{'cell': '081-006-7022',\n",
       "   'dob': '1950-06-05 11:02:35',\n",
       "   'email': 'ellie.daniels@example.com',\n",
       "   'gender': 'female',\n",
       "   'id': {'name': 'PPS', 'value': '9671504T'},\n",
       "   'location': {'city': 'tullow',\n",
       "    'postcode': 18579,\n",
       "    'state': 'limerick',\n",
       "    'street': '7208 westmoreland street'},\n",
       "   'login': {'md5': '93c94c3a5deb88e93351656f3c51d31d',\n",
       "    'password': 'latinas',\n",
       "    'salt': 'zXb61f8d',\n",
       "    'sha1': 'b6b21e84494089d7c361d77ab325da438bf557c7',\n",
       "    'sha256': '5c0377e5ddb55d1d8a8e26974d1e0e80a4fc49ec851bdcfec5f1c5a5a446ac69',\n",
       "    'username': 'biglion591'},\n",
       "   'name': {'first': 'ellie', 'last': 'daniels', 'title': 'mrs'},\n",
       "   'nat': 'IE',\n",
       "   'phone': '051-715-2063',\n",
       "   'picture': {'large': 'https://randomuser.me/api/portraits/women/94.jpg',\n",
       "    'medium': 'https://randomuser.me/api/portraits/med/women/94.jpg',\n",
       "    'thumbnail': 'https://randomuser.me/api/portraits/thumb/women/94.jpg'},\n",
       "   'registered': '2014-02-25 08:31:18'},\n",
       "  {'cell': '0178-5064319',\n",
       "   'dob': '1976-07-01 21:13:17',\n",
       "   'email': 'karl.martin@example.com',\n",
       "   'gender': 'male',\n",
       "   'id': {'name': '', 'value': None},\n",
       "   'location': {'city': 'osnabrück',\n",
       "    'postcode': 12290,\n",
       "    'state': 'sachsen-anhalt',\n",
       "    'street': '3162 parkstraße'},\n",
       "   'login': {'md5': '71a8db677b4ff39525610c67f8f77762',\n",
       "    'password': 'praise',\n",
       "    'salt': 'hZDDvQpe',\n",
       "    'sha1': '19509ab0abf9c166f51c4bf8d82cb8f16aec5906',\n",
       "    'sha256': '3b6407009b2a137ad139d42517775eed32e149114b7072025ebf26c4b16cb247',\n",
       "    'username': 'ticklishbear726'},\n",
       "   'name': {'first': 'karl', 'last': 'martin', 'title': 'mr'},\n",
       "   'nat': 'DE',\n",
       "   'phone': '0688-8419793',\n",
       "   'picture': {'large': 'https://randomuser.me/api/portraits/men/88.jpg',\n",
       "    'medium': 'https://randomuser.me/api/portraits/med/men/88.jpg',\n",
       "    'thumbnail': 'https://randomuser.me/api/portraits/thumb/men/88.jpg'},\n",
       "   'registered': '2009-05-24 02:13:46'},\n",
       "  {'cell': '(207)-833-3461',\n",
       "   'dob': '1968-04-14 03:32:00',\n",
       "   'email': 'cameron.patel@example.com',\n",
       "   'gender': 'male',\n",
       "   'id': {'name': '', 'value': None},\n",
       "   'location': {'city': 'rotorua',\n",
       "    'postcode': 32935,\n",
       "    'state': 'canterbury',\n",
       "    'street': '8557 great south road'},\n",
       "   'login': {'md5': 'ff0cc0b874fa1f608c59e2ff143b3a8e',\n",
       "    'password': 'carson',\n",
       "    'salt': 'm1EyJgxe',\n",
       "    'sha1': 'd433f318931bb649ad4c76c10edf71e50854a651',\n",
       "    'sha256': '0c5e6abb7b32e7ee7145bf8288351a714671468eafd7f22a0268558069e0259b',\n",
       "    'username': 'organicfish652'},\n",
       "   'name': {'first': 'cameron', 'last': 'patel', 'title': 'mr'},\n",
       "   'nat': 'NZ',\n",
       "   'phone': '(318)-113-6399',\n",
       "   'picture': {'large': 'https://randomuser.me/api/portraits/men/38.jpg',\n",
       "    'medium': 'https://randomuser.me/api/portraits/med/men/38.jpg',\n",
       "    'thumbnail': 'https://randomuser.me/api/portraits/thumb/men/38.jpg'},\n",
       "   'registered': '2015-08-27 12:43:40'},\n",
       "  {'cell': '526-372-6372',\n",
       "   'dob': '1961-02-22 04:56:01',\n",
       "   'email': 'alexis.lam@example.com',\n",
       "   'gender': 'female',\n",
       "   'id': {'name': '', 'value': None},\n",
       "   'location': {'city': 'vanier',\n",
       "    'postcode': 35012,\n",
       "    'state': 'nunavut',\n",
       "    'street': '5368 george st'},\n",
       "   'login': {'md5': '04a32c3dcc6d40ac989b821f0efc4070',\n",
       "    'password': '49ers',\n",
       "    'salt': 'HgsjcmkR',\n",
       "    'sha1': '725de391d2a863f24432bb96f5ba04122ac3b4a1',\n",
       "    'sha256': 'd9f912a6c8def5145242b56130274f0c573b9f61bdcb15248adf0860d30ad45f',\n",
       "    'username': 'tinycat492'},\n",
       "   'name': {'first': 'alexis', 'last': 'lam', 'title': 'mrs'},\n",
       "   'nat': 'CA',\n",
       "   'phone': '253-411-1409',\n",
       "   'picture': {'large': 'https://randomuser.me/api/portraits/women/30.jpg',\n",
       "    'medium': 'https://randomuser.me/api/portraits/med/women/30.jpg',\n",
       "    'thumbnail': 'https://randomuser.me/api/portraits/thumb/women/30.jpg'},\n",
       "   'registered': '2012-06-01 03:16:53'},\n",
       "  {'cell': '(076)-281-5077',\n",
       "   'dob': '1982-03-30 12:47:36',\n",
       "   'email': 'róbin.vansluis@example.com',\n",
       "   'gender': 'female',\n",
       "   'id': {'name': 'BSN', 'value': '92562419'},\n",
       "   'location': {'city': 'zutphen',\n",
       "    'postcode': 19823,\n",
       "    'state': 'limburg',\n",
       "    'street': '7286 israëlslaan'},\n",
       "   'login': {'md5': 'ccc8cf1f0ebede21ec7d97813f7e5436',\n",
       "    'password': 'highbury',\n",
       "    'salt': 'j4iZGEnU',\n",
       "    'sha1': '14f5f3b0e1926b9875787d9cd624246c35fef70c',\n",
       "    'sha256': '7464730b41c265cac4e74d7170a5eb30b11f41ceba9227492c921db4136c1a67',\n",
       "    'username': 'organicfish680'},\n",
       "   'name': {'first': 'róbin', 'last': 'van sluis', 'title': 'ms'},\n",
       "   'nat': 'NL',\n",
       "   'phone': '(954)-820-2013',\n",
       "   'picture': {'large': 'https://randomuser.me/api/portraits/women/87.jpg',\n",
       "    'medium': 'https://randomuser.me/api/portraits/med/women/87.jpg',\n",
       "    'thumbnail': 'https://randomuser.me/api/portraits/thumb/women/87.jpg'},\n",
       "   'registered': '2005-04-24 12:00:28'}]}"
      ]
     },
     "execution_count": 15,
     "metadata": {},
     "output_type": "execute_result"
    }
   ],
   "source": [
    "response.json()"
   ]
  },
  {
   "cell_type": "code",
   "execution_count": 16,
   "metadata": {},
   "outputs": [
    {
     "data": {
      "text/plain": [
       "{'page': 1, 'results': 5, 'seed': 'e9a550bac5c05d08', 'version': '1.1'}"
      ]
     },
     "execution_count": 16,
     "metadata": {},
     "output_type": "execute_result"
    }
   ],
   "source": [
    "response.json()['info']"
   ]
  },
  {
   "cell_type": "code",
   "execution_count": 17,
   "metadata": {},
   "outputs": [
    {
     "data": {
      "text/plain": [
       "[{'cell': '081-006-7022',\n",
       "  'dob': '1950-06-05 11:02:35',\n",
       "  'email': 'ellie.daniels@example.com',\n",
       "  'gender': 'female',\n",
       "  'id': {'name': 'PPS', 'value': '9671504T'},\n",
       "  'location': {'city': 'tullow',\n",
       "   'postcode': 18579,\n",
       "   'state': 'limerick',\n",
       "   'street': '7208 westmoreland street'},\n",
       "  'login': {'md5': '93c94c3a5deb88e93351656f3c51d31d',\n",
       "   'password': 'latinas',\n",
       "   'salt': 'zXb61f8d',\n",
       "   'sha1': 'b6b21e84494089d7c361d77ab325da438bf557c7',\n",
       "   'sha256': '5c0377e5ddb55d1d8a8e26974d1e0e80a4fc49ec851bdcfec5f1c5a5a446ac69',\n",
       "   'username': 'biglion591'},\n",
       "  'name': {'first': 'ellie', 'last': 'daniels', 'title': 'mrs'},\n",
       "  'nat': 'IE',\n",
       "  'phone': '051-715-2063',\n",
       "  'picture': {'large': 'https://randomuser.me/api/portraits/women/94.jpg',\n",
       "   'medium': 'https://randomuser.me/api/portraits/med/women/94.jpg',\n",
       "   'thumbnail': 'https://randomuser.me/api/portraits/thumb/women/94.jpg'},\n",
       "  'registered': '2014-02-25 08:31:18'},\n",
       " {'cell': '0178-5064319',\n",
       "  'dob': '1976-07-01 21:13:17',\n",
       "  'email': 'karl.martin@example.com',\n",
       "  'gender': 'male',\n",
       "  'id': {'name': '', 'value': None},\n",
       "  'location': {'city': 'osnabrück',\n",
       "   'postcode': 12290,\n",
       "   'state': 'sachsen-anhalt',\n",
       "   'street': '3162 parkstraße'},\n",
       "  'login': {'md5': '71a8db677b4ff39525610c67f8f77762',\n",
       "   'password': 'praise',\n",
       "   'salt': 'hZDDvQpe',\n",
       "   'sha1': '19509ab0abf9c166f51c4bf8d82cb8f16aec5906',\n",
       "   'sha256': '3b6407009b2a137ad139d42517775eed32e149114b7072025ebf26c4b16cb247',\n",
       "   'username': 'ticklishbear726'},\n",
       "  'name': {'first': 'karl', 'last': 'martin', 'title': 'mr'},\n",
       "  'nat': 'DE',\n",
       "  'phone': '0688-8419793',\n",
       "  'picture': {'large': 'https://randomuser.me/api/portraits/men/88.jpg',\n",
       "   'medium': 'https://randomuser.me/api/portraits/med/men/88.jpg',\n",
       "   'thumbnail': 'https://randomuser.me/api/portraits/thumb/men/88.jpg'},\n",
       "  'registered': '2009-05-24 02:13:46'},\n",
       " {'cell': '(207)-833-3461',\n",
       "  'dob': '1968-04-14 03:32:00',\n",
       "  'email': 'cameron.patel@example.com',\n",
       "  'gender': 'male',\n",
       "  'id': {'name': '', 'value': None},\n",
       "  'location': {'city': 'rotorua',\n",
       "   'postcode': 32935,\n",
       "   'state': 'canterbury',\n",
       "   'street': '8557 great south road'},\n",
       "  'login': {'md5': 'ff0cc0b874fa1f608c59e2ff143b3a8e',\n",
       "   'password': 'carson',\n",
       "   'salt': 'm1EyJgxe',\n",
       "   'sha1': 'd433f318931bb649ad4c76c10edf71e50854a651',\n",
       "   'sha256': '0c5e6abb7b32e7ee7145bf8288351a714671468eafd7f22a0268558069e0259b',\n",
       "   'username': 'organicfish652'},\n",
       "  'name': {'first': 'cameron', 'last': 'patel', 'title': 'mr'},\n",
       "  'nat': 'NZ',\n",
       "  'phone': '(318)-113-6399',\n",
       "  'picture': {'large': 'https://randomuser.me/api/portraits/men/38.jpg',\n",
       "   'medium': 'https://randomuser.me/api/portraits/med/men/38.jpg',\n",
       "   'thumbnail': 'https://randomuser.me/api/portraits/thumb/men/38.jpg'},\n",
       "  'registered': '2015-08-27 12:43:40'},\n",
       " {'cell': '526-372-6372',\n",
       "  'dob': '1961-02-22 04:56:01',\n",
       "  'email': 'alexis.lam@example.com',\n",
       "  'gender': 'female',\n",
       "  'id': {'name': '', 'value': None},\n",
       "  'location': {'city': 'vanier',\n",
       "   'postcode': 35012,\n",
       "   'state': 'nunavut',\n",
       "   'street': '5368 george st'},\n",
       "  'login': {'md5': '04a32c3dcc6d40ac989b821f0efc4070',\n",
       "   'password': '49ers',\n",
       "   'salt': 'HgsjcmkR',\n",
       "   'sha1': '725de391d2a863f24432bb96f5ba04122ac3b4a1',\n",
       "   'sha256': 'd9f912a6c8def5145242b56130274f0c573b9f61bdcb15248adf0860d30ad45f',\n",
       "   'username': 'tinycat492'},\n",
       "  'name': {'first': 'alexis', 'last': 'lam', 'title': 'mrs'},\n",
       "  'nat': 'CA',\n",
       "  'phone': '253-411-1409',\n",
       "  'picture': {'large': 'https://randomuser.me/api/portraits/women/30.jpg',\n",
       "   'medium': 'https://randomuser.me/api/portraits/med/women/30.jpg',\n",
       "   'thumbnail': 'https://randomuser.me/api/portraits/thumb/women/30.jpg'},\n",
       "  'registered': '2012-06-01 03:16:53'},\n",
       " {'cell': '(076)-281-5077',\n",
       "  'dob': '1982-03-30 12:47:36',\n",
       "  'email': 'róbin.vansluis@example.com',\n",
       "  'gender': 'female',\n",
       "  'id': {'name': 'BSN', 'value': '92562419'},\n",
       "  'location': {'city': 'zutphen',\n",
       "   'postcode': 19823,\n",
       "   'state': 'limburg',\n",
       "   'street': '7286 israëlslaan'},\n",
       "  'login': {'md5': 'ccc8cf1f0ebede21ec7d97813f7e5436',\n",
       "   'password': 'highbury',\n",
       "   'salt': 'j4iZGEnU',\n",
       "   'sha1': '14f5f3b0e1926b9875787d9cd624246c35fef70c',\n",
       "   'sha256': '7464730b41c265cac4e74d7170a5eb30b11f41ceba9227492c921db4136c1a67',\n",
       "   'username': 'organicfish680'},\n",
       "  'name': {'first': 'róbin', 'last': 'van sluis', 'title': 'ms'},\n",
       "  'nat': 'NL',\n",
       "  'phone': '(954)-820-2013',\n",
       "  'picture': {'large': 'https://randomuser.me/api/portraits/women/87.jpg',\n",
       "   'medium': 'https://randomuser.me/api/portraits/med/women/87.jpg',\n",
       "   'thumbnail': 'https://randomuser.me/api/portraits/thumb/women/87.jpg'},\n",
       "  'registered': '2005-04-24 12:00:28'}]"
      ]
     },
     "execution_count": 17,
     "metadata": {},
     "output_type": "execute_result"
    }
   ],
   "source": [
    "response.json()['results']"
   ]
  },
  {
   "cell_type": "code",
   "execution_count": 21,
   "metadata": {},
   "outputs": [
    {
     "ename": "KeyError",
     "evalue": "'nat'",
     "output_type": "error",
     "traceback": [
      "\u001b[0;31m---------------------------------------------------------------------------\u001b[0m",
      "\u001b[0;31mKeyError\u001b[0m                                  Traceback (most recent call last)",
      "\u001b[0;32m<ipython-input-21-3e971de0659a>\u001b[0m in \u001b[0;36m<module>\u001b[0;34m()\u001b[0m\n\u001b[0;32m----> 1\u001b[0;31m \u001b[0mresponse\u001b[0m\u001b[0;34m.\u001b[0m\u001b[0mjson\u001b[0m\u001b[0;34m(\u001b[0m\u001b[0;34m)\u001b[0m\u001b[0;34m[\u001b[0m\u001b[0;34m'nat'\u001b[0m\u001b[0;34m]\u001b[0m\u001b[0;34m\u001b[0m\u001b[0m\n\u001b[0m",
      "\u001b[0;31mKeyError\u001b[0m: 'nat'"
     ]
    }
   ],
   "source": [
    "response.json()['nat']"
   ]
  },
  {
   "cell_type": "code",
   "execution_count": 28,
   "metadata": {
    "collapsed": true
   },
   "outputs": [],
   "source": [
    "response = requests.get('http://api.randomuser.me/?results=5')"
   ]
  },
  {
   "cell_type": "code",
   "execution_count": 29,
   "metadata": {},
   "outputs": [
    {
     "data": {
      "text/plain": [
       "<Response [200]>"
      ]
     },
     "execution_count": 29,
     "metadata": {},
     "output_type": "execute_result"
    }
   ],
   "source": [
    "response"
   ]
  },
  {
   "cell_type": "code",
   "execution_count": 32,
   "metadata": {},
   "outputs": [
    {
     "data": {
      "text/plain": [
       "{'info': {'page': 1,\n",
       "  'results': 5,\n",
       "  'seed': '70536c481cd7759e',\n",
       "  'version': '1.1'},\n",
       " 'results': [{'cell': '0741-995-818',\n",
       "   'dob': '1959-06-26 04:16:28',\n",
       "   'email': 'lisa.hall@example.com',\n",
       "   'gender': 'female',\n",
       "   'id': {'name': 'NINO', 'value': 'HC 31 30 91 I'},\n",
       "   'location': {'city': 'st davids',\n",
       "    'postcode': 'C1X 2EQ',\n",
       "    'state': 'county tyrone',\n",
       "    'street': '1997 the green'},\n",
       "   'login': {'md5': '173bef7d4fe055aaf81208593fcbc3cf',\n",
       "    'password': 'diving',\n",
       "    'salt': 'CdSWeONi',\n",
       "    'sha1': '0f24d2ed06e73db781f86a7fb64fc97e40b71f88',\n",
       "    'sha256': 'e5be338b14679463424a8a426204aa51f6b93c2c06a513eb57e4e6704adf1ce0',\n",
       "    'username': 'beautifulsnake654'},\n",
       "   'name': {'first': 'lisa', 'last': 'hall', 'title': 'ms'},\n",
       "   'nat': 'GB',\n",
       "   'phone': '013873 31472',\n",
       "   'picture': {'large': 'https://randomuser.me/api/portraits/women/73.jpg',\n",
       "    'medium': 'https://randomuser.me/api/portraits/med/women/73.jpg',\n",
       "    'thumbnail': 'https://randomuser.me/api/portraits/thumb/women/73.jpg'},\n",
       "   'registered': '2015-08-30 05:20:47'},\n",
       "  {'cell': '(737)-180-7575',\n",
       "   'dob': '1952-05-12 15:38:32',\n",
       "   'email': 'nalan.tokgöz@example.com',\n",
       "   'gender': 'female',\n",
       "   'id': {'name': '', 'value': None},\n",
       "   'location': {'city': 'van',\n",
       "    'postcode': 29129,\n",
       "    'state': 'bayburt',\n",
       "    'street': '9095 doktorlar cd'},\n",
       "   'login': {'md5': 'cda83e712013a497a822460fe63caeb1',\n",
       "    'password': 'theboss',\n",
       "    'salt': 'USJqvjOy',\n",
       "    'sha1': '0456de0c5dcade700e288e81d3f0e1011730ee5a',\n",
       "    'sha256': '50f6884ba5d194361525362fa86add8b6c80ab54e662d43da8f52c85d465a8b9',\n",
       "    'username': 'greenbutterfly125'},\n",
       "   'name': {'first': 'nalan', 'last': 'tokgöz', 'title': 'ms'},\n",
       "   'nat': 'TR',\n",
       "   'phone': '(494)-709-6345',\n",
       "   'picture': {'large': 'https://randomuser.me/api/portraits/women/1.jpg',\n",
       "    'medium': 'https://randomuser.me/api/portraits/med/women/1.jpg',\n",
       "    'thumbnail': 'https://randomuser.me/api/portraits/thumb/women/1.jpg'},\n",
       "   'registered': '2009-06-06 13:25:56'},\n",
       "  {'cell': '0464-711-785',\n",
       "   'dob': '1979-11-25 01:02:41',\n",
       "   'email': 'kristin.fox@example.com',\n",
       "   'gender': 'female',\n",
       "   'id': {'name': 'TFN', 'value': '838434840'},\n",
       "   'location': {'city': 'tweed',\n",
       "    'postcode': 1607,\n",
       "    'state': 'victoria',\n",
       "    'street': '3981 railroad st'},\n",
       "   'login': {'md5': 'be66fd6e3a0dba6a12e1930a2b142493',\n",
       "    'password': 'felicia',\n",
       "    'salt': 'KyB1BOvE',\n",
       "    'sha1': '704cac3125aa321a640a4e8a9ae16c94256af80c',\n",
       "    'sha256': 'e443ca22f7409c4018d9e1bc0d9f56c3f069d5aca04268e09fa708e96ac988bf',\n",
       "    'username': 'orangepanda155'},\n",
       "   'name': {'first': 'kristin', 'last': 'fox', 'title': 'mrs'},\n",
       "   'nat': 'AU',\n",
       "   'phone': '03-7229-8870',\n",
       "   'picture': {'large': 'https://randomuser.me/api/portraits/women/90.jpg',\n",
       "    'medium': 'https://randomuser.me/api/portraits/med/women/90.jpg',\n",
       "    'thumbnail': 'https://randomuser.me/api/portraits/thumb/women/90.jpg'},\n",
       "   'registered': '2009-11-22 23:50:11'},\n",
       "  {'cell': '(81) 6294-4057',\n",
       "   'dob': '1976-01-28 02:49:23',\n",
       "   'email': 'argemiro.daconceição@example.com',\n",
       "   'gender': 'male',\n",
       "   'id': {'name': '', 'value': None},\n",
       "   'location': {'city': 'juazeiro',\n",
       "    'postcode': 37414,\n",
       "    'state': 'pernambuco',\n",
       "    'street': '3075 rua quinze de novembro '},\n",
       "   'login': {'md5': '893fb4b450a9dd16000745d41867acf7',\n",
       "    'password': 'sweet1',\n",
       "    'salt': '6HtDDZrD',\n",
       "    'sha1': '22c53a9b0f8db9b1cdd30cfa264cb9bde9f8bfcb',\n",
       "    'sha256': 'fc77f0ec5e9c6fb49dfb37996fa862c11e9502d92675b58c5864aff9e1ee3762',\n",
       "    'username': 'bigpanda260'},\n",
       "   'name': {'first': 'argemiro', 'last': 'da conceição', 'title': 'mr'},\n",
       "   'nat': 'BR',\n",
       "   'phone': '(74) 2623-9565',\n",
       "   'picture': {'large': 'https://randomuser.me/api/portraits/men/8.jpg',\n",
       "    'medium': 'https://randomuser.me/api/portraits/med/men/8.jpg',\n",
       "    'thumbnail': 'https://randomuser.me/api/portraits/thumb/men/8.jpg'},\n",
       "   'registered': '2015-12-23 15:12:09'},\n",
       "  {'cell': '641-883-316',\n",
       "   'dob': '1974-09-05 13:53:40',\n",
       "   'email': 'marina.benitez@example.com',\n",
       "   'gender': 'female',\n",
       "   'id': {'name': 'DNI', 'value': '91965665-Y'},\n",
       "   'location': {'city': 'murcia',\n",
       "    'postcode': 21429,\n",
       "    'state': 'comunidad de madrid',\n",
       "    'street': '8246 calle de la almudena'},\n",
       "   'login': {'md5': '030dcf59155d6544eaed14421c0b5581',\n",
       "    'password': 'killers',\n",
       "    'salt': 'ls8y9dgQ',\n",
       "    'sha1': 'fa9f60edc87920cfa9acc878af41df34b5713c61',\n",
       "    'sha256': 'ce0b37b1539b17f98920fe7c61f6fe78ebb5a6861c48c3bd26ee9a9f00a560fe',\n",
       "    'username': 'goldenelephant541'},\n",
       "   'name': {'first': 'marina', 'last': 'benitez', 'title': 'miss'},\n",
       "   'nat': 'ES',\n",
       "   'phone': '952-785-431',\n",
       "   'picture': {'large': 'https://randomuser.me/api/portraits/women/92.jpg',\n",
       "    'medium': 'https://randomuser.me/api/portraits/med/women/92.jpg',\n",
       "    'thumbnail': 'https://randomuser.me/api/portraits/thumb/women/92.jpg'},\n",
       "   'registered': '2011-01-14 07:03:02'}]}"
      ]
     },
     "execution_count": 32,
     "metadata": {},
     "output_type": "execute_result"
    }
   ],
   "source": [
    "response.json()"
   ]
  },
  {
   "cell_type": "code",
   "execution_count": 41,
   "metadata": {
    "collapsed": true
   },
   "outputs": [],
   "source": [
    "users = response.json().get('results')\n"
   ]
  },
  {
   "cell_type": "code",
   "execution_count": 60,
   "metadata": {},
   "outputs": [
    {
     "name": "stdout",
     "output_type": "stream",
     "text": [
      "lisa==>>()<<==lisa.hall@example.com==>>()<<==beautifulsnake654==>>()<<==2015-08-30 05:20:47==>>()<<==1959-06-26 04:16:28\n",
      "nalan==>>()<<==nalan.tokgöz@example.com==>>()<<==greenbutterfly125==>>()<<==2009-06-06 13:25:56==>>()<<==1952-05-12 15:38:32\n",
      "kristin==>>()<<==kristin.fox@example.com==>>()<<==orangepanda155==>>()<<==2009-11-22 23:50:11==>>()<<==1979-11-25 01:02:41\n",
      "argemiro==>>()<<==argemiro.daconceição@example.com==>>()<<==bigpanda260==>>()<<==2015-12-23 15:12:09==>>()<<==1976-01-28 02:49:23\n",
      "marina==>>()<<==marina.benitez@example.com==>>()<<==goldenelephant541==>>()<<==2011-01-14 07:03:02==>>()<<==1974-09-05 13:53:40\n"
     ]
    }
   ],
   "source": [
    "for user in users:\n",
    "    first_name = user.get('name').get('first')\n",
    "    email = user.get('email')\n",
    "    username = user.get('login').get('username')\n",
    "    registered = user.get('registered')\n",
    "    dob = user.get('dob')\n",
    "\n",
    "    print(first_name, email, username, registered, dob, sep='==>>()<<==')"
   ]
  },
  {
   "cell_type": "code",
   "execution_count": 87,
   "metadata": {},
   "outputs": [
    {
     "name": "stdout",
     "output_type": "stream",
     "text": [
      "1974-09-05\n"
     ]
    }
   ],
   "source": [
    "dob = user.get('dob').split(' ')\n",
    "\n",
    "dob_only = dob[0]\n",
    "print(dob_only)"
   ]
  },
  {
   "cell_type": "code",
   "execution_count": 83,
   "metadata": {},
   "outputs": [
    {
     "ename": "TypeError",
     "evalue": "list indices must be integers or slices, not str",
     "output_type": "error",
     "traceback": [
      "\u001b[0;31m---------------------------------------------------------------------------\u001b[0m",
      "\u001b[0;31mTypeError\u001b[0m                                 Traceback (most recent call last)",
      "\u001b[0;32m<ipython-input-83-02cc9e375785>\u001b[0m in \u001b[0;36m<module>\u001b[0;34m()\u001b[0m\n\u001b[0;32m----> 1\u001b[0;31m \u001b[0musers\u001b[0m\u001b[0;34m[\u001b[0m\u001b[0;34m'first'\u001b[0m\u001b[0;34m]\u001b[0m\u001b[0;34m\u001b[0m\u001b[0m\n\u001b[0m",
      "\u001b[0;31mTypeError\u001b[0m: list indices must be integers or slices, not str"
     ]
    }
   ],
   "source": []
  },
  {
   "cell_type": "code",
   "execution_count": 84,
   "metadata": {},
   "outputs": [
    {
     "ename": "ValueError",
     "evalue": "unconverted data remains: 13:53:40",
     "output_type": "error",
     "traceback": [
      "\u001b[0;31m---------------------------------------------------------------------------\u001b[0m",
      "\u001b[0;31mValueError\u001b[0m                                Traceback (most recent call last)",
      "\u001b[0;32m<ipython-input-84-2aae60d6dff5>\u001b[0m in \u001b[0;36m<module>\u001b[0;34m()\u001b[0m\n\u001b[1;32m      1\u001b[0m \u001b[0;32mfrom\u001b[0m \u001b[0mdatetime\u001b[0m \u001b[0;32mimport\u001b[0m \u001b[0mdatetime\u001b[0m\u001b[0;34m\u001b[0m\u001b[0m\n\u001b[1;32m      2\u001b[0m \u001b[0mdate\u001b[0m \u001b[0;34m=\u001b[0m \u001b[0;34m'1974-09-05 13:53:40'\u001b[0m\u001b[0;34m\u001b[0m\u001b[0m\n\u001b[0;32m----> 3\u001b[0;31m \u001b[0mdt\u001b[0m \u001b[0;34m=\u001b[0m \u001b[0mdatetime\u001b[0m\u001b[0;34m.\u001b[0m\u001b[0mstrptime\u001b[0m\u001b[0;34m(\u001b[0m\u001b[0mdate\u001b[0m\u001b[0;34m,\u001b[0m \u001b[0;34m'%Y-%d-%m '\u001b[0m\u001b[0;34m)\u001b[0m\u001b[0;34m\u001b[0m\u001b[0m\n\u001b[0m",
      "\u001b[0;32m/anaconda/lib/python3.6/_strptime.py\u001b[0m in \u001b[0;36m_strptime_datetime\u001b[0;34m(cls, data_string, format)\u001b[0m\n\u001b[1;32m    563\u001b[0m     \"\"\"Return a class cls instance based on the input string and the\n\u001b[1;32m    564\u001b[0m     format string.\"\"\"\n\u001b[0;32m--> 565\u001b[0;31m     \u001b[0mtt\u001b[0m\u001b[0;34m,\u001b[0m \u001b[0mfraction\u001b[0m \u001b[0;34m=\u001b[0m \u001b[0m_strptime\u001b[0m\u001b[0;34m(\u001b[0m\u001b[0mdata_string\u001b[0m\u001b[0;34m,\u001b[0m \u001b[0mformat\u001b[0m\u001b[0;34m)\u001b[0m\u001b[0;34m\u001b[0m\u001b[0m\n\u001b[0m\u001b[1;32m    566\u001b[0m     \u001b[0mtzname\u001b[0m\u001b[0;34m,\u001b[0m \u001b[0mgmtoff\u001b[0m \u001b[0;34m=\u001b[0m \u001b[0mtt\u001b[0m\u001b[0;34m[\u001b[0m\u001b[0;34m-\u001b[0m\u001b[0;36m2\u001b[0m\u001b[0;34m:\u001b[0m\u001b[0;34m]\u001b[0m\u001b[0;34m\u001b[0m\u001b[0m\n\u001b[1;32m    567\u001b[0m     \u001b[0margs\u001b[0m \u001b[0;34m=\u001b[0m \u001b[0mtt\u001b[0m\u001b[0;34m[\u001b[0m\u001b[0;34m:\u001b[0m\u001b[0;36m6\u001b[0m\u001b[0;34m]\u001b[0m \u001b[0;34m+\u001b[0m \u001b[0;34m(\u001b[0m\u001b[0mfraction\u001b[0m\u001b[0;34m,\u001b[0m\u001b[0;34m)\u001b[0m\u001b[0;34m\u001b[0m\u001b[0m\n",
      "\u001b[0;32m/anaconda/lib/python3.6/_strptime.py\u001b[0m in \u001b[0;36m_strptime\u001b[0;34m(data_string, format)\u001b[0m\n\u001b[1;32m    363\u001b[0m     \u001b[0;32mif\u001b[0m \u001b[0mlen\u001b[0m\u001b[0;34m(\u001b[0m\u001b[0mdata_string\u001b[0m\u001b[0;34m)\u001b[0m \u001b[0;34m!=\u001b[0m \u001b[0mfound\u001b[0m\u001b[0;34m.\u001b[0m\u001b[0mend\u001b[0m\u001b[0;34m(\u001b[0m\u001b[0;34m)\u001b[0m\u001b[0;34m:\u001b[0m\u001b[0;34m\u001b[0m\u001b[0m\n\u001b[1;32m    364\u001b[0m         raise ValueError(\"unconverted data remains: %s\" %\n\u001b[0;32m--> 365\u001b[0;31m                           data_string[found.end():])\n\u001b[0m\u001b[1;32m    366\u001b[0m \u001b[0;34m\u001b[0m\u001b[0m\n\u001b[1;32m    367\u001b[0m     \u001b[0miso_year\u001b[0m \u001b[0;34m=\u001b[0m \u001b[0myear\u001b[0m \u001b[0;34m=\u001b[0m \u001b[0;32mNone\u001b[0m\u001b[0;34m\u001b[0m\u001b[0m\n",
      "\u001b[0;31mValueError\u001b[0m: unconverted data remains: 13:53:40"
     ]
    }
   ],
   "source": [
    "from datetime import datetime\n",
    "date = '1974-09-05 13:53:40'\n",
    "dt = datetime.strptime(date, '%Y-%d-%m ')"
   ]
  },
  {
   "cell_type": "code",
   "execution_count": 92,
   "metadata": {},
   "outputs": [
    {
     "ename": "IndentationError",
     "evalue": "unexpected indent (<ipython-input-92-b154e52450f2>, line 4)",
     "output_type": "error",
     "traceback": [
      "\u001b[0;36m  File \u001b[0;32m\"<ipython-input-92-b154e52450f2>\"\u001b[0;36m, line \u001b[0;32m4\u001b[0m\n\u001b[0;31m    print(dob_only)\u001b[0m\n\u001b[0m    ^\u001b[0m\n\u001b[0;31mIndentationError\u001b[0m\u001b[0;31m:\u001b[0m unexpected indent\n"
     ]
    }
   ],
   "source": [
    "dob = user.get('dob').split(' ')\n",
    "\n",
    "dob_only = dob[0]\n",
    "    print(dob_only)"
   ]
  },
  {
   "cell_type": "code",
   "execution_count": 93,
   "metadata": {},
   "outputs": [
    {
     "data": {
      "text/plain": [
       "'1974-09-05 13:53:40'"
      ]
     },
     "execution_count": 93,
     "metadata": {},
     "output_type": "execute_result"
    }
   ],
   "source": [
    "date"
   ]
  },
  {
   "cell_type": "code",
   "execution_count": 94,
   "metadata": {},
   "outputs": [
    {
     "ename": "AttributeError",
     "evalue": "type object 'datetime.datetime' has no attribute 'strf'",
     "output_type": "error",
     "traceback": [
      "\u001b[0;31m---------------------------------------------------------------------------\u001b[0m",
      "\u001b[0;31mAttributeError\u001b[0m                            Traceback (most recent call last)",
      "\u001b[0;32m<ipython-input-94-5b2559134b4a>\u001b[0m in \u001b[0;36m<module>\u001b[0;34m()\u001b[0m\n\u001b[0;32m----> 1\u001b[0;31m \u001b[0mdatetime\u001b[0m\u001b[0;34m.\u001b[0m\u001b[0mstrf\u001b[0m\u001b[0;34m(\u001b[0m\u001b[0mdate\u001b[0m\u001b[0;34m)\u001b[0m\u001b[0;34m\u001b[0m\u001b[0m\n\u001b[0m",
      "\u001b[0;31mAttributeError\u001b[0m: type object 'datetime.datetime' has no attribute 'strf'"
     ]
    }
   ],
   "source": [
    "datetime.strf(date)"
   ]
  },
  {
   "cell_type": "code",
   "execution_count": null,
   "metadata": {
    "collapsed": true
   },
   "outputs": [],
   "source": [
    "Anatomy of a Web Page: Javascript. See analogy on the Web."
   ]
  },
  {
   "cell_type": "code",
   "execution_count": 95,
   "metadata": {
    "collapsed": true
   },
   "outputs": [],
   "source": [
    "#  \"use strict\";  First line. "
   ]
  },
  {
   "cell_type": "code",
   "execution_count": 97,
   "metadata": {},
   "outputs": [
    {
     "ename": "SyntaxError",
     "evalue": "invalid syntax (<ipython-input-97-49398f6b1e77>, line 1)",
     "output_type": "error",
     "traceback": [
      "\u001b[0;36m  File \u001b[0;32m\"<ipython-input-97-49398f6b1e77>\"\u001b[0;36m, line \u001b[0;32m1\u001b[0m\n\u001b[0;31m    var rabbit_foot = 'fuzzy dice';\u001b[0m\n\u001b[0m                  ^\u001b[0m\n\u001b[0;31mSyntaxError\u001b[0m\u001b[0;31m:\u001b[0m invalid syntax\n"
     ]
    }
   ],
   "source": [
    "var rabbit_foot = 'fuzzy dice'; \n",
    "\n",
    "\n"
   ]
  },
  {
   "cell_type": "markdown",
   "metadata": {},
   "source": [
    "\n",
    "if (rabbit_foot === 'fuzzy_dice') {console.log(true)} "
   ]
  },
  {
   "cell_type": "code",
   "execution_count": 99,
   "metadata": {
    "collapsed": true
   },
   "outputs": [],
   "source": [
    "# Javascript\n",
    "# str\n",
    "# number\n",
    "# boolean\n",
    "# object; array\n",
    "# NaN\n",
    "# undefined\n",
    "# boolean\n",
    "# symbol"
   ]
  },
  {
   "cell_type": "code",
   "execution_count": 104,
   "metadata": {},
   "outputs": [
    {
     "data": {
      "text/html": [
       "<script>\n",
       "var = cats ['langs', 'game', 'rivs']\n",
       "\n",
       "\n",
       "</script>"
      ],
      "text/plain": [
       "<IPython.core.display.HTML object>"
      ]
     },
     "metadata": {},
     "output_type": "display_data"
    }
   ],
   "source": [
    "%%html inline \n",
    "<script>\n",
    "var = cats ['langs', 'game', 'rivs']\n",
    "\n",
    "\n",
    "</script>"
   ]
  },
  {
   "cell_type": "code",
   "execution_count": 101,
   "metadata": {},
   "outputs": [
    {
     "ename": "NameError",
     "evalue": "name 'cats' is not defined",
     "output_type": "error",
     "traceback": [
      "\u001b[0;31m---------------------------------------------------------------------------\u001b[0m",
      "\u001b[0;31mNameError\u001b[0m                                 Traceback (most recent call last)",
      "\u001b[0;32m<ipython-input-101-3cc84d08ed2e>\u001b[0m in \u001b[0;36m<module>\u001b[0;34m()\u001b[0m\n\u001b[0;32m----> 1\u001b[0;31m \u001b[0mcats\u001b[0m\u001b[0;34m.\u001b[0m\u001b[0mpush\u001b[0m\u001b[0;34m(\u001b[0m\u001b[0;34m'item'\u001b[0m\u001b[0;34m)\u001b[0m\u001b[0;34m\u001b[0m\u001b[0m\n\u001b[0m",
      "\u001b[0;31mNameError\u001b[0m: name 'cats' is not defined"
     ]
    }
   ],
   "source": [
    "cats.push('item')"
   ]
  },
  {
   "cell_type": "code",
   "execution_count": null,
   "metadata": {
    "collapsed": true
   },
   "outputs": [],
   "source": []
  }
 ],
 "metadata": {
  "kernelspec": {
   "display_name": "Python 3",
   "language": "python",
   "name": "python3"
  },
  "language_info": {
   "codemirror_mode": {
    "name": "ipython",
    "version": 3
   },
   "file_extension": ".py",
   "mimetype": "text/x-python",
   "name": "python",
   "nbconvert_exporter": "python",
   "pygments_lexer": "ipython3",
   "version": "3.6.0"
  }
 },
 "nbformat": 4,
 "nbformat_minor": 2
}
