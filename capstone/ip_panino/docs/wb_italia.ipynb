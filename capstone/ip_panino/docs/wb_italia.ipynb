{
 "cells": [
  {
   "cell_type": "markdown",
   "metadata": {},
   "source": [
    "# WorldBank_Italia\n"
   ]
  },
  {
   "cell_type": "markdown",
   "metadata": {},
   "source": [
    "<P> Purpose: Provide historical data models and graphs showing World Bank data for Italy on foreign direct investments, and calculate percentage of these that make up intellectual property use. Then map the areas in Italy to show which geographic centers show greatest impact on economic development for intellectual property in high technology sector. Compare Italy's growth in intellectual property receipts vs. the rest of the European Union in the period of 1990-2015. </p>"
   ]
  },
  {
   "cell_type": "markdown",
   "metadata": {},
   "source": [
    "* User interacts with models by selecting time periods in decades. \n",
    "* User interacts with maps to show locations with highest development $ \n",
    "* User can compare Italy to other countries in the European Union (26 members)\n",
    "* Predictive modeling (projection scenarios) are further work; hopefully can complete\n",
    "\n",
    "\n"
   ]
  },
  {
   "cell_type": "markdown",
   "metadata": {},
   "source": [
    "### Works Cited/Sources Required: \n",
    "* https://github.com/OliverSherouse/wbdata\n",
    "* http://wbdata.readthedocs.io/en/latest/\n",
    "* http://data.europa.eu/euodp/en/data\n",
    "* https://plot.ly/python/create-online-dashboard/\n",
    "* https://d3js.org/\n",
    "* http://databank.worldbank.org/data/reports.aspx?Code=BN.KLT.DINV.CD&id=1ff4a498&report_name=Popular-Indicators&populartype=series&ispopular=y\n",
    "* http://data.worldbank.org/indicator/BX.GSR.ROYL.CD?locations=IT\n",
    "* http://data.worldbank.org/indicator/BX.KLT.DINV.CD.WD?end=2015&locations=IT&start=2015&view=map\n",
    "\n",
    "\n",
    "### Works Cited/Sources Optional:\n",
    "* http://www.licensemag.com/license-global/top-150-global-licensors\n",
    "* https://www2.deloitte.com/content/dam/Deloitte/cn/Documents/international-business-support/deloitte-cn-ibs-italy-tax-invest-en-2016.pdf\n",
    "* http://www.wipo.int/edocs/pubdocs/en/intproperty/941/wipo_pub_941_2012.pdf\n",
    "* http://www.sciencedirect.com/science/article/pii/S0047272714000103\n",
    "* http://data.europa.eu/euodp/en/developerscorner\n",
    "* http://ec.europa.eu/eurostat/data/database\n",
    "* http://data.europa.eu/euodp/en/data/dataset/uoB5ZYysi82NeVXwldifw\n",
    "* http://geonode.org/#install"
   ]
  },
  {
   "cell_type": "markdown",
   "metadata": {},
   "source": [
    "#### Minimum feature set:\n",
    "* Statistical model of intellectual property receipts per World Bank from 1990-2015; using D3.js or plot.ly. Source: http://data.worldbank.org/indicator/BX.GSR.ROYL.CD?locations=IT\n",
    "* Show intellectual property investment in high-tech vs. other sectors (e.g., media, music)\n",
    "* Show geographic clusters where intellecual property investments are highest, lowest\n",
    "* Provide resource tool for investors. \n",
    "\n",
    "\n",
    "#### Further work: \n",
    "* Provide predictive modeling tool for foreign investors who want to know when, where, and how to invest by selling intell prop rights in Italy, or by foreign direct investment (10% stakeholders).\n",
    "* What are the factors that contribute to growth/ anticipated growth based intellectual property use? \n",
    "* If you want to invest in intellectual property in high tech sector, what are the main factors to consider? Growth industries/sectors/manufacturing areas.\n",
    "* What is the risk/reward of investing in intellectucal prop in high-tech in Italy?"
   ]
  },
  {
   "cell_type": "markdown",
   "metadata": {},
   "source": [
    "#### Schedule\n",
    "* <b>WK10:</b> Install wbdata, Python, and introspect data objects. Redefine minimum feature set and scope based on availablilty of data from World Bank. Gather and determine whether useful to also use for comparative stats: http://ec.europa.eu/eurostat/data/database\n",
    "* <b>WK11:</b> Complete web pages using bootstrap and flexbox with simple layout (5-10 pages). Develop CSS. Develop historical model showing growth of intellectual property receipts from 1990-2015, progressive year-over-year model, with industry sector breakdown if possible. \n",
    "* <b>WK12:</b> Use GeoNode, or plot.ly, to create geographic clusters showing where highest amount of capital investments occurred. Refine layout of web pages. Assure main body shows growth in intellectual property receipts from 1990-2015, with overlays of high tech sector, and progressively fill out chart based on \"on click\" behavior for UI. Default behavior shows main graphic at 50% opacity. \n",
    "* <b>WK13:</b> Testing of UI, on-click behavior in Javascript; determine lifecyle of data.\n",
    "* <b>WK14: </b> Refinement, final testing"
   ]
  },
  {
   "cell_type": "markdown",
   "metadata": {},
   "source": [
    "### Challenges: \n",
    "\n",
    "* WHO: Investors/Analysts\n",
    "* WHAT: Understand growth patterns in IP in specific countries (Italy, India, Ireland, Greece); review Foreign Direct Investments against IP.\n",
    "* WHEN: Timeline 1990-2015\n",
    "* HOW: ??? Can users create an account and select their industry, thus projecting future trends based on past history? \n",
    "* WHY: Why invest in IP abroad? Why review growth patterns in IP sales. \n",
    "* WHERE: Italy, and rest of EU. \n",
    "\n",
    "* Creating 25 year chart of Intellectucal Property Receipts with D3.js; and conjoining this with eurostat data as overlay\n",
    "* Greatest amount of work will occur between WK11 and WK12.\n",
    "* Determining which \"modules\" are necessary for fleshing out World Bank Data and context for intellectual property receipts, and showing examples to mak* this \"real\" rather than imagined with statistics.\n",
    "* Determine whether to use pandas or other to access worldbank data  "
   ]
  },
  {
   "cell_type": "code",
   "execution_count": null,
   "metadata": {
    "collapsed": true
   },
   "outputs": [],
   "source": [
    ""
   ]
  }
 ],
 "metadata": {
  "kernelspec": {
   "display_name": "Python 3",
   "language": "python",
   "name": "python3"
  },
  "language_info": {
   "codemirror_mode": {
    "name": "ipython",
    "version": 3.0
   },
   "file_extension": ".py",
   "mimetype": "text/x-python",
   "name": "python",
   "nbconvert_exporter": "python",
   "pygments_lexer": "ipython3",
   "version": "3.6.0"
  }
 },
 "nbformat": 4,
 "nbformat_minor": 0
}