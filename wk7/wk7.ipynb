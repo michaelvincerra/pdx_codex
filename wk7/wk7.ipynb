{
 "cells": [
  {
   "cell_type": "code",
   "execution_count": 1,
   "metadata": {
    "collapsed": true
   },
   "outputs": [],
   "source": [
    "# Javascript uses ECMAScript.\n",
    "# the most popular scripting language. \n",
    "# Folklore: Brendan Eich wrote JS in 11 days. \n",
    "# No classes! ;  \n",
    "# In JS everything is a object; but it's a scripting language\n",
    "# Node.js is javascript running on the server. \n",
    "# DOM: Document Object Model\n",
    "# REACT is the virturalization of the DOM \n",
    "# coffeescript compiles to javascript\n",
    "# Compiled language: From 1st layer to second layer, then interpreted the meaning from second layer. \n",
    "# Interpreted: Instant interpreted "
   ]
  },
  {
   "cell_type": "code",
   "execution_count": 3,
   "metadata": {
    "collapsed": true
   },
   "outputs": [],
   "source": [
    "# \"use strict\";  # this is required as the first line of ANY JS file. \n",
    "# \n",
    "# https://www.w3schools.com/js/js_strict.asp"
   ]
  },
  {
   "cell_type": "code",
   "execution_count": 4,
   "metadata": {
    "collapsed": true
   },
   "outputs": [],
   "source": [
    "# > var name = 'kieran';\n",
    "# every time you make a variable assignment, it is undefined. BUT, it is a pass by value. \n",
    "# WHITESPACE DOES NOT MATTER. "
   ]
  },
  {
   "cell_type": "code",
   "execution_count": 1,
   "metadata": {},
   "outputs": [
    {
     "ename": "SyntaxError",
     "evalue": "invalid syntax (<ipython-input-1-acdf5f5c813a>, line 1)",
     "output_type": "error",
     "traceback": [
      "\u001b[0;36m  File \u001b[0;32m\"<ipython-input-1-acdf5f5c813a>\"\u001b[0;36m, line \u001b[0;32m1\u001b[0m\n\u001b[0;31m    var name = 'kieran';\u001b[0m\n\u001b[0m           ^\u001b[0m\n\u001b[0;31mSyntaxError\u001b[0m\u001b[0;31m:\u001b[0m invalid syntax\n"
     ]
    }
   ],
   "source": [
    "var name = 'kieran';\n",
    "undefined\n",
    "\n",
    "console.log(name);\n",
    "kieran"
   ]
  },
  {
   "cell_type": "code",
   "execution_count": 2,
   "metadata": {},
   "outputs": [
    {
     "ename": "SyntaxError",
     "evalue": "invalid syntax (<ipython-input-2-cfb2ed4ef9f3>, line 9)",
     "output_type": "error",
     "traceback": [
      "\u001b[0;36m  File \u001b[0;32m\"<ipython-input-2-cfb2ed4ef9f3>\"\u001b[0;36m, line \u001b[0;32m9\u001b[0m\n\u001b[0;31m    JSON: JAVASCRIPT OBJECT NOTATION\u001b[0m\n\u001b[0m                          ^\u001b[0m\n\u001b[0;31mSyntaxError\u001b[0m\u001b[0;31m:\u001b[0m invalid syntax\n"
     ]
    }
   ],
   "source": [
    "# JS TYPES (PRIMITIVES) ONLY 3\n",
    "#- string\n",
    "#- Number\n",
    "#- Array\n",
    "# - null, bad, undefined\n",
    "\n",
    "#- Object\n",
    "# FOR JS, uses 'typeof'\n",
    "JSON: JAVASCRIPT OBJECT NOTATION"
   ]
  },
  {
   "cell_type": "code",
   "execution_count": 3,
   "metadata": {},
   "outputs": [
    {
     "ename": "SyntaxError",
     "evalue": "invalid syntax (<ipython-input-3-78555a0d1e81>, line 1)",
     "output_type": "error",
     "traceback": [
      "\u001b[0;36m  File \u001b[0;32m\"<ipython-input-3-78555a0d1e81>\"\u001b[0;36m, line \u001b[0;32m1\u001b[0m\n\u001b[0;31m    > var ships = {'queen mary': 'Long Beach', 'Titanic': 'Atlantic'}\u001b[0m\n\u001b[0m    ^\u001b[0m\n\u001b[0;31mSyntaxError\u001b[0m\u001b[0;31m:\u001b[0m invalid syntax\n"
     ]
    }
   ],
   "source": [
    "> var ships = {'queen mary': 'Long Beach', 'Titanic': 'Atlantic'}\n",
    "undefined\n",
    "> typeof(ships)\n",
    "'object'"
   ]
  },
  {
   "cell_type": "code",
   "execution_count": 4,
   "metadata": {},
   "outputs": [
    {
     "ename": "SyntaxError",
     "evalue": "invalid syntax (<ipython-input-4-201bdf3ffcf4>, line 2)",
     "output_type": "error",
     "traceback": [
      "\u001b[0;36m  File \u001b[0;32m\"<ipython-input-4-201bdf3ffcf4>\"\u001b[0;36m, line \u001b[0;32m2\u001b[0m\n\u001b[0;31m    1 === '1' #strict equality REQUIRES DATA TYPE AND VALUE EQUALITY\u001b[0m\n\u001b[0m        ^\u001b[0m\n\u001b[0;31mSyntaxError\u001b[0m\u001b[0;31m:\u001b[0m invalid syntax\n"
     ]
    }
   ],
   "source": [
    "1 == '1' #loose equality\n",
    "1 === '1' #strict equality REQUIRES DATA TYPE AND VALUE EQUALITY "
   ]
  },
  {
   "cell_type": "code",
   "execution_count": 5,
   "metadata": {},
   "outputs": [
    {
     "ename": "SyntaxError",
     "evalue": "invalid syntax (<ipython-input-5-9cb95587c9df>, line 1)",
     "output_type": "error",
     "traceback": [
      "\u001b[0;36m  File \u001b[0;32m\"<ipython-input-5-9cb95587c9df>\"\u001b[0;36m, line \u001b[0;32m1\u001b[0m\n\u001b[0;31m    https://www.w3schools.com/js/js_reserved.asp\u001b[0m\n\u001b[0m           ^\u001b[0m\n\u001b[0;31mSyntaxError\u001b[0m\u001b[0;31m:\u001b[0m invalid syntax\n"
     ]
    }
   ],
   "source": [
    "https://www.w3schools.com/js/js_reserved.asp"
   ]
  },
  {
   "cell_type": "code",
   "execution_count": 6,
   "metadata": {},
   "outputs": [
    {
     "ename": "SyntaxError",
     "evalue": "invalid syntax (<ipython-input-6-b4681a721351>, line 4)",
     "output_type": "error",
     "traceback": [
      "\u001b[0;36m  File \u001b[0;32m\"<ipython-input-6-b4681a721351>\"\u001b[0;36m, line \u001b[0;32m4\u001b[0m\n\u001b[0;31m    > function hello() {   # Scope is defined by the curly braces.\u001b[0m\n\u001b[0m    ^\u001b[0m\n\u001b[0;31mSyntaxError\u001b[0m\u001b[0;31m:\u001b[0m invalid syntax\n"
     ]
    }
   ],
   "source": [
    "# PEP 8\n",
    "# USE ; AT THE END OF ANY EXECUTABLE LINE OF CODE IN JS!\n",
    "\n",
    "> function hello() {   # Scope is defined by the curly braces. \n",
    "\n",
    "> function hello() {\n",
    "... console.log(\"hello world!\");}\n",
    "undefined\n",
    "> hello()\n",
    "hello world!\n",
    "undefined\n",
    "> hello()\n",
    "hello world!\n",
    "undefined\n",
    "> function hello(){console.log(\"llamas\");};\n",
    "undefined\n",
    "> hello()\n",
    "llamas\n",
    "undefined"
   ]
  },
  {
   "cell_type": "code",
   "execution_count": 1,
   "metadata": {},
   "outputs": [
    {
     "ename": "SyntaxError",
     "evalue": "invalid syntax (<ipython-input-1-a3efdf830cae>, line 1)",
     "output_type": "error",
     "traceback": [
      "\u001b[0;36m  File \u001b[0;32m\"<ipython-input-1-a3efdf830cae>\"\u001b[0;36m, line \u001b[0;32m1\u001b[0m\n\u001b[0;31m    var star_trek_crew = (\"Jim\",\"Spock\", \"Picard\")\u001b[0m\n\u001b[0m                     ^\u001b[0m\n\u001b[0;31mSyntaxError\u001b[0m\u001b[0;31m:\u001b[0m invalid syntax\n"
     ]
    }
   ],
   "source": [
    "var star_trek_crew = (\"Jim\",\"Spock\", \"Picard\")\n",
    "\n",
    "for (var i=0; i<3; i++){\n",
    "    console.log(star_trek_crew[i]);\n",
    "}\n",
    "\n",
    "\n",
    "# for loop iterates over indices not elements."
   ]
  },
  {
   "cell_type": "code",
   "execution_count": 10,
   "metadata": {
    "collapsed": true
   },
   "outputs": [],
   "source": [
    "# Javascript for Loop\n",
    "# https://www.w3schools.com/js/js_loop_for.asp"
   ]
  },
  {
   "cell_type": "code",
   "execution_count": null,
   "metadata": {
    "collapsed": true
   },
   "outputs": [],
   "source": [
    "# Use '//' preceded for comments"
   ]
  },
  {
   "cell_type": "code",
   "execution_count": null,
   "metadata": {
    "collapsed": true
   },
   "outputs": [],
   "source": [
    "# Always write a \"Return\" at the end of a function; even if it's nothing. "
   ]
  },
  {
   "cell_type": "code",
   "execution_count": null,
   "metadata": {
    "collapsed": true
   },
   "outputs": [],
   "source": [
    "# JS prefers methods\n",
    "Array()\n",
    "String()\n",
    "Object()\n",
    "Boolean()\n",
    "Array(16)"
   ]
  },
  {
   "cell_type": "code",
   "execution_count": 11,
   "metadata": {},
   "outputs": [
    {
     "ename": "SyntaxError",
     "evalue": "invalid syntax (<ipython-input-11-55a02ecc329e>, line 1)",
     "output_type": "error",
     "traceback": [
      "\u001b[0;36m  File \u001b[0;32m\"<ipython-input-11-55a02ecc329e>\"\u001b[0;36m, line \u001b[0;32m1\u001b[0m\n\u001b[0;31m    > var spaceships = ['enterprise', 'DS9', 'challenger']\u001b[0m\n\u001b[0m    ^\u001b[0m\n\u001b[0;31mSyntaxError\u001b[0m\u001b[0;31m:\u001b[0m invalid syntax\n"
     ]
    }
   ],
   "source": [
    "> var spaceships = ['enterprise', 'DS9', 'challenger']\n",
    "undefined\n",
    "> spaceships.length     # where length is a property"
   ]
  },
  {
   "cell_type": "code",
   "execution_count": null,
   "metadata": {
    "collapsed": true
   },
   "outputs": [],
   "source": [
    "# https://www.w3schools.com/js/js_string_methods.asp\n",
    "\n",
    "#> var str = \"Apple, Banana, Kiwi\";\n",
    "#undefined\n",
    "#> var res = str.slice(-12,-6)\n",
    "#undefined\n",
    "#> res\n",
    "#'Banana'\n",
    "#> var str = \"Apple, Banana, Kiwi\";\n",
    "#undefined\n",
    "#> var res = str.slice(7,13)\n",
    "#undefined\n",
    "#> res\n",
    "#'Banana'\n",
    "#> "
   ]
  },
  {
   "cell_type": "code",
   "execution_count": 1,
   "metadata": {
    "collapsed": true
   },
   "outputs": [],
   "source": [
    "# http://pandas.pydata.org/pandas-docs/stable/groupby.html\n",
    "# Learn Group By\n",
    "# use with Dictionaries, Sets"
   ]
  },
  {
   "cell_type": "code",
   "execution_count": null,
   "metadata": {
    "collapsed": true
   },
   "outputs": [],
   "source": [
    "for var \n",
    "\n",
    "for (var i = 0;i<variable.length; i++){\n",
    "\n",
    "}\n"
   ]
  }
 ],
 "metadata": {
  "kernelspec": {
   "display_name": "Python 3",
   "language": "python",
   "name": "python3"
  },
  "language_info": {
   "codemirror_mode": {
    "name": "ipython",
    "version": 3
   },
   "file_extension": ".py",
   "mimetype": "text/x-python",
   "name": "python",
   "nbconvert_exporter": "python",
   "pygments_lexer": "ipython3",
   "version": "3.6.0"
  }
 },
 "nbformat": 4,
 "nbformat_minor": 2
}
