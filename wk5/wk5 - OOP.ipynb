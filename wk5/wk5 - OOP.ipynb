{
 "cells": [
  {
   "cell_type": "markdown",
   "metadata": {},
   "source": [
    "# Object Oriented Programming"
   ]
  },
  {
   "cell_type": "code",
   "execution_count": 1,
   "metadata": {
    "collapsed": true
   },
   "outputs": [],
   "source": [
    "class Vehicle:  \n",
    "    # Creates a custom PRIMITIVE TYPE\n",
    "    # BLUE PRINT: class definition; Vehicle is capitalized. Only CAPs and Alpha char. class Vehicle(object):\n",
    "    # If this is a top level class, you don't need to use parentheticals.\n",
    "    # CLASS Encapsulates a whole set of functions, def(); it creates a custom type  \n",
    "    \"\"\"\n",
    "    This is an abstract of the object's purpose. \n",
    "    \"\"\"\n",
    "    FOCUS = 'MOTION'  # CLASS Attribute\n",
    "    \n",
    "    def __init__(self, color, doors=4, tires=4, wheels=4, cylinders=4): # INSTR on HOW TO BUILD: __dunder__ init \n",
    "        self.color = color    # INITIALIZER: (or CONSTRUCTOR)\n",
    "        self.doors = doors    # INSTANCE ATTRIBUTE\n",
    "        self.tires = tires\n",
    "        self.wheels = wheels\n",
    "        self.cylinders = cylinders\n",
    "\n",
    "    def __repr__(self):    #__repr__ = representation\"\n",
    "        return 'A Vehicle'\n",
    "    \n",
    "    def turn(self, direction: str) ->None:  # 'METHOD' IS A FUNCTION OF THE CLASS. any time a function is indented, it has to use 'self' as the FIRST PARAMETER. \n",
    "        \"\"\"Instance method\"\"\"               # \n",
    "        print('Make a {} turn'.format(direction))"
   ]
  },
  {
   "cell_type": "code",
   "execution_count": 2,
   "metadata": {
    "collapsed": true
   },
   "outputs": [],
   "source": [
    "ferrari = Vehicle(color='red')      # this creates an instance; lowercase to the left; right side is a class invoked\n",
    "                                    # ferrari invokes the class Vehicle"
   ]
  },
  {
   "cell_type": "code",
   "execution_count": 3,
   "metadata": {
    "collapsed": true
   },
   "outputs": [],
   "source": [
    "ferrari = Vehicle(color='red')"
   ]
  },
  {
   "cell_type": "code",
   "execution_count": 4,
   "metadata": {
    "scrolled": true
   },
   "outputs": [
    {
     "data": {
      "text/plain": [
       "<bound method Vehicle.turn of A Vehicle>"
      ]
     },
     "execution_count": 4,
     "metadata": {},
     "output_type": "execute_result"
    }
   ],
   "source": [
    "ferrari.turn   # Access by attribute / property; returns ONLY an OBJECT"
   ]
  },
  {
   "cell_type": "code",
   "execution_count": 5,
   "metadata": {},
   "outputs": [
    {
     "data": {
      "text/plain": [
       "'red'"
      ]
     },
     "execution_count": 5,
     "metadata": {},
     "output_type": "execute_result"
    }
   ],
   "source": [
    "ferrari.color   # Returns the arg, after it was assigned above."
   ]
  },
  {
   "cell_type": "code",
   "execution_count": 6,
   "metadata": {},
   "outputs": [
    {
     "name": "stdout",
     "output_type": "stream",
     "text": [
      "A Vehicle\n"
     ]
    }
   ],
   "source": [
    "print(ferrari) # Below is the default REPR"
   ]
  },
  {
   "cell_type": "code",
   "execution_count": 7,
   "metadata": {},
   "outputs": [
    {
     "name": "stdout",
     "output_type": "stream",
     "text": [
      "Make a left turn\n"
     ]
    }
   ],
   "source": [
    "ferrari.turn('left')   # Returns the print statement from ferrari"
   ]
  },
  {
   "cell_type": "code",
   "execution_count": 8,
   "metadata": {},
   "outputs": [
    {
     "name": "stdout",
     "output_type": "stream",
     "text": [
      "Make a right turn\n"
     ]
    }
   ],
   "source": [
    "ferrari.turn('right')"
   ]
  },
  {
   "cell_type": "code",
   "execution_count": 9,
   "metadata": {
    "collapsed": true
   },
   "outputs": [],
   "source": [
    "class Monument:\n",
    "    def __init__(self, location, title, material, age, memo):    # __dunder__ PLEASE CUSTOMIZE ME!\n",
    "        self.location = location\n",
    "        self.title = title\n",
    "        self.material = material\n",
    "        self.age = age\n",
    "        self.memo = memo\n",
    "        \n",
    "    def __repr__(self):    #__repr__ = representation\"\n",
    "        return 'A Monument: {}'.format(self.title)"
   ]
  },
  {
   "cell_type": "code",
   "execution_count": 10,
   "metadata": {
    "collapsed": true
   },
   "outputs": [],
   "source": [
    "yellowstone_arch = Monument('Wyoming', 'Yellowstone National Park','earth', 100, 'Named in 1872' )"
   ]
  },
  {
   "cell_type": "code",
   "execution_count": 11,
   "metadata": {},
   "outputs": [
    {
     "data": {
      "text/plain": [
       "A Monument: Yellowstone National Park"
      ]
     },
     "execution_count": 11,
     "metadata": {},
     "output_type": "execute_result"
    }
   ],
   "source": [
    "yellowstone_arch"
   ]
  },
  {
   "cell_type": "code",
   "execution_count": 12,
   "metadata": {
    "collapsed": true
   },
   "outputs": [],
   "source": [
    "statue = Monument('Florida', 'The Everglades', 'Swamp', 100000, 'Florida attraction')"
   ]
  },
  {
   "cell_type": "code",
   "execution_count": 13,
   "metadata": {
    "collapsed": true
   },
   "outputs": [],
   "source": [
    "craters_of_the_moon = Monument('Idaho', 'Craters of the Moon Natl Monument.', 'Volcanic rock', 1000000, 'From the Moon')"
   ]
  },
  {
   "cell_type": "code",
   "execution_count": 14,
   "metadata": {
    "collapsed": true
   },
   "outputs": [],
   "source": [
    "monuments  = [yellowstone_arch, craters_of_the_moon]"
   ]
  },
  {
   "cell_type": "code",
   "execution_count": 15,
   "metadata": {
    "scrolled": true
   },
   "outputs": [
    {
     "data": {
      "text/plain": [
       "[A Monument: Craters of the Moon Natl Monument.]"
      ]
     },
     "execution_count": 15,
     "metadata": {},
     "output_type": "execute_result"
    }
   ],
   "source": [
    "[m for m in monuments if m.age > 100]"
   ]
  },
  {
   "cell_type": "code",
   "execution_count": 16,
   "metadata": {},
   "outputs": [
    {
     "name": "stdout",
     "output_type": "stream",
     "text": [
      "\u001b[34mcredit2\u001b[m\u001b[m/         enum1.py         \u001b[34mpractice\u001b[m\u001b[m/        wk5 - OOP.ipynb\r\n",
      "enum0.py         enum2.py         \u001b[34mrain\u001b[m\u001b[m/\r\n"
     ]
    }
   ],
   "source": [
    "ls"
   ]
  },
  {
   "cell_type": "code",
   "execution_count": 17,
   "metadata": {},
   "outputs": [
    {
     "name": "stdout",
     "output_type": "stream",
     "text": [
      "\u001b[34mcredit2\u001b[m\u001b[m/         enum1.py         \u001b[34mpractice\u001b[m\u001b[m/        wk5 - OOP.ipynb\r\n",
      "enum0.py         enum2.py         \u001b[34mrain\u001b[m\u001b[m/\r\n"
     ]
    }
   ],
   "source": [
    "ls"
   ]
  },
  {
   "cell_type": "code",
   "execution_count": 18,
   "metadata": {
    "collapsed": true
   },
   "outputs": [],
   "source": [
    "BASE_DIR = '/Users/michaelevan/temp/pdx_code/PythonFullStack/1_Python/3_Applied_Python/labs/ari/books/'"
   ]
  },
  {
   "cell_type": "code",
   "execution_count": 19,
   "metadata": {},
   "outputs": [
    {
     "ename": "TypeError",
     "evalue": "Required argument 'path' (pos 1) not found",
     "traceback": [
      "\u001b[0;31m---------------------------------------------------------------------------\u001b[0m",
      "\u001b[0;31mTypeError\u001b[0m                                 Traceback (most recent call last)",
      "\u001b[0;32m<ipython-input-19-9287eda60752>\u001b[0m in \u001b[0;36m<module>\u001b[0;34m()\u001b[0m\n\u001b[1;32m      1\u001b[0m \u001b[0;32mimport\u001b[0m \u001b[0mos\u001b[0m\u001b[0;34m\u001b[0m\u001b[0m\n\u001b[0;32m----> 2\u001b[0;31m \u001b[0mos\u001b[0m\u001b[0;34m.\u001b[0m\u001b[0mchdir\u001b[0m\u001b[0;34m(\u001b[0m\u001b[0;34m)\u001b[0m\u001b[0;34m\u001b[0m\u001b[0m\n\u001b[0m",
      "\u001b[0;31mTypeError\u001b[0m: Required argument 'path' (pos 1) not found"
     ],
     "output_type": "error"
    }
   ],
   "source": [
    "import os\n",
    "os.chdir()"
   ]
  },
  {
   "cell_type": "code",
   "execution_count": null,
   "metadata": {
    "collapsed": true
   },
   "outputs": [],
   "source": [
    "os.getcwd()"
   ]
  },
  {
   "cell_type": "code",
   "execution_count": null,
   "metadata": {
    "collapsed": true
   },
   "outputs": [],
   "source": [
    "os.path.join()"
   ]
  },
  {
   "cell_type": "code",
   "execution_count": null,
   "metadata": {
    "collapsed": true
   },
   "outputs": [],
   "source": [
    "def file_handler(filesystem_path: str) -> str:   # context manager\n",
    "    \"\"\"\n",
    "    Accepts a filesystem  Path\n",
    "    Opens the FIle, and returns the entire file\n",
    "    contents as a single string  literal.\n",
    "    \"\"\"\n",
    "\n",
    "    with open(filesystem_path, 'r' ) as f:   # f is a file object\n",
    "        raw_text = f.read()    # returns the entire content of file as a string. \n",
    "        return raw_text"
   ]
  },
  {
   "cell_type": "code",
   "execution_count": null,
   "metadata": {
    "collapsed": true
   },
   "outputs": [],
   "source": [
    "full_path = os.path.join(BASE_DIR, 'gettysburg_address.txt')\n",
    "data = filehandler()"
   ]
  },
  {
   "cell_type": "code",
   "execution_count": null,
   "metadata": {
    "collapsed": true
   },
   "outputs": [],
   "source": [
    "RAIN_DIR = '/Users/michaelevan/temp/pdx_code/PythonFullStack/1_Python/3_Applied_Python/labs/rain_data/'"
   ]
  },
  {
   "cell_type": "code",
   "execution_count": null,
   "metadata": {
    "collapsed": true
   },
   "outputs": [],
   "source": [
    "os.listdir(RAIN_DIR)"
   ]
  },
  {
   "cell_type": "code",
   "execution_count": null,
   "metadata": {
    "collapsed": true
   },
   "outputs": [],
   "source": [
    "full_path = os.path.join(RAIN_DIR, 'sample.rain')\n",
    "data = file_handler(full_path)"
   ]
  },
  {
   "cell_type": "raw",
   "metadata": {},
   "source": [
    "full_path"
   ]
  },
  {
   "cell_type": "code",
   "execution_count": null,
   "metadata": {
    "collapsed": true
   },
   "outputs": [],
   "source": [
    "data"
   ]
  },
  {
   "cell_type": "code",
   "execution_count": null,
   "metadata": {
    "collapsed": true
   },
   "outputs": [],
   "source": [
    "\"\"\"\n",
    "\n",
    "\"\"\"\n",
    "\n",
    "import os\n",
    "\n",
    "RAIN_DIR = '/Users/michaelevan/temp/pdx_code/PythonFullStack/1_Python/3_Applied_Python/labs/rain_data/'\n",
    "\n",
    "\n",
    "\n",
    "\n",
    "def file_handler(filesystem_path: str) -> str:   # context manager; input a str and output a str\n",
    "    \"\"\"\n",
    "    Accepts a filesystem  Path\n",
    "    Opens the FIle, and returns the entire file\n",
    "    contents as a single string  literal.\n",
    "    \"\"\"\n",
    "\n",
    "    with open(filesystem_path, 'r' ) as f:   # f is a file object\n",
    "        raw_text = f.read()    # returns the entire content of file as a string.\n",
    "        return raw_text\n",
    "\n",
    "\n",
    "    \n",
    "def split_strip(raw_data: str) -> list:    # Helper function\n",
    "    split_up = raw_data.split('\\n')\n",
    "    no_header = split_up[11:]    \n",
    "    return no_header\n",
    "  \n",
    "def helper(t):\n",
    "    return t[1][0]\n",
    "\n",
    "    \n",
    "def processor():\n",
    "\n",
    "    # text = list(os.listdir(RAIN_DIR))    # User Menu for multiple datasheets.\n",
    "\n",
    "    full_path = os.path.join(RAIN_DIR, 'sample.rain')\n",
    "    rain_data = file_handler(full_path)\n",
    "    \n",
    "    stripped_data = split_strip(rain_data)\n",
    "    \n",
    "    stripped = [data for data in stripped_data if data != '']  \n",
    "    \n",
    "    lines = [data.split() for data in stripped]\n",
    "    \n",
    "    data_dict = {rain_day[0]: rain_day[1:] for rain_day in lines if '-'not in rain_day[1:]}   # set rain_day[0] as key, which is ('DATE')\n",
    "    \n",
    "    max_rain = max(data_dict.items(), key=helper)    # data_dict.items creates a TUPLE.\n",
    "\n",
    "    print(max_rain)\n",
    "    \n",
    "processor()"
   ]
  },
  {
   "cell_type": "code",
   "execution_count": null,
   "metadata": {
    "collapsed": true
   },
   "outputs": [],
   "source": [
    "bridges = {'steel': (10, ['9', '2', '5']),\n",
    "          'stick': (1, ['3','2', '1']),\n",
    "            'suspension': (8,['2', '2','0'])\n",
    "          }"
   ]
  },
  {
   "cell_type": "code",
   "execution_count": null,
   "metadata": {
    "collapsed": true
   },
   "outputs": [],
   "source": [
    "def helper(t):\n",
    "    return t[1][0]\n",
    "\n",
    "max(bridges.items(), key=helper)"
   ]
  },
  {
   "cell_type": "code",
   "execution_count": null,
   "metadata": {
    "collapsed": true
   },
   "outputs": [],
   "source": [
    "class RainDay:\n",
    "    def __init__(self, date:str, total:str, hours: list):\n",
    "        self.date = date\n",
    "        self.total = int(total)\n",
    "        self.hours = [int(h)for h in hours]\n",
    "        \n",
    "    def __repr__(self):\n",
    "        message = '{} Total: {}'.format(self.date, self.total)\n",
    "        return message\n",
    "        \n",
    "    def max_hour(self):\n",
    "        hour, value = max(enumerate(rain), key=lambda t: t[1])\n",
    "        return hour"
   ]
  },
  {
   "cell_type": "markdown",
   "metadata": {
    "collapsed": true
   },
   "source": [
    "# Third party modules"
   ]
  },
  {
   "cell_type": "markdown",
   "metadata": {},
   "source": [
    "## Requests: Web scraping\n",
    "## Beautiful soup: Library for parsing Web/HTML text using '.' notation \n",
    "## Take unstructured data and remake as Python object\n",
    "## Pandas: Data science for processing data \n",
    "## nltk: Lexical analysis; word frequency; sentiment analysis \n",
    "## Sklearn\n"
   ]
  },
  {
   "cell_type": "markdown",
   "metadata": {},
   "source": [
    "# Python Classes"
   ]
  },
  {
   "cell_type": "code",
   "execution_count": null,
   "metadata": {
    "collapsed": true
   },
   "outputs": [],
   "source": [
    "class FrisbeeScrewdriver:   # class definition; you can provide METHODS or ACTIONS\n",
    "    \n",
    "    def __init__ (self, terminal_velocity, construction, vibranium):           \n",
    "        \"\"\"Overloads dunder init\"\"\"  # must be done; indented on above class; overloads the dunder init\n",
    "        self.terminal_velocity = terminal_velocity   # METHOD take each input and attach it to the instance. \n",
    "        self.construction = construction\n",
    "        self.vibranium = vibranium\n",
    "        \n",
    "    def __repr__ (self):  # MACHINE READABLE __repr__, __str__ both ways to product objects \n",
    "        message = \"FrisbeeScrewdriver({}, {}, {})\".format(self.terminal_velocity, self.construction, self.vibranium) \n",
    "        return message\n",
    "    \n",
    "    def __str__ (self):   # HUMAN READABLE\n",
    "        \"\"\"Human readable representation\"\"\"\n",
    "        return 'A FrisbeeScrewdriver traveling at {}'.format(self.terminal_velocity)  #self is used as a param\n",
    "        \n",
    "    def frolfth(self):   # INSTANCE METHOD\n",
    "        \"\"\"Instance method\"\"\"\n",
    "        print(\"A string that is um right okay\")\n",
    "        \n",
    "    def thitherate(self):\n",
    "        print(self.terminal_velocity * 9)\n",
    "        print('FORE')"
   ]
  },
  {
   "cell_type": "code",
   "execution_count": null,
   "metadata": {
    "collapsed": true
   },
   "outputs": [],
   "source": [
    "# Instantiation\n",
    "fs = FrisbeeScrewdriver(270,'Three tiered titanium', 'Stark Industries')  \n",
    "fs_dos = FrisbeeScrewdriver(20,'Balsam Wood', 'Lambda Corp.')   # lowercase at left;  UpperCase signifies class item at right"
   ]
  },
  {
   "cell_type": "code",
   "execution_count": null,
   "metadata": {
    "collapsed": true
   },
   "outputs": [],
   "source": [
    "print(fs)"
   ]
  },
  {
   "cell_type": "code",
   "execution_count": null,
   "metadata": {
    "collapsed": true
   },
   "outputs": [],
   "source": [
    "fs"
   ]
  },
  {
   "cell_type": "code",
   "execution_count": null,
   "metadata": {
    "collapsed": true
   },
   "outputs": [],
   "source": [
    "fs.frolfth"
   ]
  },
  {
   "cell_type": "code",
   "execution_count": null,
   "metadata": {
    "collapsed": true
   },
   "outputs": [],
   "source": [
    "fs.frolfth()   # ONLY ACCESSIBLE BY THE INSTANCE; YOU CAN ONLY IMPORT THE METHOD"
   ]
  },
  {
   "cell_type": "code",
   "execution_count": null,
   "metadata": {
    "collapsed": true
   },
   "outputs": [],
   "source": [
    "fs_dos.frolfth()"
   ]
  },
  {
   "cell_type": "code",
   "execution_count": null,
   "metadata": {
    "collapsed": true
   },
   "outputs": [],
   "source": [
    "fs.thitherate()"
   ]
  },
  {
   "cell_type": "markdown",
   "metadata": {},
   "source": [
    "# Encapsulation"
   ]
  },
  {
   "cell_type": "code",
   "execution_count": null,
   "metadata": {
    "collapsed": true
   },
   "outputs": [],
   "source": [
    "'Kieran'"
   ]
  },
  {
   "cell_type": "code",
   "execution_count": null,
   "metadata": {
    "collapsed": true
   },
   "outputs": [],
   "source": [
    "person = 'Kieran has a few ....'"
   ]
  },
  {
   "cell_type": "code",
   "execution_count": null,
   "metadata": {
    "collapsed": true
   },
   "outputs": [],
   "source": [
    "person = ['Kieran', 'presenter', 'quarter', 99]"
   ]
  },
  {
   "cell_type": "code",
   "execution_count": null,
   "metadata": {
    "collapsed": true
   },
   "outputs": [],
   "source": [
    "person = {'name': 'Kieran', 'pockets': ['presenter','keys'], 'backpack': list(), 'age': 99}  # DICTIONARY"
   ]
  },
  {
   "cell_type": "code",
   "execution_count": null,
   "metadata": {
    "collapsed": true
   },
   "outputs": [],
   "source": [
    "class Person:\n",
    "    def __init__ (self, name, pockets, backpack, age): \n",
    "        self.name = name\n",
    "        self.pockets = pockets\n",
    "        self.backpack = backpack\n",
    "        self.age = age"
   ]
  },
  {
   "cell_type": "code",
   "execution_count": null,
   "metadata": {
    "collapsed": true
   },
   "outputs": [],
   "source": [
    "me = Person('Kieran', 'pockets', '[]', 99)"
   ]
  },
  {
   "cell_type": "code",
   "execution_count": null,
   "metadata": {
    "collapsed": true
   },
   "outputs": [],
   "source": [
    "me()"
   ]
  },
  {
   "cell_type": "code",
   "execution_count": null,
   "metadata": {
    "collapsed": true
   },
   "outputs": [],
   "source": [
    "from bs4 import BeautifulSoup\n",
    "import requests\n",
    "import os\n",
    "\n",
    "BASE_URL = 'https://or.water.usgs.gov/precip/'"
   ]
  },
  {
   "cell_type": "code",
   "execution_count": null,
   "metadata": {
    "collapsed": true
   },
   "outputs": [],
   "source": [
    "response = requests.get(BASE_URL)\n",
    "raw = response.text\n",
    "soup = BeautifulSoup(raw, 'html.parser')"
   ]
  },
  {
   "cell_type": "code",
   "execution_count": null,
   "metadata": {
    "collapsed": true
   },
   "outputs": [],
   "source": [
    "soup.a"
   ]
  },
  {
   "cell_type": "code",
   "execution_count": null,
   "metadata": {
    "collapsed": true
   },
   "outputs": [],
   "source": [
    "anchor = soup.a"
   ]
  },
  {
   "cell_type": "code",
   "execution_count": null,
   "metadata": {
    "collapsed": true
   },
   "outputs": [],
   "source": [
    "anchor"
   ]
  },
  {
   "cell_type": "code",
   "execution_count": null,
   "metadata": {
    "collapsed": true
   },
   "outputs": [],
   "source": [
    "soup.img['alt']"
   ]
  },
  {
   "cell_type": "code",
   "execution_count": null,
   "metadata": {
    "collapsed": true
   },
   "outputs": [],
   "source": [
    "soup.find_all('a')"
   ]
  },
  {
   "cell_type": "code",
   "execution_count": null,
   "metadata": {
    "collapsed": true
   },
   "outputs": [],
   "source": [
    "[link['href'] for link in soup.find_all('a') if '.rain' in linke['href']]"
   ]
  },
  {
   "cell_type": "code",
   "execution_count": null,
   "metadata": {
    "collapsed": true
   },
   "outputs": [],
   "source": [
    "soup.div"
   ]
  },
  {
   "cell_type": "code",
   "execution_count": null,
   "metadata": {
    "collapsed": true
   },
   "outputs": [],
   "source": [
    ""
   ]
  },
  {
   "cell_type": "code",
   "execution_count": null,
   "metadata": {
    "collapsed": true
   },
   "outputs": [],
   "source": [
    "soup.div.a['href']"
   ]
  },
  {
   "cell_type": "code",
   "execution_count": null,
   "metadata": {
    "collapsed": true
   },
   "outputs": [],
   "source": [
    "soup.find_all('img')"
   ]
  },
  {
   "cell_type": "code",
   "execution_count": null,
   "metadata": {
    "collapsed": true
   },
   "outputs": [],
   "source": [
    "[img for img in soup.find_all('img') if '.jpg' in img['src']]"
   ]
  },
  {
   "cell_type": "code",
   "execution_count": null,
   "metadata": {
    "collapsed": true
   },
   "outputs": [],
   "source": [
    "[anchor['href'] for anchor in soup.find_all('a') if '.rain' in anchor['href']]"
   ]
  },
  {
   "cell_type": "code",
   "execution_count": null,
   "metadata": {
    "collapsed": true
   },
   "outputs": [],
   "source": [
    "[anchor['href'] for anchor in soup.find_all('a') if '.rain' in anchor['href']]"
   ]
  },
  {
   "cell_type": "code",
   "execution_count": null,
   "metadata": {
    "collapsed": true
   },
   "outputs": [],
   "source": [
    "[os.path.join(BASE_URL, anchor['href']) for anchor in soup.find_all('a') if '.rain' in anchor['href']]"
   ]
  },
  {
   "cell_type": "code",
   "execution_count": null,
   "metadata": {
    "collapsed": true
   },
   "outputs": [],
   "source": [
    "rengas = [[os.path.join(BASE_URL, anchor['href']) for anchor in soup.find_all('a') if '.rain' in anchor['href']]]"
   ]
  },
  {
   "cell_type": "code",
   "execution_count": null,
   "metadata": {
    "collapsed": true
   },
   "outputs": [],
   "source": [
    "# rainstation = [Rainstation(url=link) for link in rengas]\n",
    "\n",
    "rainstations = list()\n",
    "\n",
    "for link in rengas:\n",
    "    try:\n",
    "        rs = RainStation(url=link)\n",
    "        rainstations.append(rs)\n",
    "    except:\n",
    "        print(link)"
   ]
  },
  {
   "cell_type": "code",
   "execution_count": null,
   "metadata": {
    "collapsed": true
   },
   "outputs": [],
   "source": [
    "rainstations[3:10]"
   ]
  },
  {
   "cell_type": "code",
   "execution_count": null,
   "metadata": {
    "collapsed": true
   },
   "outputs": [],
   "source": [
    ""
   ]
  },
  {
   "cell_type": "code",
   "execution_count": null,
   "metadata": {
    "collapsed": true
   },
   "outputs": [],
   "source": [
    ""
   ]
  },
  {
   "cell_type": "code",
   "execution_count": null,
   "metadata": {
    "collapsed": true
   },
   "outputs": [],
   "source": [
    "class RainStation:\n",
    "    \n",
    "    def __init__(self, url: str): \n",
    "        self.url = url\n",
    "        self.raw_text = self.scrape_station()\n",
    "        name, address = self.parse_header()\n",
    "        self.name = name\n",
    "        self.address = address\n",
    "        \n",
    "        self.rain_data= list()\n",
    "        \n",
    "    def scrape_station(self):\n",
    "        response = requests.get(self.url)\n",
    "        raw_text = response.text\n",
    "        return raw_text\n",
    "        \n",
    "        #  soup = BeautifulSoup(response.text, 'html.parser')  # html.parser tells what language we're speaking\n",
    "        #  above soup not needed because we're importing csv, tsv\n",
    "        \n",
    "    def max_day(self):\n",
    "        pass\n",
    "    \n",
    "    def max_year(self):\n",
    "        pass\n",
    "    \n",
    "    def summary(self):\n",
    "        pass\n",
    "    \n",
    "    def parse_header(self):\n",
    "        name, address = self.raw_text.splitlines()[0].split(' - ')\n",
    "        return name, address\n",
    "    \n",
    "    def __repr__(self):\n",
    "        message = 'RainStation(name={}, address={}, url={})'.format(self.name, self.address, self.url)\n",
    "        return message\n",
    "                       \n",
    "        \n",
    "    def __str__(self):\n",
    "        message = 'This is the station name(name={}, address={})'.format(self.name, self.address, self.url)\n",
    "        return message"
   ]
  },
  {
   "cell_type": "code",
   "execution_count": null,
   "metadata": {
    "collapsed": true
   },
   "outputs": [],
   "source": [
    "rs = RainStation(url='https://or.water.usgs.gov/precip/hayden_island.rain')"
   ]
  },
  {
   "cell_type": "code",
   "execution_count": null,
   "metadata": {
    "collapsed": true
   },
   "outputs": [],
   "source": [
    "rs.name"
   ]
  },
  {
   "cell_type": "code",
   "execution_count": null,
   "metadata": {
    "collapsed": true
   },
   "outputs": [],
   "source": [
    "r = requests.get('https://or.water.usgs.gov/precip/hayden_island.rain')"
   ]
  },
  {
   "cell_type": "code",
   "execution_count": null,
   "metadata": {
    "collapsed": true
   },
   "outputs": [],
   "source": [
    "r.text"
   ]
  },
  {
   "cell_type": "code",
   "execution_count": null,
   "metadata": {
    "collapsed": true
   },
   "outputs": [],
   "source": [
    "data = \"\"\" Hayden Island Rain Gage - 1740 N. Jantzen Beach Ctr.\n",
    "\n",
    "PROVISIONAL, UNCORRECTED RAW DATA FROM THE CITY OF PORTLAND HYDRA NETWORK.\n",
    "Data are the number of tips of the rain gage bucket.\n",
    "Each tip is 0.01 inches of rainfall.\n",
    " [-, missing data]\n",
    "Dates and times are PACIFIC STANDARD TIME.\n",
    "\n",
    "            Daily  Hourly data -->\n",
    "   Date     Total    0   1   2   3   4   5   6   7   8   9  10  11  12  13  14  15  16  17  18  19  20  21  22  23\n",
    "------------------------------------------------------------------------------------------------------------------\n",
    "09-MAY-2017     0    0   0   0   0   0   0   0   0   0   0   0\n",
    "08-MAY-2017     0    0   0   0   0   0   0   0   0   0   0   0   0   0   0   0   0   0   0   0   0   0   0   0   0\n",
    "07-MAY-2017     0    0   0   0   0   0   0   0   0   0   0   0   0   0   0   0   0   0   0   0   0   0   0   0   0\n",
    "06-MAY-2017     1    0   0   1   0   0   0   0   0   0   0   0   0   0   0   0   0   0   0   0   0   0   0   0   0\n",
    "\"\"\""
   ]
  },
  {
   "cell_type": "code",
   "execution_count": null,
   "metadata": {
    "collapsed": true
   },
   "outputs": [],
   "source": [
    "name, address = data.splitlines()[0].split(' - ')"
   ]
  },
  {
   "cell_type": "code",
   "execution_count": null,
   "metadata": {
    "collapsed": true
   },
   "outputs": [],
   "source": [
    "print(name, address)"
   ]
  },
  {
   "cell_type": "code",
   "execution_count": null,
   "metadata": {
    "collapsed": true
   },
   "outputs": [],
   "source": [
    "class Account:\n",
    "    \"\"\"\n",
    "    \n",
    "    \"\"\"\n",
    "    def __init__(self, get_funds, deposit, check_withdrawal, withdraw, calc_interest, _balance, _interest_rate):\n",
    "        self.get_funds = get_funds\n",
    "        self.deposit = deposit\n",
    "        self.check_withdrawal = check_withdrawal\n",
    "        self.withdraw = withdraw\n",
    "        self.calc_interest = calc_interest\n",
    "        self._balance = 0\n",
    "        self._interest_rate = 0.1    # Correct ?\n",
    "\n",
    "    def __repr__(self):\n",
    "        message = f'Ledger balance: {self._balance}'\n",
    "        return message\n",
    "\n",
    "    def __str__(self):\n",
    "        message = f'Your current balance is {self._balance}'\n",
    "        return message\n",
    "\n",
    "    def get_funds(self):    # METHOD\n",
    "        \"\"\"\n",
    "        Return account balance\n",
    "        \"\"\"\n",
    "        # self.get_funds()\n",
    "\n",
    "    def deposit(self, amount: int):    # METHOD\n",
    "        \"\"\"\n",
    "        Deposit funds \n",
    "        \"\"\"\n",
    "        self._balance += amount\n",
    "        return self._balance\n",
    "\n",
    "\n",
    "        # self.deposit()\n",
    "\n",
    "    def check_withdrawal(self, amount: int):   # METHOD\n",
    "        \"\"\"\n",
    "        Return True (boolean) if large enough balance for a withdrawal\n",
    "        \"\"\"\n",
    "        # self.check_withdrawal()\n",
    "\n",
    "        if self.check_withdrawal < self._balance:\n",
    "\n",
    "            raise ValueError()\n",
    "            # if self.check_withdrawal > balance:\n",
    "            #     print('Insufficient funds.')\n",
    "\n",
    "    def withdraw(self, amount: int):    # METHOD\n",
    "        \"\"\"\n",
    "        \n",
    "        Withdraw allowed amount; raise value error if insufficient funds.\n",
    "        \"\"\"\n",
    "        # self.withdraw()\n",
    "\n",
    "    def calc_interest(self):    # METHOD\n",
    "        \"\"\"\n",
    "        Calculate and return interest on current account balance. \n",
    "        _interest_rate\n",
    "        \"\"\"\n",
    "\n",
    "\n",
    "\n",
    "pass"
   ]
  },
  {
   "cell_type": "code",
   "execution_count": null,
   "metadata": {
    "collapsed": true
   },
   "outputs": [],
   "source": [
    "Account"
   ]
  },
  {
   "cell_type": "code",
   "execution_count": null,
   "metadata": {
    "collapsed": true
   },
   "outputs": [],
   "source": [
    "user = Account('need funds',' my deposits', 'overdraft!', 'gimme money', 'Interested?', 'Ballyhoo', 'Rated?')"
   ]
  },
  {
   "cell_type": "code",
   "execution_count": null,
   "metadata": {
    "collapsed": true
   },
   "outputs": [],
   "source": [
    "user"
   ]
  },
  {
   "cell_type": "code",
   "execution_count": null,
   "metadata": {
    "collapsed": true
   },
   "outputs": [],
   "source": [
    "name = 'Anderson'"
   ]
  },
  {
   "cell_type": "code",
   "execution_count": null,
   "metadata": {
    "collapsed": true
   },
   "outputs": [],
   "source": [
    "last_three = name[0:3]"
   ]
  },
  {
   "cell_type": "code",
   "execution_count": null,
   "metadata": {
    "collapsed": true
   },
   "outputs": [],
   "source": [
    "last_three"
   ]
  },
  {
   "cell_type": "code",
   "execution_count": null,
   "metadata": {
    "collapsed": true
   },
   "outputs": [],
   "source": [
    "name = 'Cooper'"
   ]
  },
  {
   "cell_type": "code",
   "execution_count": null,
   "metadata": {
    "collapsed": true
   },
   "outputs": [],
   "source": [
    "\"\"\"\n",
    "# Practice: ATM Interface\n",
    "\n",
    "Save your solution in a directory in `practice/` named `atm-interface`.\n",
    "\n",
    "An account will be a class named `Account` in a module named `account`: it will have private attributes for the balance and interest rate.\n",
    "Remember to underscore `_` prefix any private attributes.\n",
    "A newly-instantiated account will have zero balance and an interest rate of 0.1%.\n",
    "\n",
    "Write instance methods in the account class that:\n",
    "\n",
    "* `get_funds()` Return account balance   need \n",
    "* `deposit(amount)` Deposit to the account\n",
    "* `check_withdrawal(amount)` Return `True` if large enough balance for a withdrawal\n",
    "* `withdraw(amount)` Withdraw an allowed amount; raise a `ValueError` if insufficent balance\n",
    "* `calc_interest()` Calculate and return interest on the current account balance\n",
    "\n",
    "I've already written out [some test code](/practice/atm-interface/account_test.py) that will check that your `Account` class behaves as expected.\n",
    "Save it as `account_test.py` in your solution directory.\n",
    "These tests should all pass for your `Account` implementation.\n",
    "Either run `py.test` from the `atm-interface` directory, or setup a PyCharm test Run Configuration.\n",
    "\n",
    "You should still write doctests for your functions that test internal implementation.\n",
    "E.g. Check that internal variables are set correctly.\n",
    "My classes can't do that since internal variables are not part of the defined behavior.\n",
    "\n",
    "\"\"\"\n",
    "import os\n",
    "import random as rd\n",
    "\n",
    "class Account:\n",
    "    \"\"\"\n",
    "    \n",
    "    \"\"\"\n",
    "    def __init__(self, name: str):\n",
    "        self.name = name\n",
    "        self._balance = 0\n",
    "        self._interest_rate = 0.1    # Correct ?\n",
    "\n",
    "        self._account_number = self.generate_account_number(name)\n",
    "\n",
    "    def __repr__(self):\n",
    "        message = f'Ledger balance: {self._balance}'\n",
    "        return message\n",
    "\n",
    "    def __str__(self):\n",
    "        message = f'Your current balance is {self._balance}'\n",
    "        return message\n",
    "\n",
    "    def generate_account_number(self, surname: str):\n",
    "        \n",
    "        first_three = surname[0:3]\n",
    "        result = rd.randint(100000, 300000)\n",
    "        six_dig = str(result)[0:7]  \n",
    "        account_number = first_three + six_dig\n",
    "\n",
    "        return account_number\n",
    "\n",
    "    def get_funds(self):    # METHOD\n",
    "        \"\"\"\n",
    "        Returns account balance\n",
    "        \"\"\"\n",
    "        return self._balance\n",
    "\n",
    "    def deposit(self, amount: int):    # METHOD\n",
    "        \"\"\"\n",
    "        Deposit funds \n",
    "        \"\"\"\n",
    "        self._balance += amount\n",
    "        return self._balance\n",
    "\n",
    "    def check_withdrawal(self, amount: int):   # METHOD\n",
    "        \"\"\"\n",
    "        Return True (boolean) if large enough balance for a withdrawal\n",
    "        \"\"\"\n",
    "\n",
    "        if self.check_withdrawal <= self._balance:\n",
    "            return True\n",
    "        else:\n",
    "            return False\n",
    "\n",
    "    def withdraw(self, amount: int):    # METHOD\n",
    "        \"\"\"\n",
    "        Withdraw allowed amount; raise value error if insufficient funds.\n",
    "        \"\"\"\n",
    "        if self.check_withdrawal(amount):\n",
    "            self._balance -= amount\n",
    "            return self._balance\n",
    "        else:\n",
    "            message = f'Insufficient funds.'\n",
    "            raise ValueError(message)\n",
    "\n",
    "    def calc_interest(self):    # METHOD\n",
    "        \"\"\"\n",
    "        Calculate and return interest on current account balance. \n",
    "        _interest_rate\n",
    "        \"\"\"\n",
    "        # TODO: If no 0 balance in 30-day period, add interest; else, no interest\n",
    "        interest = self._balance * self._interest_rate\n",
    "        return interest\n",
    "\n",
    "\n",
    "pass"
   ]
  },
  {
   "cell_type": "code",
   "execution_count": null,
   "metadata": {
    "collapsed": true
   },
   "outputs": [],
   "source": [
    "account = Account('latty')"
   ]
  },
  {
   "cell_type": "code",
   "execution_count": null,
   "metadata": {
    "collapsed": true
   },
   "outputs": [],
   "source": [
    "account.generate_account_number('larry')"
   ]
  },
  {
   "cell_type": "code",
   "execution_count": null,
   "metadata": {
    "collapsed": true
   },
   "outputs": [],
   "source": [
    ""
   ]
  },
  {
   "cell_type": "code",
   "execution_count": null,
   "metadata": {
    "collapsed": true
   },
   "outputs": [],
   "source": [
    "print('1: 20, 2: 40, 3: 60, 4: 80, 5: 100, 6: 200')\n",
    "wid_amt = {1: 20, 2: 40, 3: 60, 4: 80, 5: 100, 6: 200}    # TODO: Create 'other amount' option for key in value.\n",
    "wid_opt = input(\"Select number option for withdrawal amount>> \")\n",
    "\n",
    "\n",
    "wid_amt = {1: 20, 2: 40, 3: 60, 4: 80, 5: 100, 6: 200}    # TODO: Create 'other amount' option for key in value.\n",
    "# print(options)\n",
    "\n",
    "\n",
    "if wid_opt == wid_amt.value['1']:\n",
    "    print(wid_amt.value(1))\n",
    "   \n",
    "    \n",
    "# if wid_opt == wid_amt[2]:\n",
    "#     amount = wid_amt.get(2)\n",
    "#     print(amount)\n",
    "    \n",
    "# if wid_opt == wid_amt[3]:\n",
    "#     amount = wid_amt.get(3)\n",
    "#     print(amount)\n",
    "    \n",
    "# if wid_opt == wid_amt[4]:\n",
    "#     amount = wid_amt.get(4)\n",
    "#     print(amount)\n",
    "    \n",
    "# if wid_opt == wid_amt[5]:\n",
    "#     amount = wid_amt.get(5)\n",
    "#     print(amount)\n",
    "    \n",
    "# if wid_opt == wid_amt[6]:\n",
    "#     amount = wid_amt.get(6)\n",
    "#     print(amount)"
   ]
  },
  {
   "cell_type": "code",
   "execution_count": null,
   "metadata": {
    "collapsed": true
   },
   "outputs": [],
   "source": [
    "wid_amt = {1: 20, 2: 40, 3: 60, 4: 80, 5: 100, 6: 200, 7: exit}    # TODO: Create 'other amount' option for key in value.\n",
    "# print(options)"
   ]
  },
  {
   "cell_type": "code",
   "execution_count": null,
   "metadata": {
    "collapsed": true
   },
   "outputs": [],
   "source": [
    "print(wid_amt)"
   ]
  },
  {
   "cell_type": "code",
   "execution_count": null,
   "metadata": {
    "collapsed": true
   },
   "outputs": [],
   "source": [
    "wid_amt[1]"
   ]
  },
  {
   "cell_type": "code",
   "execution_count": null,
   "metadata": {
    "collapsed": true
   },
   "outputs": [],
   "source": [
    "wid_amt[2]"
   ]
  },
  {
   "cell_type": "code",
   "execution_count": null,
   "metadata": {
    "collapsed": true
   },
   "outputs": [],
   "source": [
    "wid_amt.get(1)"
   ]
  },
  {
   "cell_type": "code",
   "execution_count": null,
   "metadata": {
    "collapsed": true
   },
   "outputs": [],
   "source": [
    "wid_amt.get(2)"
   ]
  },
  {
   "cell_type": "code",
   "execution_count": null,
   "metadata": {
    "collapsed": true
   },
   "outputs": [],
   "source": [
    "wid_amt.get(7)"
   ]
  },
  {
   "cell_type": "code",
   "execution_count": null,
   "metadata": {
    "collapsed": true
   },
   "outputs": [],
   "source": [
    "options = {'1: balance, 2: withdrawal, 3: deposit, 4: interest YTD, 5: exit'}    # purpose anymore?\n",
    "print(options)\n",
    "\n",
    "if userinp == options[1]:"
   ]
  },
  {
   "cell_type": "code",
   "execution_count": null,
   "metadata": {
    "collapsed": true
   },
   "outputs": [],
   "source": [
    "# Create a function\n",
    "# Functions accepts a ceiling value\n",
    "# accepts a range 2-10 ceiling\n",
    "# try to divide every number into each number in that range\n",
    "# if any division is % == 0, number is not prime\n",
    "# try"
   ]
  },
  {
   "cell_type": "code",
   "execution_count": null,
   "metadata": {
    "collapsed": true
   },
   "outputs": [],
   "source": [
    "# MAKE PRIMES\n",
    "\n",
    "def is_prime(number: int) ->bool: \n",
    "     \n",
    "    \n",
    "    if prime:\n",
    "        return True\n",
    "    else:\n",
    "        return False\n",
    "\n",
    "def make_primes(ceiling:int) ->list:\n",
    "    numbers = range(2, ceiling)\n",
    "    for num in numbers"
   ]
  },
  {
   "cell_type": "code",
   "execution_count": null,
   "metadata": {
    "collapsed": true
   },
   "outputs": [],
   "source": [
    "class FrenchDeck\n",
    "    def __init__ (self, name: str):\n",
    "        self.name = name\n",
    "        \n",
    "        suits = ['Hearts', 'Clubs', 'Diamonds', 'Spades']\n",
    "        ranks = [num for num in range(2,11)] + list('JQKA')\n",
    "         \n",
    "        self.cards = list()"
   ]
  },
  {
   "cell_type": "code",
   "execution_count": null,
   "metadata": {
    "collapsed": true
   },
   "outputs": [],
   "source": [
    "wid_amt = {1: 20, 2: 40, 3: 60, 4: 80, 5: 100, 6: 200}    # TODO: Create 'other amount' option for key in value."
   ]
  },
  {
   "cell_type": "code",
   "execution_count": null,
   "metadata": {
    "collapsed": true
   },
   "outputs": [],
   "source": [
    "wid_amt[1]"
   ]
  },
  {
   "cell_type": "code",
   "execution_count": null,
   "metadata": {
    "collapsed": true
   },
   "outputs": [],
   "source": [
    "wid_amt.keys()"
   ]
  },
  {
   "cell_type": "code",
   "execution_count": null,
   "metadata": {
    "collapsed": true
   },
   "outputs": [],
   "source": [
    "wid_amt.values()"
   ]
  },
  {
   "cell_type": "code",
   "execution_count": null,
   "metadata": {
    "collapsed": true
   },
   "outputs": [],
   "source": [
    "wid_amt[6]"
   ]
  },
  {
   "cell_type": "code",
   "execution_count": null,
   "metadata": {
    "collapsed": true
   },
   "outputs": [],
   "source": [
    ""
   ]
  },
  {
   "cell_type": "code",
   "execution_count": null,
   "metadata": {
    "collapsed": true
   },
   "outputs": [],
   "source": [
    ""
   ]
  },
  {
   "cell_type": "markdown",
   "metadata": {
    "collapsed": true
   },
   "source": [
    "# Generator/Yield Functions Review"
   ]
  },
  {
   "cell_type": "code",
   "execution_count": null,
   "metadata": {
    "collapsed": true
   },
   "outputs": [],
   "source": [
    "def even_integers_function(n):\n",
    "    result = []             # Establish an empty list to capture values iterated\n",
    "    for i in range(n):      # \n",
    "        if i % 2 == 0:        \n",
    "            result.append(i)\n",
    "    return result"
   ]
  },
  {
   "cell_type": "code",
   "execution_count": null,
   "metadata": {
    "collapsed": true
   },
   "outputs": [],
   "source": [
    "even_integers_function(10)"
   ]
  },
  {
   "cell_type": "code",
   "execution_count": null,
   "metadata": {
    "collapsed": true
   },
   "outputs": [],
   "source": [
    ""
   ]
  },
  {
   "cell_type": "code",
   "execution_count": null,
   "metadata": {
    "collapsed": true
   },
   "outputs": [],
   "source": [
    "# fibo sequence:         \n",
    "# a, b = b, a + b"
   ]
  },
  {
   "cell_type": "code",
   "execution_count": null,
   "metadata": {
    "collapsed": true
   },
   "outputs": [],
   "source": [
    "def even_integers_generator(n: int):\n",
    "    for i in range(n):\n",
    "        if i % 2 == 0:\n",
    "            yield i"
   ]
  },
  {
   "cell_type": "code",
   "execution_count": null,
   "metadata": {
    "collapsed": true
   },
   "outputs": [],
   "source": [
    "def fibo(num: int):\n",
    "    result = list()\n",
    "    a, b = 0, 1\n",
    "    while b < 20:\n",
    "        result.append(b)\n",
    "        a, b = b, a+b\n",
    "    print(result)\n",
    "fibo(0)"
   ]
  },
  {
   "cell_type": "code",
   "execution_count": null,
   "metadata": {},
   "outputs": [],
   "source": [
    "def fibo(num: int):\n",
    "    result = list()\n",
    "    a, b = 0, 1\n",
    "    while b < 30:\n",
    "        result.append(b)\n",
    "        a, b = b, a+b\n",
    "    print(result)\n",
    "    \n",
    "fibo(0)"
   ]
  },
  {
   "cell_type": "code",
   "execution_count": null,
   "metadata": {
    "collapsed": true
   },
   "outputs": [],
   "source": [
    "def fibo(num: int):\n",
    "    result = list()\n",
    "    a, b = 0, 1\n",
    "    while b < 10:\n",
    "        result.append(b)\n",
    "        a, b = b, a+b\n",
    "        \n",
    "    print(result)\n",
    "\n",
    "\n",
    "fibo(0)"
   ]
  },
  {
   "cell_type": "code",
   "execution_count": null,
   "metadata": {},
   "outputs": [],
   "source": [
    "def fibo(num: int):\n",
    "    result = list()\n",
    "    a, b = 0, 1\n",
    "    while b < 10:\n",
    "        result.append(b)\n",
    "        a, b = b, a+b\n",
    "    print(result)\n",
    "fibo(0)"
   ]
  },
  {
   "cell_type": "code",
   "execution_count": null,
   "metadata": {
    "collapsed": true
   },
   "outputs": [],
   "source": [
    "class Steve:\n",
    "    pass"
   ]
  },
  {
   "cell_type": "code",
   "execution_count": null,
   "metadata": {
    "collapsed": true
   },
   "outputs": [],
   "source": [
    "class Deck:"
   ]
  },
  {
   "cell_type": "code",
   "execution_count": null,
   "metadata": {
    "collapsed": true
   },
   "outputs": [],
   "source": [
    "account_number = [4, 5, 5, 6, 7, 3, 7, 5, 8, 6, 8, 9, 9, 8, 5, 5]\n",
    "\n",
    "def validate(account_number: int):\n",
    "    x = account_number.pop()\n",
    "    y = account_number[::-1]\n",
    "\n",
    "    result = list()  # build an empty list.\n",
    "\n",
    "    for i in y:\n",
    "        doubled = i * 2  # must be assigned a new name so as not to override the loop variable.\n",
    "        if doubled > 9:\n",
    "            doubled -= 9\n",
    "        result.append(doubled)\n",
    "\n",
    "    total = sum(result)\n",
    "    stringy = str(total)\n",
    "\n",
    "    if stringy[1] == x:\n",
    "        print('Valid!')\n",
    "    elif stringy[1] != x:\n",
    "        print('Invalid!')\n",
    "\n",
    "\n",
    "#   result = int(sum(zz))\n",
    "\n",
    "# print(total)\n",
    "        \n",
    "    \n",
    "# print(result)\n",
    "\n",
    "\n",
    "# for i in y(): \n",
    "#     y[i] * 2 \n",
    "# return i"
   ]
  },
  {
   "cell_type": "code",
   "execution_count": null,
   "metadata": {
    "collapsed": true
   },
   "outputs": [],
   "source": [
    "y"
   ]
  },
  {
   "cell_type": "code",
   "execution_count": null,
   "metadata": {
    "collapsed": true
   },
   "outputs": [],
   "source": [
    "account_number = [4, 5, 5, 6, 7, 3, 7, 5, 8, 6, 8, 9, 9, 8, 5, 5]\n",
    "x = account_number.pop()"
   ]
  },
  {
   "cell_type": "code",
   "execution_count": null,
   "metadata": {
    "collapsed": true
   },
   "outputs": [],
   "source": [
    "x"
   ]
  },
  {
   "cell_type": "code",
   "execution_count": null,
   "metadata": {
    "collapsed": true
   },
   "outputs": [],
   "source": [
    "\"\"\"\n",
    "\n",
    ">>> validate([4, 5, 5, 6, 7, 3, 7, 5, 8, 6, 8, 9, 9, 8, 5, 5])\n",
    "Valid!\n",
    "\n",
    ">>> validate([6, 5, 1, 6, 4, 3, 7, 5, 1, 6, 4, 9, 3, 8, 5, 4])\n",
    "Invalid!\n",
    "\n",
    "\n",
    "##### Instructions\n",
    "\n",
    "1. Slice off the last digit.  That is the **check digit**.\n",
    "2. Reverse the digits.\n",
    "3. Double every other element in the reversed list.\n",
    "4. Subtract nine from numbers over nine.\n",
    "5. Sum all values.\n",
    "6. Take the second digit of that sum.\n",
    "7. If that matches the check digit, the whole card number is valid.\n",
    "\n",
    "For example, the worked out steps would be:\n",
    "\n",
    "```\n",
    "1. `4  5  5  6  7  3  7  5  8  6  8  9  9  8  5  5`\n",
    "2. `4  5  5  6  7  3  7  5  8  6  8  9  9  8  5`\n",
    "3. `5  8  9  9  8  6  8  5  7  3  7  6  5  5  4`\n",
    "4. `10 8  18 9  16 6  16 5  14 3  14 6  10 5  8`\n",
    "5. `1  8  9  9  7  6  7  5  5  3  5  6  1  5  8`\n",
    "6. 85\n",
    "7. 5\n",
    "8. Valid!\n",
    "\"\"\"\n",
    "\n",
    "\n",
    "def validate(account_number: int):\n",
    "    x = account_number.pop()\n",
    "    y = account_number[::-1]\n",
    "\n",
    "    result = list()  # build an empty list.\n",
    "\n",
    "    for i in y:\n",
    "        doubled = i * 2  # must be assigned a new name so as not to override the loop variable.\n",
    "        if doubled > 9:\n",
    "            doubled -= 9\n",
    "        result.append(doubled)\n",
    "\n",
    "    total = sum(result)\n",
    "    print(total)\n",
    "    stringy = str(total)\n",
    "\n",
    "    if stringy[1] == x:\n",
    "        print('Valid!')\n",
    "    elif stringy[1] != x:\n",
    "        print('Invalid')"
   ]
  },
  {
   "cell_type": "code",
   "execution_count": null,
   "metadata": {
    "collapsed": true
   },
   "outputs": [],
   "source": [
    "validate(account_number)"
   ]
  },
  {
   "cell_type": "code",
   "execution_count": null,
   "metadata": {
    "collapsed": true
   },
   "outputs": [],
   "source": [
    "account_number = [4, 5, 5, 6, 7, 3, 7, 5, 8, 6, 8, 9, 9, 8, 5, 5]\n",
    "\n",
    "def validate(account_number):\n",
    "    check_dig = account_number.pop()\n",
    "    rev_num = account_number[::-1]\n",
    "\n",
    "    result = list()                         # build an empty list.\n",
    "    for index, num in enumerate(rev_num):   # tuple unpacking\n",
    "        if index % 2 == 0:\n",
    "            doubled = num * 2               # must be assigned a new name so as not to override the loop variable.\n",
    "        if doubled >= 9:\n",
    "            doubled = doubled - 9\n",
    "        result.append(doubled)\n",
    "        print(result)\n",
    "\n",
    "    total = sum(result)\n",
    "    stringy = str(total)\n",
    "\n",
    "    if stringy[1] == check_dig:\n",
    "        print('Valid!')\n",
    "    elif stringy[1] != check_dig:\n",
    "        print('Invalid!')"
   ]
  },
  {
   "cell_type": "code",
   "execution_count": null,
   "metadata": {
    "collapsed": true
   },
   "outputs": [],
   "source": [
    "validate(account_number)"
   ]
  },
  {
   "cell_type": "code",
   "execution_count": null,
   "metadata": {
    "collapsed": true
   },
   "outputs": [],
   "source": [
    "account_number = [4, 5, 5, 6, 7, 3, 7, 5, 8, 6, 8, 9, 9, 8, 5, 5]\n",
    "\n",
    "\n",
    "def validate(account_number):\n",
    "    check_dig = account_number.pop()\n",
    "    rev_num = account_number[::-1]\n",
    "\n",
    "    result = list()                         # build an empty list.\n",
    "    for index, num in enumerate(rev_num):   # tuple unpacking\n",
    "        if index % 2 == 0:                  # if index value is 'even', or divisible by 2.\n",
    "            doubled = num * 2               # double each even value of 'num' as it iterates over list\n",
    "            if doubled > 9:                 # if doubled value (result) is greater than 9\n",
    "                doubled = doubled - 9       # take that doubled value and subtract 9\n",
    "        else:                               # else\n",
    "            doubled = num                   # append the original number to the result list (leaky loop problem)\n",
    "\n",
    "        result.append(doubled)              # finally append result, the list, with the doubled after transformations\n",
    "\n",
    "    stringy = int(str(sum(result))[1])      # sum the above result, cast as string, at 1th pos., now cast as integer.\n",
    "\n",
    "    if stringy == check_dig:                # with stringy, as int, and compare w check_dig, if match;\n",
    "        print('Valid!')                     # print 'Valid!'\n",
    "    elif stringy != check_dig:              # with stringy, as int, and compare w check_dig, if NO match;\n",
    "        print('Invalid!')    \n",
    "        \n",
    "validate([4, 5, 5, 6, 7, 3, 7, 5, 8, 6, 8, 9, 9, 8, 5, 5])"
   ]
  },
  {
   "cell_type": "code",
   "execution_count": null,
   "metadata": {
    "collapsed": true
   },
   "outputs": [],
   "source": [
    "words = ['complete', 'absolute', 'positive']\n",
    "\n",
    "\n",
    "def adverber(data: str) -> str:\n",
    "\n",
    "    for word in words:\n",
    "        word += 'ly'\n",
    "    print(word)\n",
    "adverber('word')\n",
    "        #         if word.isalpha():\n",
    "\n",
    "    \n",
    "#     result = list()\n",
    "    \n",
    "#     for index, word in enumerate(words):\n",
    "# #       result = str(word) + result.append('ly')\n",
    "#         result = word.append('ly')\n",
    "        \n",
    "#         print(result)"
   ]
  },
  {
   "cell_type": "code",
   "execution_count": null,
   "metadata": {
    "collapsed": true
   },
   "outputs": [],
   "source": [
    "words = ['complete', 'absolute', 'positive', 'definite', 'beautiful']\n",
    "\n",
    "def enumerator(data: str) -> str:\n",
    "    result = list()\n",
    "    for index, word in enumerate(words):\n",
    "        result.append(word +'ly')\n",
    "    print(result)\n",
    "\n",
    "enumerator('word')"
   ]
  },
  {
   "cell_type": "code",
   "execution_count": null,
   "metadata": {
    "collapsed": true
   },
   "outputs": [],
   "source": [
    "words = ['complete', 'absolute', 'positive', 'definite', 'beautiful']\n",
    "\n",
    "def adverber(data: str) -> str:\n",
    "    for word in words:\n",
    "       word += 'ly'\n",
    "       print(word)\n",
    "        \n",
    "adverber('word')"
   ]
  },
  {
   "cell_type": "code",
   "execution_count": null,
   "metadata": {
    "collapsed": true
   },
   "outputs": [],
   "source": [
    "words"
   ]
  },
  {
   "cell_type": "code",
   "execution_count": null,
   "metadata": {
    "collapsed": true
   },
   "outputs": [],
   "source": [
    "adverber('blah')"
   ]
  },
  {
   "cell_type": "code",
   "execution_count": null,
   "metadata": {
    "collapsed": true
   },
   "outputs": [],
   "source": [
    "def fibo(data: int) ->int:\n",
    "    \n",
    "    a, b = 1, 1\n",
    "\n",
    "    for i in range(2, 10):\n",
    "    \n",
    "        a, b = b, a + b\n",
    "    return a\n",
    "\n",
    "fibo(10)"
   ]
  },
  {
   "cell_type": "code",
   "execution_count": null,
   "metadata": {},
   "outputs": [],
   "source": [
    "shrink ='1235'\n",
    "\n",
    "# >>> shrink('13')\n",
    "# 4\n",
    "\n",
    "# >>> shrink('1123581321')\n",
    "# 9\n",
    "\n",
    "def shrinker(data: int) ->int:\n",
    "    \n",
    "    result = list(shrink)\n",
    "    nums = int(result)\n",
    "    \n",
    "# #     sum(result)\n",
    "    print(result)\n",
    "    \n",
    "shrinker(0)"
   ]
  },
  {
   "cell_type": "code",
   "execution_count": null,
   "metadata": {},
   "outputs": [],
   "source": [
    "sum(result)"
   ]
  },
  {
   "cell_type": "code",
   "execution_count": null,
   "metadata": {},
   "outputs": [],
   "source": [
    "shrink ='1235'\n",
    "result = sum([int(i) for i in shrink])\n",
    "print(result)"
   ]
  },
  {
   "cell_type": "code",
   "execution_count": null,
   "metadata": {},
   "outputs": [],
   "source": [
    "data ='1235'\n",
    "def shrink(data: int) ->int:\n",
    "    data = list()\n",
    "    result = [i for i in data]\n",
    "    result2 = sum(int(result)\n",
    "    print(result2)\n",
    "\n",
    "shrink(0)"
   ]
  },
  {
   "cell_type": "code",
   "execution_count": null,
   "metadata": {
    "collapsed": true
   },
   "outputs": [],
   "source": [
    "a = 'music'\n",
    "def spell_out(a):\n",
    "    for item in a:\n",
    "        print(item)"
   ]
  },
  {
   "cell_type": "code",
   "execution_count": null,
   "metadata": {},
   "outputs": [],
   "source": [
    "spell_out(a)"
   ]
  },
  {
   "cell_type": "code",
   "execution_count": null,
   "metadata": {
    "collapsed": true
   },
   "outputs": [],
   "source": [
    "b = [17, 28, 42, 31, 12]\n",
    "\n",
    "\n",
    "def first_and_last(b):\n",
    "    for item in b:\n",
    "        break\n",
    "    print(b[0], b[-1], sep='\\n')"
   ]
  },
  {
   "cell_type": "code",
   "execution_count": null,
   "metadata": {},
   "outputs": [],
   "source": [
    "first_and_last(b)"
   ]
  },
  {
   "cell_type": "code",
   "execution_count": null,
   "metadata": {
    "collapsed": true
   },
   "outputs": [],
   "source": [
    "quote = \"In the end, it\\'s concluded that the airspeed velocity of a (European) unladen swallow is about 24 miles per hour or 11 meters per second. But, the real question is not about swallows at all.\"\n",
    "\n",
    "\n",
    "def shortest_to_longest(quote:str):\n",
    "#     a = quote.replace('\\','').replace('\"', '')\n",
    "    b = list(ord(a))\n",
    "\n",
    "    while i < len(b):\n",
    "        i =+ 1\n",
    "        print(b)"
   ]
  },
  {
   "cell_type": "code",
   "execution_count": null,
   "metadata": {},
   "outputs": [],
   "source": [
    "shortest_to_longest('quote')"
   ]
  },
  {
   "cell_type": "code",
   "execution_count": null,
   "metadata": {},
   "outputs": [],
   "source": [
    "import string\n",
    "\n",
    "# a in string.ascii_letters\n",
    "\n",
    "string.ascii_letters"
   ]
  },
  {
   "cell_type": "code",
   "execution_count": null,
   "metadata": {},
   "outputs": [],
   "source": [
    "string.digits"
   ]
  },
  {
   "cell_type": "code",
   "execution_count": null,
   "metadata": {},
   "outputs": [],
   "source": [
    "string.whitespace"
   ]
  },
  {
   "cell_type": "code",
   "execution_count": null,
   "metadata": {},
   "outputs": [],
   "source": [
    "string.ascii_letters"
   ]
  },
  {
   "cell_type": "code",
   "execution_count": null,
   "metadata": {},
   "outputs": [],
   "source": [
    "quote = \"In the end, it's concluded that the airspeed velocity of a (European) unladen swallow is about 24 miles per hour or 11 meters per second. But, the real question is not about swallows at all.\"\n",
    "\n",
    "def shortest_to_longest(quote: str):\n",
    "    a = quote.replace('\\\\','')\n",
    "    b = list(ord(a))\n",
    "    print(b)"
   ]
  },
  {
   "cell_type": "code",
   "execution_count": null,
   "metadata": {},
   "outputs": [],
   "source": [
    ""
   ]
  },
  {
   "cell_type": "code",
   "execution_count": null,
   "metadata": {
    "collapsed": true
   },
   "outputs": [],
   "source": [
    ""
   ]
  },
  {
   "cell_type": "markdown",
   "metadata": {},
   "source": [
    "# CSS: The Position Property"
   ]
  },
  {
   "cell_type": "markdown",
   "metadata": {},
   "source": [
    "## Resources: \n",
    "### https://developer.mozilla.org/en-US/docs/Web/CSS/position\n",
    "### https://www.w3schools.com/cssref/pr_class_position.asp"
   ]
  },
  {
   "cell_type": "markdown",
   "metadata": {},
   "source": [
    "### Definition: The position property specifies the type of positioning method used for an element (static, relative, absolute or fixed)\n",
    "\n",
    "\n",
    "## Options:   \n",
    "###  \n",
    "###  >> Static (*default): Not affected by top, bottom, left, right  properties. \n",
    "###  >> Absolute: An element with position: absolute; is positioned relative to the nearest positioned ancestor \n",
    "###  >> Relative:  positioned relative to its normal position. (? Best compatible with Flexbox?) \n",
    "### (instead of positioned relative to the viewport, like fixed).\n",
    "###  >> Fixed: Positioned relative to the viewport, which means it always stays in the \n",
    "###  same place even if the page is scrolled.\n",
    "### >> Sticky:   The box position is calculated according to the normal flow (this is called the position in normal \n",
    "### flow). Then the box is offset relative to its flow root and containing block and in all cases, including table \n",
    "### elements, does not affect the position of any following boxes.\n",
    "\n",
    "### initial\n",
    "### inherit "
   ]
  },
  {
   "cell_type": "markdown",
   "metadata": {},
   "source": [
    "# Normal flow: Inline: or Block"
   ]
  },
  {
   "cell_type": "markdown",
   "metadata": {},
   "source": [
    "### In the css you can also add:    display: inline-block;\n",
    "                                    "
   ]
  },
  {
   "cell_type": "markdown",
   "metadata": {},
   "source": [
    "# Gotchas/ Pitfalls\n",
    "\n",
    "## Absolute\n",
    "### The catch is that your layout may look great on your screen, at your window size and the text size you've chosen (not to mention OS), but as soon as someone else views your layout with any of those variables different from yours, things start to go wrong. *(Depends on users' screen res; depends on percentages).\n",
    "## Relative\n",
    "### \n",
    "\n",
    "## Fixed:\n",
    "### If element/box is fixed, it may be intentional in say, a flexbox design.\n"
   ]
  },
  {
   "cell_type": "code",
   "execution_count": null,
   "metadata": {
    "collapsed": true
   },
   "outputs": [],
   "source": [
    ""
   ]
  },
  {
   "cell_type": "code",
   "execution_count": null,
   "metadata": {
    "collapsed": true
   },
   "outputs": [],
   "source": [
    ""
   ]
  },
  {
   "cell_type": "code",
   "execution_count": null,
   "metadata": {
    "collapsed": true
   },
   "outputs": [],
   "source": [
    ""
   ]
  },
  {
   "cell_type": "code",
   "execution_count": null,
   "metadata": {
    "collapsed": true
   },
   "outputs": [],
   "source": [
    ""
   ]
  },
  {
   "cell_type": "code",
   "execution_count": null,
   "metadata": {
    "collapsed": true
   },
   "outputs": [],
   "source": [
    ""
   ]
  },
  {
   "cell_type": "code",
   "execution_count": null,
   "metadata": {
    "collapsed": true
   },
   "outputs": [],
   "source": [
    ""
   ]
  },
  {
   "cell_type": "code",
   "execution_count": null,
   "metadata": {
    "collapsed": true
   },
   "outputs": [],
   "source": [
    ""
   ]
  },
  {
   "cell_type": "code",
   "execution_count": null,
   "metadata": {
    "collapsed": true
   },
   "outputs": [],
   "source": [
    ""
   ]
  },
  {
   "cell_type": "code",
   "execution_count": null,
   "metadata": {
    "collapsed": true
   },
   "outputs": [],
   "source": [
    ""
   ]
  },
  {
   "cell_type": "code",
   "execution_count": null,
   "metadata": {
    "collapsed": true
   },
   "outputs": [],
   "source": [
    ""
   ]
  },
  {
   "cell_type": "code",
   "execution_count": null,
   "metadata": {
    "collapsed": true
   },
   "outputs": [],
   "source": [
    ""
   ]
  },
  {
   "cell_type": "code",
   "execution_count": null,
   "metadata": {
    "collapsed": true
   },
   "outputs": [],
   "source": [
    ""
   ]
  },
  {
   "cell_type": "code",
   "execution_count": null,
   "metadata": {
    "collapsed": true
   },
   "outputs": [],
   "source": [
    ""
   ]
  },
  {
   "cell_type": "code",
   "execution_count": null,
   "metadata": {
    "collapsed": true
   },
   "outputs": [],
   "source": [
    ""
   ]
  },
  {
   "cell_type": "code",
   "execution_count": null,
   "metadata": {
    "collapsed": true
   },
   "outputs": [],
   "source": [
    ""
   ]
  }
 ],
 "metadata": {
  "kernelspec": {
   "display_name": "Python 3",
   "language": "python",
   "name": "python3"
  },
  "language_info": {
   "codemirror_mode": {
    "name": "ipython",
    "version": 3.0
   },
   "file_extension": ".py",
   "mimetype": "text/x-python",
   "name": "python",
   "nbconvert_exporter": "python",
   "pygments_lexer": "ipython3",
   "version": "3.6.0"
  }
 },
 "nbformat": 4,
 "nbformat_minor": 0
}